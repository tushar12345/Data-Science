{
  "nbformat": 4,
  "nbformat_minor": 0,
  "metadata": {
    "colab": {
      "name": "Jupyter Experiment.ipynb",
      "provenance": [],
      "collapsed_sections": [],
      "authorship_tag": "ABX9TyNl+q7Q23JjyRjYCs5qqiI7",
      "include_colab_link": true
    },
    "kernelspec": {
      "name": "python3",
      "display_name": "Python 3"
    }
  },
  "cells": [
    {
      "cell_type": "markdown",
      "metadata": {
        "id": "view-in-github",
        "colab_type": "text"
      },
      "source": [
        "<a href=\"https://colab.research.google.com/github/tushar12345/Data-Science-Projects/blob/master/Jupyter_Experiment.ipynb\" target=\"_parent\"><img src=\"https://colab.research.google.com/assets/colab-badge.svg\" alt=\"Open In Colab\"/></a>"
      ]
    },
    {
      "cell_type": "code",
      "metadata": {
        "id": "kTTiYAVMy32T",
        "colab_type": "code",
        "colab": {}
      },
      "source": [
        ""
      ],
      "execution_count": 0,
      "outputs": []
    },
    {
      "cell_type": "markdown",
      "metadata": {
        "id": "76iQanZ0z1wm",
        "colab_type": "text"
      },
      "source": [
        "**Jupyter Notebbok** : it is a open source web application widely used by data scientiests and machine learning practitioners.\n",
        "\n",
        "\n",
        "---\n",
        "\n",
        "It can be installed localy or accessed through variety of cloud service Google colab ,Azure notebooks, Amazon sagemaker. "
      ]
    },
    {
      "cell_type": "markdown",
      "metadata": {
        "id": "sm_knX8ZDQko",
        "colab_type": "text"
      },
      "source": [
        "**Jupyter Notebook** is an open-source web application that is widely used by data scientists and machine learning practitioners. Jupyter has a rich user interface to create formatted text, add images, high quality math markup, as well as live code in a variety of languages, including Python. Code within a notebook can produce rich, high quality output such as images, video, audio, and custom MIME types. Jupyter is designed to be interactive, which is particularly useful for data science and machine learning.\n",
        "\n",
        "Jupyter can be installed locally, or accessed through a variety of cloud services, such as Google Colab, Amazon Sagemaker, Microsoft Azure, IBM Watson and many others."
      ]
    },
    {
      "cell_type": "code",
      "metadata": {
        "id": "XFtOXnPf39D6",
        "colab_type": "code",
        "outputId": "9ae70a09-4acd-46c3-b645-59c351e135bb",
        "colab": {
          "base_uri": "https://localhost:8080/",
          "height": 201
        }
      },
      "source": [
        "x=0\n",
        "while x < 10:\n",
        "  print(x)\n",
        "  x += 1"
      ],
      "execution_count": 0,
      "outputs": [
        {
          "output_type": "stream",
          "text": [
            "0\n",
            "1\n",
            "2\n",
            "3\n",
            "4\n",
            "5\n",
            "6\n",
            "7\n",
            "8\n",
            "9\n"
          ],
          "name": "stdout"
        }
      ]
    },
    {
      "cell_type": "code",
      "metadata": {
        "id": "Gyw_k-yy1RoX",
        "colab_type": "code",
        "outputId": "f13dee84-a5ad-48dd-f565-10c85583d4d9",
        "colab": {
          "base_uri": "https://localhost:8080/",
          "height": 201
        }
      },
      "source": [
        "for i in range(10):\n",
        "  print(i)"
      ],
      "execution_count": 0,
      "outputs": [
        {
          "output_type": "stream",
          "text": [
            "0\n",
            "1\n",
            "2\n",
            "3\n",
            "4\n",
            "5\n",
            "6\n",
            "7\n",
            "8\n",
            "9\n"
          ],
          "name": "stdout"
        }
      ]
    },
    {
      "cell_type": "code",
      "metadata": {
        "id": "nYjaBel94Jd1",
        "colab_type": "code",
        "outputId": "fadbaabf-ba63-4a0e-c910-de91e9714be8",
        "colab": {
          "base_uri": "https://localhost:8080/",
          "height": 35
        }
      },
      "source": [
        "print(\"hello World!\")"
      ],
      "execution_count": 0,
      "outputs": [
        {
          "output_type": "stream",
          "text": [
            "hello World!\n"
          ],
          "name": "stdout"
        }
      ]
    },
    {
      "cell_type": "markdown",
      "metadata": {
        "id": "AL2q9bHH1NWf",
        "colab_type": "text"
      },
      "source": [
        ""
      ]
    },
    {
      "cell_type": "code",
      "metadata": {
        "id": "X44CqZ4wC4l5",
        "colab_type": "code",
        "colab": {
          "base_uri": "https://localhost:8080/",
          "height": 256
        },
        "outputId": "c82b3355-43a4-4196-f18f-93f504e9a1a1"
      },
      "source": [
        "        %time\n",
        "        print('Table of squares')\n",
        "        for i in range(10):\n",
        "          print(f'{i} times {i} = {i*i}')"
      ],
      "execution_count": 5,
      "outputs": [
        {
          "output_type": "stream",
          "text": [
            "CPU times: user 2 µs, sys: 0 ns, total: 2 µs\n",
            "Wall time: 6.2 µs\n",
            "Table of squares\n",
            "0 times 0 = 0\n",
            "1 times 1 = 1\n",
            "2 times 2 = 4\n",
            "3 times 3 = 9\n",
            "4 times 4 = 16\n",
            "5 times 5 = 25\n",
            "6 times 6 = 36\n",
            "7 times 7 = 49\n",
            "8 times 8 = 64\n",
            "9 times 9 = 81\n"
          ],
          "name": "stdout"
        }
      ]
    }
  ]
}