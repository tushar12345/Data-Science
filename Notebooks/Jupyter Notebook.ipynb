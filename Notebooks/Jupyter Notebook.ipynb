{
 "cells": [
  {
   "cell_type": "markdown",
   "metadata": {},
   "source": [
    "# Jupyter Notebook\n",
    "\n",
    "[Jupyter Notebook](https://jupyter.org) is an open-source web application that is widely used by data scientists and machine learning practitioners. Jupyter has a rich user interface to create formatted text, add images, high quality math markup, as well as live code in a variety of languages, including Python. Code within a notebook can produce rich, high quality output such as images, video, audio, and custom MIME types. Jupyter is designed to be interactive, which is particularly useful for data science and machine learning.\n",
    "\n",
    "Jupyter can be installed locally, or accessed through a variety of cloud services, such as [Google Colab](https://colab.research.google.com/), [Amazon Sagemaker](https://docs.aws.amazon.com/sagemaker/latest/dg/nbi.html), [Microsoft Azure](https://notebooks.azure.com/), [IBM Watson](https://dataplatform.cloud.ibm.com/docs/content/wsj/analyze-data/notebooks-parent.html) and many others."
   ]
  },
  {
   "cell_type": "markdown",
   "metadata": {},
   "source": [
    "## Cells\n",
    "\n",
    "Notebooks have cells that can contain text, code, images, and more. Text cells can contain formatted text using [markdown](https://github.com/adam-p/markdown-here/wiki/Markdown-Cheatsheet) syntax, which is lightweight and easy to learn. You can edit a cell by double-clicking.\n",
    "\n",
    "You can create headings, links, add emphasis with *italics*, **bold**, ~~strikethrough.~~, or syntax highlighted code:\n",
    "\n",
    "```python\n",
    "for i in range(10):\n",
    "    print(i)\n",
    "```\n",
    "\n",
    "You can add images:\n",
    "\n",
    "![Hughes 500, Honolulu, HI](https://madhu.com/images/h500.gif \"Hughes 500, Honolulu, HI\")\n",
    "\n",
    "You can create lists:\n",
    "\n",
    "1. This\n",
    "2. That\n",
    "3. The other thing\n",
    "\n",
    "Or tables:\n",
    "\n",
    "| Name              | Instrument    |\n",
    "|-------------------|---------------|\n",
    "| David St. Hubbins | Rhythm guitar |\n",
    "| Nigel Tufnel      | Lead guitar   |\n",
    "| Derek Smalls      | Bass          |\n",
    "| TBD               | Drums         |"
   ]
  },
  {
   "cell_type": "markdown",
   "metadata": {},
   "source": [
    "## Code Cells\n",
    "\n",
    "Below are some code cell that you can run inside this notebook."
   ]
  },
  {
   "cell_type": "code",
   "execution_count": 1,
   "metadata": {},
   "outputs": [
    {
     "name": "stdout",
     "output_type": "stream",
     "text": [
      "My first notebook!\n"
     ]
    }
   ],
   "source": [
    "print('My first notebook!')"
   ]
  },
  {
   "cell_type": "code",
   "execution_count": 2,
   "metadata": {},
   "outputs": [],
   "source": [
    "def multiplicationTable(start, end):\n",
    "    line = '   '\n",
    "    for i in range(start, end):\n",
    "        line = '%s %2d ' % (line, i)\n",
    "    print(line)\n",
    "    for i in range(start, end):\n",
    "        line = '%2d ' % i\n",
    "        for j in range(start, end):\n",
    "            line = '%s %2d ' % (line, i*j)\n",
    "        print(line)"
   ]
  },
  {
   "cell_type": "code",
   "execution_count": 3,
   "metadata": {},
   "outputs": [
    {
     "name": "stdout",
     "output_type": "stream",
     "text": [
      "     1   2   3   4   5   6   7   8   9 \n",
      " 1   1   2   3   4   5   6   7   8   9 \n",
      " 2   2   4   6   8  10  12  14  16  18 \n",
      " 3   3   6   9  12  15  18  21  24  27 \n",
      " 4   4   8  12  16  20  24  28  32  36 \n",
      " 5   5  10  15  20  25  30  35  40  45 \n",
      " 6   6  12  18  24  30  36  42  48  54 \n",
      " 7   7  14  21  28  35  42  49  56  63 \n",
      " 8   8  16  24  32  40  48  56  64  72 \n",
      " 9   9  18  27  36  45  54  63  72  81 \n"
     ]
    }
   ],
   "source": [
    "multiplicationTable(1, 10)"
   ]
  },
  {
   "cell_type": "markdown",
   "metadata": {},
   "source": [
    "## Visualizations\n",
    "\n",
    "Code can produce a variety of content."
   ]
  },
  {
   "cell_type": "code",
   "execution_count": 5,
   "metadata": {},
   "outputs": [
    {
     "data": {
      "image/png": "[encoded data removed]",
      "text/plain": [
       "<Figure size 432x288 with 1 Axes>"
      ]
     },
     "metadata": {
      "needs_background": "light"
     },
     "output_type": "display_data"
    }
   ],
   "source": [
    "import math\n",
    "import matplotlib.pyplot as plt\n",
    "\n",
    "x = [0.1*i for i in range(64)]\n",
    "sin = [math.sin(i) for i in x]\n",
    "cos = [math.cos(i) for i in x]\n",
    "\n",
    "plt.plot(x, sin, label='sin(x)', color='blue', linewidth=2.5)\n",
    "plt.plot(x, cos, label='cos(x)', color='red', linewidth=0.5)\n",
    "plt.ylabel('y')\n",
    "plt.xlabel('x')\n",
    "plt.legend(loc='upper right')\n",
    "plt.show()"
   ]
  },
  {
   "cell_type": "markdown",
   "metadata": {},
   "source": [
    "## Math Notation\n",
    "\n",
    "Jupyter renders high quality math notation using [LaTeX](https://en.wikibooks.org/wiki/LaTeX/Mathematics) syntax. Here are some examples:\n",
    "\n",
    "$$ \\epsilon = \\frac{1}{m} \\sum_{i=1}^{m} (a x_i + b - y_i)^2$$\n",
    "\n",
    "$$e^{i x} = cos x + i sin x$$\n",
    "\n",
    "$$ \\begin{bmatrix}\n",
    "a \\\\\n",
    "b\n",
    "\\end{bmatrix} = (A^T A)^{-1} A^T y$$"
   ]
  },
  {
   "cell_type": "markdown",
   "metadata": {},
   "source": [
    "## Magic Commands\n",
    "\n",
    "Jupyter supports a number of **magic commands**. These commands can appear in code cells and perform special operations.\n",
    "\n",
    "Below are a few magic commands, a more complete list is documented [here](https://ipython.readthedocs.io/en/stable/interactive/magics.html).\n",
    "\n",
    "* ```%system <command>``` or ```!<command>```\n",
    "  * Executes a system command\n",
    "* ```%run <file.py> [arguments]```\n",
    "  * Executes a python program\n",
    "* ```%time```\n",
    "  * Time execution of a cell\n",
    "* ```%whos```\n",
    "  * List all interactive variables\n",
    "* ```%load <file> or <url>```\n",
    "  * Loads this cell with contents of <file> or a <url>"
   ]
  },
  {
   "cell_type": "markdown",
   "metadata": {},
   "source": [
    "## Local Installation\n",
    "\n",
    "Jupyter can be installed locally. There are several ways to install Jupyter notebooks. If you have Python installed, you can install using pip:\n",
    "\n",
    "```> pip install notebook```\n",
    "\n",
    "To start a notebook server, execute the following command from a terminal (Mac/Unix) or command prompt (Windows):\n",
    "\n",
    "```jupyter notebook```\n",
    "\n",
    "Alternatively, you can install [Anaconda Python](https://www.anaconda.com/distribution), which includes Jupyter notebook. Anaconda Python for Windows adds Jupyter Notebook shortcuts to the start menu."
   ]
  },
  {
   "cell_type": "code",
   "execution_count": null,
   "metadata": {},
   "outputs": [],
   "source": []
  }
 ],
 "metadata": {
  "kernelspec": {
   "display_name": "Python 3",
   "language": "python",
   "name": "python3"
  },
  "language_info": {
   "codemirror_mode": {
    "name": "ipython",
    "version": 3
   },
   "file_extension": ".py",
   "mimetype": "text/x-python",
   "name": "python",
   "nbconvert_exporter": "python",
   "pygments_lexer": "ipython3",
   "version": "3.6.8"
  }
 },
 "nbformat": 4,
 "nbformat_minor": 2
}
