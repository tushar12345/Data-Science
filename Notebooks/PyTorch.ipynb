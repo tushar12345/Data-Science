{
  "nbformat": 4,
  "nbformat_minor": 0,
  "metadata": {
    "colab": {
      "name": "PyTorch",
      "provenance": [],
      "collapsed_sections": []
    },
    "kernelspec": {
      "name": "python3",
      "display_name": "Python 3"
    },
    "accelerator": "GPU"
  },
  "cells": [
    {
      "cell_type": "markdown",
      "metadata": {
        "id": "vOUb3C_hsWHb",
        "colab_type": "text"
      },
      "source": [
        "# PyTorch\n",
        "\n",
        "[PyTorch](https://pytorch.org/) is an open source machine learning framework for Python, conceptually similar to Keras. PyTorch can be more flexible than Keras for some advanced use cases. PyTorch is often preferred by researchers for this reason."
      ]
    },
    {
      "cell_type": "code",
      "metadata": {
        "id": "XGWxeUytgPn0",
        "colab_type": "code",
        "colab": {
          "base_uri": "https://localhost:8080/",
          "height": 34
        },
        "outputId": "4f049bb7-b553-45e1-c35e-5162a5f6c126"
      },
      "source": [
        "%tensorflow_version 2.x"
      ],
      "execution_count": 1,
      "outputs": [
        {
          "output_type": "stream",
          "text": [
            "TensorFlow 2.x selected.\n"
          ],
          "name": "stdout"
        }
      ]
    },
    {
      "cell_type": "code",
      "metadata": {
        "id": "Q16sFhp9g1t6",
        "colab_type": "code",
        "colab": {}
      },
      "source": [
        "import torch\n",
        "import torch.nn as nn\n",
        "import torch.nn.functional as F\n",
        "import torch.optim as optim\n",
        "from torch.utils.data import DataLoader, TensorDataset\n",
        "\n",
        "from matplotlib import pyplot as plt\n",
        "\n",
        "import numpy as np"
      ],
      "execution_count": 0,
      "outputs": []
    },
    {
      "cell_type": "code",
      "metadata": {
        "id": "eL6_v-ENhZRp",
        "colab_type": "code",
        "outputId": "956d2d53-7896-40a4-dc4e-7edb20082ac8",
        "colab": {
          "base_uri": "https://localhost:8080/",
          "height": 34
        }
      },
      "source": [
        "torch.manual_seed(1)\n",
        "device = 'cuda' if torch.cuda.is_available() else 'cpu'\n",
        "device"
      ],
      "execution_count": 3,
      "outputs": [
        {
          "output_type": "execute_result",
          "data": {
            "text/plain": [
              "'cuda'"
            ]
          },
          "metadata": {
            "tags": []
          },
          "execution_count": 3
        }
      ]
    },
    {
      "cell_type": "markdown",
      "metadata": {
        "id": "XyHDLJq3tRhR",
        "colab_type": "text"
      },
      "source": [
        "# Learning a Mathematical Function\n",
        "\n",
        "As an easy to understand example, we will develop a PyTorch model to predict the value of a mathematical function. This example trains quickly, making it ideal for experimentation.\n",
        "\n",
        "The train and test data sets are generated using the function below. The number of training samples can be adjusted to explore model accuracy as a function of data set size."
      ]
    },
    {
      "cell_type": "code",
      "metadata": {
        "id": "0js334QOhuCY",
        "colab_type": "code",
        "colab": {}
      },
      "source": [
        "def function(x):\n",
        "    return 10*x**2 - 5*x - 0.5"
      ],
      "execution_count": 0,
      "outputs": []
    },
    {
      "cell_type": "code",
      "metadata": {
        "id": "o-raYwvShxKX",
        "colab_type": "code",
        "colab": {}
      },
      "source": [
        "x_train = np.random.rand(10000).reshape(-1, 1)\n",
        "y_train = function(x_train).reshape(-1, 1)\n",
        "\n",
        "x_test = np.linspace(0, 1, 100).reshape(-1, 1)\n",
        "y_test = function(x_test).reshape(-1, 1)"
      ],
      "execution_count": 0,
      "outputs": []
    },
    {
      "cell_type": "markdown",
      "metadata": {
        "id": "noICFJKziFud",
        "colab_type": "text"
      },
      "source": [
        "# Visualize the Dataset"
      ]
    },
    {
      "cell_type": "code",
      "metadata": {
        "id": "E2kuGg7diIX8",
        "colab_type": "code",
        "outputId": "4286b54f-8a27-42b1-b3a0-1856154ecde3",
        "colab": {
          "base_uri": "https://localhost:8080/",
          "height": 279
        }
      },
      "source": [
        "plt.scatter(x_train, y_train, label='Train', color='blue')\n",
        "plt.plot(x_test, y_test, label='Test', color='red')\n",
        "plt.ylabel('y')\n",
        "plt.xlabel('x')\n",
        "plt.legend(loc='best')\n",
        "plt.show()"
      ],
      "execution_count": 6,
      "outputs": [
        {
          "output_type": "display_data",
          "data": {
            "image/png": "[encoded data removed]",
            "text/plain": [
              "<Figure size 432x288 with 1 Axes>"
            ]
          },
          "metadata": {
            "tags": []
          }
        }
      ]
    },
    {
      "cell_type": "markdown",
      "metadata": {
        "id": "pPKaHkuqtmJ2",
        "colab_type": "text"
      },
      "source": [
        "# Define the Model\n",
        "\n",
        "A basic, multilayer dense model with [ReLU](https://en.wikipedia.org/wiki/Rectifier_(neural_networks)) activation functions is used. The output layer does not have activation function in order to produce continous output values.\n",
        "\n",
        "PyTorch models imperative, meaning the structure of the model defined at run time. In Keras, models are defined ahead of time and then compiled. PyTorch has no compile step.\n",
        "\n",
        "PyTorch layers are defined in the [torch.nn](https://pytorch.org/docs/stable/nn.html) module."
      ]
    },
    {
      "cell_type": "code",
      "metadata": {
        "id": "Rcw7Bj8ChkWX",
        "colab_type": "code",
        "colab": {}
      },
      "source": [
        "class Regression(nn.Module):\n",
        "    def __init__(self):\n",
        "        super(Regression, self).__init__()\n",
        "        self.fc1 = nn.Linear(1, 200)\n",
        "        self.fc2 = nn.Linear(200, 20)\n",
        "        self.fc3 = nn.Linear(20, 1)\n",
        "\n",
        "    def forward(self, x):\n",
        "        x = F.relu(self.fc1(x))\n",
        "        x = F.relu(self.fc2(x))\n",
        "        return self.fc3(x)"
      ],
      "execution_count": 0,
      "outputs": []
    },
    {
      "cell_type": "markdown",
      "metadata": {
        "id": "_kT5cloYugrd",
        "colab_type": "text"
      },
      "source": [
        "## Convert to Tensors\n",
        "\n",
        "PyTorch has tensors that are very similar to numpy. It is necessary to convert our data set to PyTorch tensors before training and prediction.\n",
        "\n",
        "Further, PyTorch requires explicit movement from data in a CPU to a GPU and vice-versa."
      ]
    },
    {
      "cell_type": "code",
      "metadata": {
        "id": "8m1bcAvqVpZk",
        "colab_type": "code",
        "colab": {}
      },
      "source": [
        "# CPU tensors for now, they will be loaded into the GPU in batches\n",
        "x_train_tensor = torch.from_numpy(x_train).float()\n",
        "y_train_tensor = torch.from_numpy(y_train).float()\n",
        "\n",
        "# GPU tensors, no need to validate in batches\n",
        "x_test_tensor = torch.from_numpy(x_test).float().to(device)\n",
        "y_test_tensor = torch.from_numpy(y_test).float().to(device)"
      ],
      "execution_count": 0,
      "outputs": []
    },
    {
      "cell_type": "markdown",
      "metadata": {
        "id": "bKw2clIYvD49",
        "colab_type": "text"
      },
      "source": [
        "# Training\n",
        "\n",
        "PyTorch training is more explicit than Keras. For example, it is necessary to define a training loop that iterates through the data in batches, as well as computing an initial prediction, losses, back propagation, and validation. The API is easy to use and well documented, so the code below is very common."
      ]
    },
    {
      "cell_type": "code",
      "metadata": {
        "id": "6FVwGKq0ZlFr",
        "colab_type": "code",
        "outputId": "f3a095f3-086a-4d5e-b1fe-a53411c68df6",
        "colab": {
          "base_uri": "https://localhost:8080/",
          "height": 189
        }
      },
      "source": [
        "model = Regression().to(device)\n",
        "optimizer = optim.Adam(model.parameters())\n",
        "criterion = torch.nn.MSELoss()\n",
        "\n",
        "train_data = TensorDataset(x_train_tensor, y_train_tensor)\n",
        "train_loader = DataLoader(dataset=train_data, batch_size=50)\n",
        "\n",
        "losses = []\n",
        "val_losses = []\n",
        "epochs = 10\n",
        "\n",
        "for epoch in range(epochs):\n",
        "    model.train()\n",
        "\n",
        "    batch_losses = []\n",
        "    for x_batch, y_batch in train_loader:\n",
        "        x_batch = x_batch.to(device)\n",
        "        y_batch = y_batch.to(device)\n",
        "        y_pred = model(x_batch)\n",
        "        \n",
        "        loss = criterion(y_batch, y_pred)\n",
        "        loss.backward()    \n",
        "        optimizer.step()\n",
        "        optimizer.zero_grad()\n",
        "        batch_losses.append(loss.item())\n",
        "\n",
        "    losses.append(np.average(batch_losses))\n",
        "\n",
        "    with torch.no_grad():\n",
        "        model.eval()\n",
        "\n",
        "        yhat = model(x_test_tensor)\n",
        "        val_loss = criterion(y_test_tensor, yhat)\n",
        "        val_losses.append(val_loss.item())\n",
        "    \n",
        "    print('Loss: %f, validation loss: %f' % (losses[-1], val_losses[-1]))"
      ],
      "execution_count": 9,
      "outputs": [
        {
          "output_type": "stream",
          "text": [
            "Loss: 1.170449, validation loss: 0.275553\n",
            "Loss: 0.140423, validation loss: 0.030888\n",
            "Loss: 0.018960, validation loss: 0.014292\n",
            "Loss: 0.009398, validation loss: 0.007665\n",
            "Loss: 0.004881, validation loss: 0.004000\n",
            "Loss: 0.002467, validation loss: 0.002114\n",
            "Loss: 0.001301, validation loss: 0.001139\n",
            "Loss: 0.000759, validation loss: 0.000700\n",
            "Loss: 0.000507, validation loss: 0.000482\n",
            "Loss: 0.000369, validation loss: 0.000360\n"
          ],
          "name": "stdout"
        }
      ]
    },
    {
      "cell_type": "markdown",
      "metadata": {
        "id": "DR-8zCLKwdYq",
        "colab_type": "text"
      },
      "source": [
        "# Model Loss\n",
        "\n",
        "The loss is the difference between expected output (y_train) and model output. Lower loss values are better."
      ]
    },
    {
      "cell_type": "code",
      "metadata": {
        "id": "osAlVL3yhfpf",
        "colab_type": "code",
        "outputId": "15862c3c-c9f2-41b5-ec34-e9118d441658",
        "colab": {
          "base_uri": "https://localhost:8080/",
          "height": 295
        }
      },
      "source": [
        "plt.plot(losses)\n",
        "plt.plot(val_losses)\n",
        "plt.title('Model loss')\n",
        "plt.ylabel('Mean squared error')\n",
        "plt.xlabel('Epoch')\n",
        "plt.legend(['Train', 'Test'], loc='upper left')\n",
        "plt.show()"
      ],
      "execution_count": 10,
      "outputs": [
        {
          "output_type": "display_data",
          "data": {
            "image/png": "[encoded data removed]",
            "text/plain": [
              "<Figure size 432x288 with 1 Axes>"
            ]
          },
          "metadata": {
            "tags": []
          }
        }
      ]
    },
    {
      "cell_type": "markdown",
      "metadata": {
        "id": "W1MIDruowrxg",
        "colab_type": "text"
      },
      "source": [
        "# Predictions"
      ]
    },
    {
      "cell_type": "code",
      "metadata": {
        "id": "adpxKVKeo-9P",
        "colab_type": "code",
        "colab": {}
      },
      "source": [
        "y_predictions = model(x_test_tensor).cpu().data.numpy()"
      ],
      "execution_count": 0,
      "outputs": []
    },
    {
      "cell_type": "code",
      "metadata": {
        "id": "gd3bTLi9gfYI",
        "colab_type": "code",
        "outputId": "ed73d643-0aa1-4aa7-8803-1c554c62324e",
        "colab": {
          "base_uri": "https://localhost:8080/",
          "height": 279
        }
      },
      "source": [
        "plt.scatter(x_test, y_predictions, label='Predictions', color='blue')\n",
        "plt.plot(x_test, y_test, label='Test', color='red')\n",
        "plt.ylabel('y')\n",
        "plt.xlabel('x')\n",
        "plt.legend(loc='best')\n",
        "plt.show()"
      ],
      "execution_count": 12,
      "outputs": [
        {
          "output_type": "display_data",
          "data": {
            "image/png": "[encoded data removed]",
            "text/plain": [
              "<Figure size 432x288 with 1 Axes>"
            ]
          },
          "metadata": {
            "tags": []
          }
        }
      ]
    },
    {
      "cell_type": "markdown",
      "metadata": {
        "id": "J-SuIi6Cx4Io",
        "colab_type": "text"
      },
      "source": [
        "# Save the Model\n",
        "\n",
        "The model parameters (weights and biases) can be save to a file."
      ]
    },
    {
      "cell_type": "code",
      "metadata": {
        "id": "NSpaQ35Ux6tl",
        "colab_type": "code",
        "colab": {}
      },
      "source": [
        "torch.save(model.state_dict(), 'parameters.pt')"
      ],
      "execution_count": 0,
      "outputs": []
    },
    {
      "cell_type": "markdown",
      "metadata": {
        "id": "pgSHL0WqyRbN",
        "colab_type": "text"
      },
      "source": [
        "# Restore Trained Model"
      ]
    },
    {
      "cell_type": "code",
      "metadata": {
        "id": "Grh4TkF2yTX9",
        "colab_type": "code",
        "outputId": "934a3a06-1443-4ab4-e7a5-9604f8236ec3",
        "colab": {
          "base_uri": "https://localhost:8080/",
          "height": 103
        }
      },
      "source": [
        "restored_model = Regression().to(device)\n",
        "restored_model.load_state_dict(torch.load('parameters.pt'))\n",
        "restored_model.eval()"
      ],
      "execution_count": 14,
      "outputs": [
        {
          "output_type": "execute_result",
          "data": {
            "text/plain": [
              "Regression(\n",
              "  (fc1): Linear(in_features=1, out_features=200, bias=True)\n",
              "  (fc2): Linear(in_features=200, out_features=20, bias=True)\n",
              "  (fc3): Linear(in_features=20, out_features=1, bias=True)\n",
              ")"
            ]
          },
          "metadata": {
            "tags": []
          },
          "execution_count": 14
        }
      ]
    },
    {
      "cell_type": "markdown",
      "metadata": {
        "id": "8LJwE5p9ypkz",
        "colab_type": "text"
      },
      "source": [
        "# Predictions\n",
        "\n",
        "Make predictions using the restored model. It should produce the same results as the original model."
      ]
    },
    {
      "cell_type": "code",
      "metadata": {
        "id": "Zcs92Thxysmi",
        "colab_type": "code",
        "outputId": "68a4525e-b34d-4a12-b8c7-10b0d83f2d8a",
        "colab": {
          "base_uri": "https://localhost:8080/",
          "height": 279
        }
      },
      "source": [
        "y_predictions = restored_model(x_test_tensor).cpu().data.numpy()\n",
        "\n",
        "plt.scatter(x_test, y_predictions, label='Predictions', color='blue')\n",
        "plt.plot(x_test, y_test, label='Test', color='red')\n",
        "plt.ylabel('y')\n",
        "plt.xlabel('x')\n",
        "plt.legend(loc='best')\n",
        "plt.show()"
      ],
      "execution_count": 15,
      "outputs": [
        {
          "output_type": "display_data",
          "data": {
            "image/png": "[encoded data removed]",
            "text/plain": [
              "<Figure size 432x288 with 1 Axes>"
            ]
          },
          "metadata": {
            "tags": []
          }
        }
      ]
    }
  ]
}