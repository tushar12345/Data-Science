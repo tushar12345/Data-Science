{
  "nbformat": 4,
  "nbformat_minor": 0,
  "metadata": {
    "colab": {
      "name": "Keras.ipynb",
      "provenance": [],
      "collapsed_sections": [],
      "authorship_tag": "ABX9TyO3Wz3BLAY/vsLu8o3FxLQk",
      "include_colab_link": true
    },
    "kernelspec": {
      "name": "python3",
      "display_name": "Python 3"
    }
  },
  "cells": [
    {
      "cell_type": "markdown",
      "metadata": {
        "id": "view-in-github",
        "colab_type": "text"
      },
      "source": [
        "<a href=\"https://colab.research.google.com/github/tushar12345/Data-Science-Projects/blob/master/Keras.ipynb\" target=\"_parent\"><img src=\"https://colab.research.google.com/assets/colab-badge.svg\" alt=\"Open In Colab\"/></a>"
      ]
    },
    {
      "cell_type": "code",
      "metadata": {
        "id": "bViIKG2_MFs7",
        "colab_type": "code",
        "colab": {}
      },
      "source": [
        "#Tensor flow version 2 includes keras\n",
        "%tensorflow_version 2.x"
      ],
      "execution_count": 0,
      "outputs": []
    },
    {
      "cell_type": "code",
      "metadata": {
        "id": "KuXRQ458MeMs",
        "colab_type": "code",
        "colab": {}
      },
      "source": [
        "#Import the following libraries\n",
        "from tensorflow.keras.models import Sequential\n",
        "from tensorflow.keras.layers import Dense,Activation\n",
        "from tensorflow.keras.optimizers import Adam , SGD, Adadelta, RMSprop\n",
        "from tensorflow.keras.models import model_from_json\n",
        "\n",
        "\n",
        "from matplotlib import pyplot as plt\n",
        "\n",
        "import numpy as np"
      ],
      "execution_count": 0,
      "outputs": []
    },
    {
      "cell_type": "code",
      "metadata": {
        "id": "7EqEM3WDMjuq",
        "colab_type": "code",
        "colab": {}
      },
      "source": [
        "#Create a simple polynomial function that our model will learn as follows:\n",
        "        def function(x):\n",
        "            return 10*x**2 - 5*x - 0.5"
      ],
      "execution_count": 0,
      "outputs": []
    },
    {
      "cell_type": "code",
      "metadata": {
        "id": "eDDvwHdmNu0g",
        "colab_type": "code",
        "colab": {
          "base_uri": "https://localhost:8080/",
          "height": 109
        },
        "outputId": "3b0f9d65-a945-4d4a-ad28-58da9cb18ca9"
      },
      "source": [
        "#Use the following snippet to generate random test data:\n",
        "x_train = np.random.rand(10000)\n",
        "print(x_train.shape)\n",
        "y_train = function(x_train)\n",
        "print(y_train.shape)\n",
        "x_test = np.linspace(0, 1, 100)\n",
        "y_test = function(x_test)\n",
        "print(\"Test data shape\")\n",
        "print(x_test.shape)\n",
        "print(y_test.shape)"
      ],
      "execution_count": 18,
      "outputs": [
        {
          "output_type": "stream",
          "text": [
            "(10000,)\n",
            "(10000,)\n",
            "Test data shape\n",
            "(100,)\n",
            "(100,)\n"
          ],
          "name": "stdout"
        }
      ]
    },
    {
      "cell_type": "code",
      "metadata": {
        "id": "Iv-e7ZAROizF",
        "colab_type": "code",
        "colab": {
          "base_uri": "https://localhost:8080/",
          "height": 279
        },
        "outputId": "26c55c97-4711-4db9-dc1d-8e608d6191ea"
      },
      "source": [
        "#Visualize the data set using the snippet below:\n",
        "        plt.scatter(x_train, y_train, label='Train', color='yellow')\n",
        "        plt.plot(x_test, y_test, label='Test', color='black')\n",
        "        plt.ylabel('y')\n",
        "        plt.xlabel('x')\n",
        "        plt.legend(loc='best')\n",
        "        plt.show()"
      ],
      "execution_count": 21,
      "outputs": [
        {
          "output_type": "display_data",
          "data": {
            "image/png": "[encoded data removed]",
            "text/plain": [
              "<Figure size 432x288 with 1 Axes>"
            ]
          },
          "metadata": {
            "tags": [],
            "needs_background": "light"
          }
        }
      ]
    },
    {
      "cell_type": "code",
      "metadata": {
        "id": "NyuBBGLcPEF_",
        "colab_type": "code",
        "colab": {}
      },
      "source": [
        "#Define a basic sequential model as follows:\n",
        "model = Sequential()\n",
        "model.add(Dense(units=200, input_dim=1))\n",
        "model.add(Activation('relu'))\n",
        "# Add a dense layer with 20 units\n",
        "# Add a 'relu' activation layer\n",
        "# Add an output dense layer with 1 unit\n",
        "model.add(Dense(units=20, input_dim=1))\n",
        "model.add(Activation('relu'))\n",
        "model.add(Dense(units=1))\n"
      ],
      "execution_count": 0,
      "outputs": []
    },
    {
      "cell_type": "code",
      "metadata": {
        "id": "voFg3l7QPnMD",
        "colab_type": "code",
        "colab": {}
      },
      "source": [
        "#Compile the model with a 'mean_squared_error' loss function and the Adam optimizer.\n",
        "model.compile(loss='mean_squared_error', optimizer=RMSprop())\n"
      ],
      "execution_count": 0,
      "outputs": []
    },
    {
      "cell_type": "code",
      "metadata": {
        "id": "gcTsSu0pRNwP",
        "colab_type": "code",
        "colab": {
          "base_uri": "https://localhost:8080/",
          "height": 384
        },
        "outputId": "0d02c9fa-365c-4425-9489-4b11a7da8b1f"
      },
      "source": [
        "history = model.fit(x_train, y_train, batch_size=50, epochs=10, verbose=1, validation_data=(x_test, y_test))"
      ],
      "execution_count": 69,
      "outputs": [
        {
          "output_type": "stream",
          "text": [
            "Epoch 1/10\n",
            "200/200 [==============================] - 0s 2ms/step - loss: 0.6323 - val_loss: 0.0217\n",
            "Epoch 2/10\n",
            "200/200 [==============================] - 0s 1ms/step - loss: 0.0137 - val_loss: 0.0072\n",
            "Epoch 3/10\n",
            "200/200 [==============================] - 0s 1ms/step - loss: 0.0096 - val_loss: 0.0053\n",
            "Epoch 4/10\n",
            "200/200 [==============================] - 0s 1ms/step - loss: 0.0086 - val_loss: 0.0185\n",
            "Epoch 5/10\n",
            "200/200 [==============================] - 0s 1ms/step - loss: 0.0079 - val_loss: 0.0040\n",
            "Epoch 6/10\n",
            "200/200 [==============================] - 0s 1ms/step - loss: 0.0073 - val_loss: 0.0058\n",
            "Epoch 7/10\n",
            "200/200 [==============================] - 0s 1ms/step - loss: 0.0071 - val_loss: 0.0033\n",
            "Epoch 8/10\n",
            "200/200 [==============================] - 0s 1ms/step - loss: 0.0069 - val_loss: 0.0067\n",
            "Epoch 9/10\n",
            "200/200 [==============================] - 0s 1ms/step - loss: 0.0064 - val_loss: 0.0187\n",
            "Epoch 10/10\n",
            "200/200 [==============================] - 0s 1ms/step - loss: 0.0062 - val_loss: 0.0018\n"
          ],
          "name": "stdout"
        }
      ]
    },
    {
      "cell_type": "code",
      "metadata": {
        "id": "7x0IjJ5QRg60",
        "colab_type": "code",
        "colab": {
          "base_uri": "https://localhost:8080/",
          "height": 295
        },
        "outputId": "6ebb1793-5a85-427c-fe37-2efc8857dfab"
      },
      "source": [
        "        #print(history.history['loss'])\n",
        "        #print(history.history['val_loss'])\n",
        "\n",
        "#Plot the model train and validation loss:\n",
        "        plt.plot(history.history['loss'])\n",
        "        plt.plot(history.history['val_loss'])\n",
        "        plt.title('Model loss')\n",
        "        plt.ylabel('Loss')\n",
        "        plt.xlabel('Epoch')\n",
        "        plt.legend(['Train', 'Test'], loc='upper left')\n",
        "        plt.show()"
      ],
      "execution_count": 70,
      "outputs": [
        {
          "output_type": "display_data",
          "data": {
            "image/png": "[encoded data removed]",
            "text/plain": [
              "<Figure size 432x288 with 1 Axes>"
            ]
          },
          "metadata": {
            "tags": [],
            "needs_background": "light"
          }
        }
      ]
    },
    {
      "cell_type": "code",
      "metadata": {
        "id": "X1FBDLOgTECz",
        "colab_type": "code",
        "colab": {}
      },
      "source": [
        "#Make predictions using the test data\n",
        "y_predictions = model.predict(x_test)"
      ],
      "execution_count": 0,
      "outputs": []
    },
    {
      "cell_type": "code",
      "metadata": {
        "id": "oTBVh3lVTfz8",
        "colab_type": "code",
        "colab": {
          "base_uri": "https://localhost:8080/",
          "height": 279
        },
        "outputId": "9e08b6f4-a341-4fa6-b448-756426855c17"
      },
      "source": [
        "#Plot the predicted results and compare with the ground truth:\n",
        "        plt.scatter(x_test, y_predictions, label='Predictions', color='blue')\n",
        "        plt.plot(x_test, y_test, label='Test', color='red')\n",
        "        plt.ylabel('y')\n",
        "        plt.xlabel('x')\n",
        "        plt.legend(loc='best')\n",
        "        plt.show()"
      ],
      "execution_count": 73,
      "outputs": [
        {
          "output_type": "display_data",
          "data": {
            "image/png": "[encoded data removed]",
            "text/plain": [
              "<Figure size 432x288 with 1 Axes>"
            ]
          },
          "metadata": {
            "tags": [],
            "needs_background": "light"
          }
        }
      ]
    },
    {
      "cell_type": "code",
      "metadata": {
        "id": "X580UnUKT-69",
        "colab_type": "code",
        "colab": {}
      },
      "source": [
        "#Save the Model\n",
        "#The model structure and trained weights/biases can be saved to files. These can be reloaded later for prediction.\n",
        "model_structure = model.to_json()\n",
        "with open(\"model.json\", \"w\") as json_file:\n",
        "    json_file.write(model_structure)\n",
        "model.save_weights(\"weights.h5\")"
      ],
      "execution_count": 0,
      "outputs": []
    },
    {
      "cell_type": "code",
      "metadata": {
        "id": "tc18V2nAUgv6",
        "colab_type": "code",
        "colab": {}
      },
      "source": [
        "#Restore the \n",
        "with open('model.json', 'r') as json_file:\n",
        "    loaded_model_json = json_file.read()\n",
        "restored_model = model_from_json(loaded_model_json)\n",
        "restored_model.load_weights(\"weights.h5\")"
      ],
      "execution_count": 0,
      "outputs": []
    },
    {
      "cell_type": "code",
      "metadata": {
        "id": "OCahqXQpVd9x",
        "colab_type": "code",
        "colab": {
          "base_uri": "https://localhost:8080/",
          "height": 279
        },
        "outputId": "7f0bf406-c2e3-44a3-eecb-b2f786e08064"
      },
      "source": [
        "#Make predictions using the restored model. It should produce the same results as the original model.\n",
        "y_predictions = restored_model.predict(x_test, batch_size=1)\n",
        "\n",
        "plt.scatter(x_test, y_predictions, label='Predictions', color='blue')\n",
        "plt.plot(x_test, y_test, label='Test', color='red')\n",
        "plt.ylabel('y')\n",
        "plt.xlabel('x')\n",
        "plt.legend(loc='best')\n",
        "plt.show()"
      ],
      "execution_count": 81,
      "outputs": [
        {
          "output_type": "display_data",
          "data": {
            "image/png": "[encoded data removed]",
            "text/plain": [
              "<Figure size 432x288 with 1 Axes>"
            ]
          },
          "metadata": {
            "tags": [],
            "needs_background": "light"
          }
        }
      ]
    }
  ]
}