{
 "cells": [
  {
   "cell_type": "markdown",
   "metadata": {
    "colab_type": "text",
    "id": "NT4wCSFZmJnl"
   },
   "source": [
    "# Movie Recommendations\n",
    "\n",
    "Recommendations are a common machine learning task widely used by many leading companies, such as Netflix, Amazon, and YouTube. If you have used any of these online services, you are familiar with recommendations that are often prefixed with \"You might also like..\" or \"Recommended items other customers buy...\".\n",
    "\n",
    "There are many ways to generate recommendations. It could be done based on simple criteria, such as movie genre, e.g. comedies or action adventure. More sophisticated recommendations might consider many more factors, such as the director, when the movie was produced and so on.\n",
    "\n",
    "In this example, we will use a common, straightforward method known as [collaborative filtering](https://en.wikipedia.org/wiki/Collaborative_filtering). This method is based on idea that many customers have similar likes and dislikes. It also considers similarities between products. It's a simple, yet effective technique that depends only user preferences, such as product ratings. If you have a sufficiently large dataset of ratings from your customers, then this approach is a good place to start."
   ]
  },
  {
   "cell_type": "code",
   "execution_count": 0,
   "metadata": {
    "colab": {},
    "colab_type": "code",
    "id": "WStenIzSmBFf"
   },
   "outputs": [],
   "source": [
    "%tensorflow_version 1.x"
   ]
  },
  {
   "cell_type": "code",
   "execution_count": 0,
   "metadata": {
    "colab": {},
    "colab_type": "code",
    "id": "s_kskAKSmP_8"
   },
   "outputs": [],
   "source": [
    "import pandas as pd\n",
    "import numpy as np\n",
    "import matplotlib.pyplot as plt\n",
    "from sklearn.model_selection import train_test_split\n",
    "from sklearn.preprocessing import StandardScaler\n",
    "from keras.layers import Input, Embedding, Flatten, Dot, Dense, Add, Dropout\n",
    "from keras.models import Model\n",
    "from keras.optimizers import Adam\n",
    "from sklearn.preprocessing import LabelEncoder"
   ]
  },
  {
   "cell_type": "markdown",
   "metadata": {
    "colab_type": "text",
    "id": "shIqoQ8CmZbb"
   },
   "source": [
    "# Load data\n",
    "\n",
    "In this example, we will make movie recommendations given about 100,000 samples from roughly 10,000 customers or users.\n",
    "\n",
    "The data set is freely available on the [MovieLens website](https://grouplens.org/datasets/movielens/)."
   ]
  },
  {
   "cell_type": "code",
   "execution_count": 17,
   "metadata": {
    "colab": {
     "base_uri": "https://localhost:8080/",
     "height": 211
    },
    "colab_type": "code",
    "id": "8iSN-FLpmfqc",
    "outputId": "b25389e9-8198-4157-c63d-8318b0fcdd51"
   },
   "outputs": [
    {
     "name": "stdout",
     "output_type": "stream",
     "text": [
      "--2019-12-15 16:10:38--  http://files.grouplens.org/datasets/movielens/ml-latest-small.zip\n",
      "Resolving files.grouplens.org (files.grouplens.org)... 128.101.65.152\n",
      "Connecting to files.grouplens.org (files.grouplens.org)|128.101.65.152|:80... connected.\n",
      "HTTP request sent, awaiting response... 200 OK\n",
      "Length: 978202 (955K) [application/zip]\n",
      "Saving to: ‘ml-latest-small.zip’\n",
      "\n",
      "ml-latest-small.zip 100%[===================>] 955.28K   972KB/s    in 1.0s    \n",
      "\n",
      "2019-12-15 16:10:40 (972 KB/s) - ‘ml-latest-small.zip’ saved [978202/978202]\n",
      "\n"
     ]
    }
   ],
   "source": [
    "!wget http://files.grouplens.org/datasets/movielens/ml-latest-small.zip"
   ]
  },
  {
   "cell_type": "code",
   "execution_count": 18,
   "metadata": {
    "colab": {
     "base_uri": "https://localhost:8080/",
     "height": 140
    },
    "colab_type": "code",
    "id": "r9VHQzMBm7EN",
    "outputId": "242696c4-e0c9-43a3-ba40-13da3573aa4a"
   },
   "outputs": [
    {
     "name": "stdout",
     "output_type": "stream",
     "text": [
      "Archive:  ml-latest-small.zip\n",
      "   creating: ml-latest-small/\n",
      "  inflating: ml-latest-small/links.csv  \n",
      "  inflating: ml-latest-small/tags.csv  \n",
      "  inflating: ml-latest-small/ratings.csv  \n",
      "  inflating: ml-latest-small/README.txt  \n",
      "  inflating: ml-latest-small/movies.csv  \n"
     ]
    }
   ],
   "source": [
    "!unzip ml-latest-small.zip"
   ]
  },
  {
   "cell_type": "code",
   "execution_count": 19,
   "metadata": {
    "colab": {
     "base_uri": "https://localhost:8080/",
     "height": 203
    },
    "colab_type": "code",
    "id": "m8gfiZ0QnROz",
    "outputId": "e1a378b8-8744-4b61-ef09-5ff04e3f9524"
   },
   "outputs": [
    {
     "data": {
      "text/html": [
       "<div>\n",
       "<style scoped>\n",
       "    .dataframe tbody tr th:only-of-type {\n",
       "        vertical-align: middle;\n",
       "    }\n",
       "\n",
       "    .dataframe tbody tr th {\n",
       "        vertical-align: top;\n",
       "    }\n",
       "\n",
       "    .dataframe thead th {\n",
       "        text-align: right;\n",
       "    }\n",
       "</style>\n",
       "<table border=\"1\" class=\"dataframe\">\n",
       "  <thead>\n",
       "    <tr style=\"text-align: right;\">\n",
       "      <th></th>\n",
       "      <th>movieId</th>\n",
       "      <th>title</th>\n",
       "      <th>genres</th>\n",
       "    </tr>\n",
       "  </thead>\n",
       "  <tbody>\n",
       "    <tr>\n",
       "      <th>0</th>\n",
       "      <td>1</td>\n",
       "      <td>Toy Story (1995)</td>\n",
       "      <td>Adventure|Animation|Children|Comedy|Fantasy</td>\n",
       "    </tr>\n",
       "    <tr>\n",
       "      <th>1</th>\n",
       "      <td>2</td>\n",
       "      <td>Jumanji (1995)</td>\n",
       "      <td>Adventure|Children|Fantasy</td>\n",
       "    </tr>\n",
       "    <tr>\n",
       "      <th>2</th>\n",
       "      <td>3</td>\n",
       "      <td>Grumpier Old Men (1995)</td>\n",
       "      <td>Comedy|Romance</td>\n",
       "    </tr>\n",
       "    <tr>\n",
       "      <th>3</th>\n",
       "      <td>4</td>\n",
       "      <td>Waiting to Exhale (1995)</td>\n",
       "      <td>Comedy|Drama|Romance</td>\n",
       "    </tr>\n",
       "    <tr>\n",
       "      <th>4</th>\n",
       "      <td>5</td>\n",
       "      <td>Father of the Bride Part II (1995)</td>\n",
       "      <td>Comedy</td>\n",
       "    </tr>\n",
       "  </tbody>\n",
       "</table>\n",
       "</div>"
      ],
      "text/plain": [
       "   movieId  ...                                       genres\n",
       "0        1  ...  Adventure|Animation|Children|Comedy|Fantasy\n",
       "1        2  ...                   Adventure|Children|Fantasy\n",
       "2        3  ...                               Comedy|Romance\n",
       "3        4  ...                         Comedy|Drama|Romance\n",
       "4        5  ...                                       Comedy\n",
       "\n",
       "[5 rows x 3 columns]"
      ]
     },
     "execution_count": 19,
     "metadata": {
      "tags": []
     },
     "output_type": "execute_result"
    }
   ],
   "source": [
    "movies = pd.read_csv('ml-latest-small/movies.csv')\n",
    "movies.head()"
   ]
  },
  {
   "cell_type": "code",
   "execution_count": 20,
   "metadata": {
    "colab": {
     "base_uri": "https://localhost:8080/",
     "height": 203
    },
    "colab_type": "code",
    "id": "LwtxE_wWAS_P",
    "outputId": "7e9cf225-81fa-45cc-9940-beb97474fccd"
   },
   "outputs": [
    {
     "data": {
      "text/html": [
       "<div>\n",
       "<style scoped>\n",
       "    .dataframe tbody tr th:only-of-type {\n",
       "        vertical-align: middle;\n",
       "    }\n",
       "\n",
       "    .dataframe tbody tr th {\n",
       "        vertical-align: top;\n",
       "    }\n",
       "\n",
       "    .dataframe thead th {\n",
       "        text-align: right;\n",
       "    }\n",
       "</style>\n",
       "<table border=\"1\" class=\"dataframe\">\n",
       "  <thead>\n",
       "    <tr style=\"text-align: right;\">\n",
       "      <th></th>\n",
       "      <th>userId</th>\n",
       "      <th>movieId</th>\n",
       "      <th>rating</th>\n",
       "      <th>timestamp</th>\n",
       "    </tr>\n",
       "  </thead>\n",
       "  <tbody>\n",
       "    <tr>\n",
       "      <th>0</th>\n",
       "      <td>1</td>\n",
       "      <td>1</td>\n",
       "      <td>4.0</td>\n",
       "      <td>964982703</td>\n",
       "    </tr>\n",
       "    <tr>\n",
       "      <th>1</th>\n",
       "      <td>1</td>\n",
       "      <td>3</td>\n",
       "      <td>4.0</td>\n",
       "      <td>964981247</td>\n",
       "    </tr>\n",
       "    <tr>\n",
       "      <th>2</th>\n",
       "      <td>1</td>\n",
       "      <td>6</td>\n",
       "      <td>4.0</td>\n",
       "      <td>964982224</td>\n",
       "    </tr>\n",
       "    <tr>\n",
       "      <th>3</th>\n",
       "      <td>1</td>\n",
       "      <td>47</td>\n",
       "      <td>5.0</td>\n",
       "      <td>964983815</td>\n",
       "    </tr>\n",
       "    <tr>\n",
       "      <th>4</th>\n",
       "      <td>1</td>\n",
       "      <td>50</td>\n",
       "      <td>5.0</td>\n",
       "      <td>964982931</td>\n",
       "    </tr>\n",
       "  </tbody>\n",
       "</table>\n",
       "</div>"
      ],
      "text/plain": [
       "   userId  movieId  rating  timestamp\n",
       "0       1        1     4.0  964982703\n",
       "1       1        3     4.0  964981247\n",
       "2       1        6     4.0  964982224\n",
       "3       1       47     5.0  964983815\n",
       "4       1       50     5.0  964982931"
      ]
     },
     "execution_count": 20,
     "metadata": {
      "tags": []
     },
     "output_type": "execute_result"
    }
   ],
   "source": [
    "ratings = pd.read_csv('ml-latest-small/ratings.csv')\n",
    "ratings.head()"
   ]
  },
  {
   "cell_type": "markdown",
   "metadata": {
    "colab_type": "text",
    "id": "K7uejLK0AFi0"
   },
   "source": [
    "## Join Ratings with Movies\n",
    "\n",
    "The ratings don't contain movie titles, so let's join or merge these two sets for convenience."
   ]
  },
  {
   "cell_type": "code",
   "execution_count": 21,
   "metadata": {
    "colab": {
     "base_uri": "https://localhost:8080/",
     "height": 203
    },
    "colab_type": "code",
    "id": "trWhyJF9neTr",
    "outputId": "0bb0f82e-136f-45a7-855b-717e6403f483"
   },
   "outputs": [
    {
     "data": {
      "text/html": [
       "<div>\n",
       "<style scoped>\n",
       "    .dataframe tbody tr th:only-of-type {\n",
       "        vertical-align: middle;\n",
       "    }\n",
       "\n",
       "    .dataframe tbody tr th {\n",
       "        vertical-align: top;\n",
       "    }\n",
       "\n",
       "    .dataframe thead th {\n",
       "        text-align: right;\n",
       "    }\n",
       "</style>\n",
       "<table border=\"1\" class=\"dataframe\">\n",
       "  <thead>\n",
       "    <tr style=\"text-align: right;\">\n",
       "      <th></th>\n",
       "      <th>userId</th>\n",
       "      <th>movieId</th>\n",
       "      <th>rating</th>\n",
       "      <th>title</th>\n",
       "    </tr>\n",
       "  </thead>\n",
       "  <tbody>\n",
       "    <tr>\n",
       "      <th>0</th>\n",
       "      <td>1</td>\n",
       "      <td>1</td>\n",
       "      <td>4.0</td>\n",
       "      <td>Toy Story (1995)</td>\n",
       "    </tr>\n",
       "    <tr>\n",
       "      <th>1</th>\n",
       "      <td>5</td>\n",
       "      <td>1</td>\n",
       "      <td>4.0</td>\n",
       "      <td>Toy Story (1995)</td>\n",
       "    </tr>\n",
       "    <tr>\n",
       "      <th>2</th>\n",
       "      <td>7</td>\n",
       "      <td>1</td>\n",
       "      <td>4.5</td>\n",
       "      <td>Toy Story (1995)</td>\n",
       "    </tr>\n",
       "    <tr>\n",
       "      <th>3</th>\n",
       "      <td>15</td>\n",
       "      <td>1</td>\n",
       "      <td>2.5</td>\n",
       "      <td>Toy Story (1995)</td>\n",
       "    </tr>\n",
       "    <tr>\n",
       "      <th>4</th>\n",
       "      <td>17</td>\n",
       "      <td>1</td>\n",
       "      <td>4.5</td>\n",
       "      <td>Toy Story (1995)</td>\n",
       "    </tr>\n",
       "  </tbody>\n",
       "</table>\n",
       "</div>"
      ],
      "text/plain": [
       "   userId  movieId  rating             title\n",
       "0       1        1     4.0  Toy Story (1995)\n",
       "1       5        1     4.0  Toy Story (1995)\n",
       "2       7        1     4.5  Toy Story (1995)\n",
       "3      15        1     2.5  Toy Story (1995)\n",
       "4      17        1     4.5  Toy Story (1995)"
      ]
     },
     "execution_count": 21,
     "metadata": {
      "tags": []
     },
     "output_type": "execute_result"
    }
   ],
   "source": [
    "ratings = ratings.merge(movies, on='movieId').drop(['genres','timestamp'],axis=1)\n",
    "ratings.head()"
   ]
  },
  {
   "cell_type": "markdown",
   "metadata": {
    "colab_type": "text",
    "id": "cnWx4rr2KEht"
   },
   "source": [
    "## Generate Sequential Identifiers\n",
    "\n",
    "`userId` and `movieId` are not sequential, which causes problems for our model. To compensate, we can use the [LabelEncoder](https://scikit-learn.org/stable/modules/generated/sklearn.preprocessing.LabelEncoder.html) class from [scikit-learn](https://scikit-learn.org/) to generate sequential identifiers for users and movies. The original identifiers are still available, so we can always join back to the original data set if needed."
   ]
  },
  {
   "cell_type": "code",
   "execution_count": 22,
   "metadata": {
    "colab": {
     "base_uri": "https://localhost:8080/",
     "height": 203
    },
    "colab_type": "code",
    "id": "JUOvcGER93u4",
    "outputId": "39b4c24d-7216-4e3f-8b3a-7161c1d74733"
   },
   "outputs": [
    {
     "data": {
      "text/html": [
       "<div>\n",
       "<style scoped>\n",
       "    .dataframe tbody tr th:only-of-type {\n",
       "        vertical-align: middle;\n",
       "    }\n",
       "\n",
       "    .dataframe tbody tr th {\n",
       "        vertical-align: top;\n",
       "    }\n",
       "\n",
       "    .dataframe thead th {\n",
       "        text-align: right;\n",
       "    }\n",
       "</style>\n",
       "<table border=\"1\" class=\"dataframe\">\n",
       "  <thead>\n",
       "    <tr style=\"text-align: right;\">\n",
       "      <th></th>\n",
       "      <th>userId</th>\n",
       "      <th>movieId</th>\n",
       "      <th>rating</th>\n",
       "      <th>title</th>\n",
       "      <th>userSeq</th>\n",
       "      <th>movieSeq</th>\n",
       "    </tr>\n",
       "  </thead>\n",
       "  <tbody>\n",
       "    <tr>\n",
       "      <th>0</th>\n",
       "      <td>1</td>\n",
       "      <td>1</td>\n",
       "      <td>4.0</td>\n",
       "      <td>Toy Story (1995)</td>\n",
       "      <td>0</td>\n",
       "      <td>0</td>\n",
       "    </tr>\n",
       "    <tr>\n",
       "      <th>1</th>\n",
       "      <td>5</td>\n",
       "      <td>1</td>\n",
       "      <td>4.0</td>\n",
       "      <td>Toy Story (1995)</td>\n",
       "      <td>4</td>\n",
       "      <td>0</td>\n",
       "    </tr>\n",
       "    <tr>\n",
       "      <th>2</th>\n",
       "      <td>7</td>\n",
       "      <td>1</td>\n",
       "      <td>4.5</td>\n",
       "      <td>Toy Story (1995)</td>\n",
       "      <td>6</td>\n",
       "      <td>0</td>\n",
       "    </tr>\n",
       "    <tr>\n",
       "      <th>3</th>\n",
       "      <td>15</td>\n",
       "      <td>1</td>\n",
       "      <td>2.5</td>\n",
       "      <td>Toy Story (1995)</td>\n",
       "      <td>14</td>\n",
       "      <td>0</td>\n",
       "    </tr>\n",
       "    <tr>\n",
       "      <th>4</th>\n",
       "      <td>17</td>\n",
       "      <td>1</td>\n",
       "      <td>4.5</td>\n",
       "      <td>Toy Story (1995)</td>\n",
       "      <td>16</td>\n",
       "      <td>0</td>\n",
       "    </tr>\n",
       "  </tbody>\n",
       "</table>\n",
       "</div>"
      ],
      "text/plain": [
       "   userId  movieId  rating             title  userSeq  movieSeq\n",
       "0       1        1     4.0  Toy Story (1995)        0         0\n",
       "1       5        1     4.0  Toy Story (1995)        4         0\n",
       "2       7        1     4.5  Toy Story (1995)        6         0\n",
       "3      15        1     2.5  Toy Story (1995)       14         0\n",
       "4      17        1     4.5  Toy Story (1995)       16         0"
      ]
     },
     "execution_count": 22,
     "metadata": {
      "tags": []
     },
     "output_type": "execute_result"
    }
   ],
   "source": [
    "user_enc = LabelEncoder()\n",
    "ratings['userSeq'] = user_enc.fit_transform(ratings['userId'].values)\n",
    "\n",
    "item_enc = LabelEncoder()\n",
    "ratings['movieSeq'] = item_enc.fit_transform(ratings['movieId'].values)\n",
    "\n",
    "ratings.head()"
   ]
  },
  {
   "cell_type": "markdown",
   "metadata": {
    "colab_type": "text",
    "id": "QKug9IoGBlvo"
   },
   "source": [
    "## Train/Test Split\n",
    "\n",
    "This case is a bit unusual because we need ratings for every movie from every user to train an accurate model. If we used a traditional split, some movies might be left out, which will cause problems during prediction.\n",
    "\n",
    "For this reason, we will use all of the data for training and a subset for model validation only."
   ]
  },
  {
   "cell_type": "code",
   "execution_count": 23,
   "metadata": {
    "colab": {
     "base_uri": "https://localhost:8080/",
     "height": 52
    },
    "colab_type": "code",
    "id": "cWzCvTtHno9b",
    "outputId": "be9257af-4f4e-42d5-fe21-5ff25bc720d5"
   },
   "outputs": [
    {
     "name": "stdout",
     "output_type": "stream",
     "text": [
      "(610, 9724)\n",
      "(100836, 20168)\n"
     ]
    }
   ],
   "source": [
    "train_unused, test = train_test_split(ratings, test_size=0.20, random_state=0)\n",
    "\n",
    "# All data is used for training\n",
    "train = ratings\n",
    "\n",
    "numUsers = len(train.userSeq.unique())\n",
    "numMovies = len(train.movieSeq.unique())\n",
    "print((numUsers, numMovies))\n",
    "print((len(train), len(test)))"
   ]
  },
  {
   "cell_type": "markdown",
   "metadata": {
    "colab_type": "text",
    "id": "wEOJRfE2tBmO"
   },
   "source": [
    "## Recommendation Model\n",
    "\n",
    "Collaborative filtering tries to minimize the error between a predicted value and ground truth. This is similar to many supervised machine learning problems. The model learns a set of features that similar movies share. The number of features could be as simple as the genre or more complex. The `numFeatures` variable below is a hyperparameter that can be tuned to optimize performance.\n",
    "\n",
    "This model uses the [Keras functional API](https://keras.io/getting-started/functional-api-guide/) rather than adding layers to a Sequential model. This is necessary because we have two sets of inputs, userSeq and movieSeq."
   ]
  },
  {
   "cell_type": "code",
   "execution_count": 24,
   "metadata": {
    "colab": {
     "base_uri": "https://localhost:8080/",
     "height": 703
    },
    "colab_type": "code",
    "id": "s6WzjAvComok",
    "outputId": "73623219-b4d2-4a1e-a956-005616603508"
   },
   "outputs": [
    {
     "name": "stdout",
     "output_type": "stream",
     "text": [
      "Model: \"model_2\"\n",
      "__________________________________________________________________________________________________\n",
      "Layer (type)                    Output Shape         Param #     Connected to                     \n",
      "==================================================================================================\n",
      "input_3 (InputLayer)            (None, 1)            0                                            \n",
      "__________________________________________________________________________________________________\n",
      "input_4 (InputLayer)            (None, 1)            0                                            \n",
      "__________________________________________________________________________________________________\n",
      "embedding_5 (Embedding)         (None, 1, 50)        30500       input_3[0][0]                    \n",
      "__________________________________________________________________________________________________\n",
      "embedding_6 (Embedding)         (None, 1, 50)        486200      input_4[0][0]                    \n",
      "__________________________________________________________________________________________________\n",
      "flatten_4 (Flatten)             (None, 50)           0           embedding_5[0][0]                \n",
      "__________________________________________________________________________________________________\n",
      "flatten_5 (Flatten)             (None, 50)           0           embedding_6[0][0]                \n",
      "__________________________________________________________________________________________________\n",
      "dropout_4 (Dropout)             (None, 50)           0           flatten_4[0][0]                  \n",
      "__________________________________________________________________________________________________\n",
      "dropout_5 (Dropout)             (None, 50)           0           flatten_5[0][0]                  \n",
      "__________________________________________________________________________________________________\n",
      "dot_2 (Dot)                     (None, 1)            0           dropout_4[0][0]                  \n",
      "                                                                 dropout_5[0][0]                  \n",
      "__________________________________________________________________________________________________\n",
      "embedding_7 (Embedding)         (None, 1, 1)         610         input_3[0][0]                    \n",
      "__________________________________________________________________________________________________\n",
      "embedding_8 (Embedding)         (None, 1, 1)         9724        input_4[0][0]                    \n",
      "__________________________________________________________________________________________________\n",
      "add_2 (Add)                     (None, 1, 1)         0           dot_2[0][0]                      \n",
      "                                                                 embedding_7[0][0]                \n",
      "                                                                 embedding_8[0][0]                \n",
      "__________________________________________________________________________________________________\n",
      "flatten_6 (Flatten)             (None, 1)            0           add_2[0][0]                      \n",
      "__________________________________________________________________________________________________\n",
      "dropout_6 (Dropout)             (None, 1)            0           flatten_6[0][0]                  \n",
      "==================================================================================================\n",
      "Total params: 527,034\n",
      "Trainable params: 527,034\n",
      "Non-trainable params: 0\n",
      "__________________________________________________________________________________________________\n"
     ]
    }
   ],
   "source": [
    "numFeatures = 50\n",
    "dropout = 0.0\n",
    "\n",
    "user_input = Input(shape=(1,))\n",
    "user_emb = Embedding(numUsers, numFeatures)(user_input)\n",
    "flat_user = Flatten()(user_emb)\n",
    "user_dropout = Dropout(dropout)(flat_user)\n",
    "\n",
    "movie_input = Input(shape=(1,))\n",
    "movie_emb = Embedding(numMovies, numFeatures)(movie_input)\n",
    "flat_movie = Flatten()(movie_emb)\n",
    "movie_dropout = Dropout(dropout)(flat_movie)\n",
    "\n",
    "dotProduct = Dot(axes=1)([user_dropout, movie_dropout])\n",
    "\n",
    "user_bias = Embedding(numUsers, 1)(user_input)\n",
    "movie_bias = Embedding(numMovies, 1)(movie_input)\n",
    "sum = Add()([dotProduct, user_bias, movie_bias])\n",
    "flat_sum = Flatten()(sum)\n",
    "output = Dropout(dropout)(flat_sum)\n",
    "\n",
    "model = Model([user_input, movie_input], output)\n",
    "\n",
    "model.summary()"
   ]
  },
  {
   "cell_type": "markdown",
   "metadata": {
    "colab_type": "text",
    "id": "rwBRWEY8uOOv"
   },
   "source": [
    "## Model Training"
   ]
  },
  {
   "cell_type": "code",
   "execution_count": 25,
   "metadata": {
    "colab": {
     "base_uri": "https://localhost:8080/",
     "height": 665
    },
    "colab_type": "code",
    "id": "5ZXh0fuiuNfx",
    "outputId": "57651ded-6817-4ade-bdb0-e19776b4bbe7"
   },
   "outputs": [
    {
     "name": "stdout",
     "output_type": "stream",
     "text": [
      "Train on 100836 samples, validate on 20168 samples\n",
      "Epoch 1/10\n",
      "100836/100836 [==============================] - 16s 164us/step - loss: 6.2500 - val_loss: 1.4570\n",
      "Epoch 2/10\n",
      "100836/100836 [==============================] - 16s 161us/step - loss: 1.1482 - val_loss: 0.7989\n",
      "Epoch 3/10\n",
      "100836/100836 [==============================] - 16s 162us/step - loss: 0.8057 - val_loss: 0.6416\n",
      "Epoch 4/10\n",
      "100836/100836 [==============================] - 16s 161us/step - loss: 0.6685 - val_loss: 0.5376\n",
      "Epoch 5/10\n",
      "100836/100836 [==============================] - 16s 159us/step - loss: 0.5638 - val_loss: 0.4538\n",
      "Epoch 6/10\n",
      "100836/100836 [==============================] - 16s 156us/step - loss: 0.4757 - val_loss: 0.3703\n",
      "Epoch 7/10\n",
      "100836/100836 [==============================] - 16s 159us/step - loss: 0.3955 - val_loss: 0.3055\n",
      "Epoch 8/10\n",
      "100836/100836 [==============================] - 16s 158us/step - loss: 0.3249 - val_loss: 0.2456\n",
      "Epoch 9/10\n",
      "100836/100836 [==============================] - 16s 158us/step - loss: 0.2666 - val_loss: 0.2003\n",
      "Epoch 10/10\n",
      "100836/100836 [==============================] - 16s 158us/step - loss: 0.2188 - val_loss: 0.1603\n"
     ]
    },
    {
     "data": {
      "image/png": "[encoded data removed]",
      "text/plain": [
       "<Figure size 432x288 with 1 Axes>"
      ]
     },
     "metadata": {
      "tags": []
     },
     "output_type": "display_data"
    }
   ],
   "source": [
    "model.compile(loss='mean_squared_error', optimizer=Adam())\n",
    "history = model.fit([train.userSeq, train.movieSeq], train.rating,\n",
    "                    batch_size=32, epochs=10, verbose=1,\n",
    "                    validation_data=([test.userSeq, test.movieSeq], test.rating))\n",
    "\n",
    "plt.plot(history.history['loss'])\n",
    "plt.plot(history.history['val_loss'])\n",
    "plt.title('Model accuracy')\n",
    "plt.ylabel('Accuracy')\n",
    "plt.xlabel('Epoch')\n",
    "plt.legend(['Train', 'Test'], loc='upper left')\n",
    "plt.show()"
   ]
  },
  {
   "cell_type": "markdown",
   "metadata": {
    "colab_type": "text",
    "id": "TQGSmqmeN6Et"
   },
   "source": [
    "Notice the validation loss is slightly lower than the training loss. If the model was overfitting, then the opposite would be true, so this is a peculiar case.\n",
    "\n",
    "There are a few reasons this can happen:\n",
    "\n",
    "\n",
    "1.   Keras artifact explained the [Keras FAQ](https://keras.io/getting-started/faq/#why-is-the-training-loss-much-higher-than-the-testing-loss). Keras computes training loss as the average during training time, which can change quite a bit during one epoch. Validation is computed at the end of an epoch when the model loss is probably lower.\n",
    "2.   The test set is not not representative of the training set. In some cases, the test set might be easier to predict than the training set. This could happen if a very small test set is used.\n",
    "\n",
    "\n",
    "\n",
    "\n"
   ]
  },
  {
   "cell_type": "markdown",
   "metadata": {
    "colab_type": "text",
    "id": "EjmI0CuZFLIU"
   },
   "source": [
    "## Make Predictions\n",
    "\n",
    "We can make predictions for a given user by creating a numpy array of all movies and a numpy array of the same dimension filled with just the one user we are interested in. The model will predict ratings for the specified user given all movies in the full data set.\n",
    "\n",
    "We can then sort the data set by predicted rating descending to get the best recommendations first."
   ]
  },
  {
   "cell_type": "code",
   "execution_count": 26,
   "metadata": {
    "colab": {
     "base_uri": "https://localhost:8080/",
     "height": 357
    },
    "colab_type": "code",
    "id": "WwzJSCvhj8U8",
    "outputId": "30f1adb2-e56f-403f-88c7-84ce04983bce"
   },
   "outputs": [
    {
     "data": {
      "text/html": [
       "<div>\n",
       "<style scoped>\n",
       "    .dataframe tbody tr th:only-of-type {\n",
       "        vertical-align: middle;\n",
       "    }\n",
       "\n",
       "    .dataframe tbody tr th {\n",
       "        vertical-align: top;\n",
       "    }\n",
       "\n",
       "    .dataframe thead th {\n",
       "        text-align: right;\n",
       "    }\n",
       "</style>\n",
       "<table border=\"1\" class=\"dataframe\">\n",
       "  <thead>\n",
       "    <tr style=\"text-align: right;\">\n",
       "      <th></th>\n",
       "      <th>userId</th>\n",
       "      <th>movieId</th>\n",
       "      <th>rating</th>\n",
       "      <th>title</th>\n",
       "      <th>userSeq</th>\n",
       "      <th>movieSeq</th>\n",
       "      <th>Predictions</th>\n",
       "    </tr>\n",
       "  </thead>\n",
       "  <tbody>\n",
       "    <tr>\n",
       "      <th>5770</th>\n",
       "      <td>1</td>\n",
       "      <td>1025</td>\n",
       "      <td>5.0</td>\n",
       "      <td>Sword in the Stone, The (1963)</td>\n",
       "      <td>0</td>\n",
       "      <td>783</td>\n",
       "      <td>6.115493</td>\n",
       "    </tr>\n",
       "    <tr>\n",
       "      <th>4121</th>\n",
       "      <td>1</td>\n",
       "      <td>592</td>\n",
       "      <td>4.0</td>\n",
       "      <td>Batman (1989)</td>\n",
       "      <td>0</td>\n",
       "      <td>509</td>\n",
       "      <td>5.881814</td>\n",
       "    </tr>\n",
       "    <tr>\n",
       "      <th>2755</th>\n",
       "      <td>1</td>\n",
       "      <td>362</td>\n",
       "      <td>5.0</td>\n",
       "      <td>Jungle Book, The (1994)</td>\n",
       "      <td>0</td>\n",
       "      <td>320</td>\n",
       "      <td>5.406270</td>\n",
       "    </tr>\n",
       "    <tr>\n",
       "      <th>6347</th>\n",
       "      <td>1</td>\n",
       "      <td>1090</td>\n",
       "      <td>4.0</td>\n",
       "      <td>Platoon (1986)</td>\n",
       "      <td>0</td>\n",
       "      <td>828</td>\n",
       "      <td>5.404517</td>\n",
       "    </tr>\n",
       "    <tr>\n",
       "      <th>1135</th>\n",
       "      <td>1</td>\n",
       "      <td>157</td>\n",
       "      <td>5.0</td>\n",
       "      <td>Canadian Bacon (1995)</td>\n",
       "      <td>0</td>\n",
       "      <td>130</td>\n",
       "      <td>5.352393</td>\n",
       "    </tr>\n",
       "    <tr>\n",
       "      <th>6127</th>\n",
       "      <td>1</td>\n",
       "      <td>1080</td>\n",
       "      <td>5.0</td>\n",
       "      <td>Monty Python's Life of Brian (1979)</td>\n",
       "      <td>0</td>\n",
       "      <td>819</td>\n",
       "      <td>5.003765</td>\n",
       "    </tr>\n",
       "    <tr>\n",
       "      <th>1146</th>\n",
       "      <td>1</td>\n",
       "      <td>163</td>\n",
       "      <td>5.0</td>\n",
       "      <td>Desperado (1995)</td>\n",
       "      <td>0</td>\n",
       "      <td>136</td>\n",
       "      <td>4.963420</td>\n",
       "    </tr>\n",
       "    <tr>\n",
       "      <th>4992</th>\n",
       "      <td>1</td>\n",
       "      <td>661</td>\n",
       "      <td>5.0</td>\n",
       "      <td>James and the Giant Peach (1996)</td>\n",
       "      <td>0</td>\n",
       "      <td>551</td>\n",
       "      <td>4.879146</td>\n",
       "    </tr>\n",
       "    <tr>\n",
       "      <th>2316</th>\n",
       "      <td>1</td>\n",
       "      <td>349</td>\n",
       "      <td>4.0</td>\n",
       "      <td>Clear and Present Danger (1994)</td>\n",
       "      <td>0</td>\n",
       "      <td>307</td>\n",
       "      <td>4.839455</td>\n",
       "    </tr>\n",
       "    <tr>\n",
       "      <th>4830</th>\n",
       "      <td>1</td>\n",
       "      <td>648</td>\n",
       "      <td>3.0</td>\n",
       "      <td>Mission: Impossible (1996)</td>\n",
       "      <td>0</td>\n",
       "      <td>546</td>\n",
       "      <td>4.812306</td>\n",
       "    </tr>\n",
       "  </tbody>\n",
       "</table>\n",
       "</div>"
      ],
      "text/plain": [
       "      userId  movieId  rating  ... userSeq  movieSeq  Predictions\n",
       "5770       1     1025     5.0  ...       0       783     6.115493\n",
       "4121       1      592     4.0  ...       0       509     5.881814\n",
       "2755       1      362     5.0  ...       0       320     5.406270\n",
       "6347       1     1090     4.0  ...       0       828     5.404517\n",
       "1135       1      157     5.0  ...       0       130     5.352393\n",
       "6127       1     1080     5.0  ...       0       819     5.003765\n",
       "1146       1      163     5.0  ...       0       136     4.963420\n",
       "4992       1      661     5.0  ...       0       551     4.879146\n",
       "2316       1      349     4.0  ...       0       307     4.839455\n",
       "4830       1      648     3.0  ...       0       546     4.812306\n",
       "\n",
       "[10 rows x 7 columns]"
      ]
     },
     "execution_count": 26,
     "metadata": {
      "tags": []
     },
     "output_type": "execute_result"
    }
   ],
   "source": [
    "# The user for whom we want to make recommendations\n",
    "userNumber = 0\n",
    "\n",
    "uniqueMovies = ratings.drop_duplicates(subset=['movieSeq'])\n",
    "\n",
    "movie_vector = uniqueMovies.movieSeq.values\n",
    "user_vector = np.ones((len(uniqueMovies),)) * userNumber\n",
    "predictions = model.predict([user_vector, movie_vector])\n",
    "pSeries = pd.Series([a[0] for a in predictions])\n",
    "predictedDF = uniqueMovies.copy()\n",
    "predictedDF['Predictions'] = pSeries\n",
    "\n",
    "predictedDF.sort_values(by='Predictions', ascending=False).head(10)"
   ]
  },
  {
   "cell_type": "markdown",
   "metadata": {
    "colab_type": "text",
    "id": "Ga2dHwYa7pP2"
   },
   "source": [
    "## Error Analysis\n",
    "\n",
    "Let's look at some movies where the ground truth did not compare well with predictions."
   ]
  },
  {
   "cell_type": "code",
   "execution_count": 27,
   "metadata": {
    "colab": {
     "base_uri": "https://localhost:8080/",
     "height": 203
    },
    "colab_type": "code",
    "id": "xC6srYBe6CU3",
    "outputId": "afa24907-c6f7-41e6-9e84-769b5cb719f4"
   },
   "outputs": [
    {
     "data": {
      "text/html": [
       "<div>\n",
       "<style scoped>\n",
       "    .dataframe tbody tr th:only-of-type {\n",
       "        vertical-align: middle;\n",
       "    }\n",
       "\n",
       "    .dataframe tbody tr th {\n",
       "        vertical-align: top;\n",
       "    }\n",
       "\n",
       "    .dataframe thead th {\n",
       "        text-align: right;\n",
       "    }\n",
       "</style>\n",
       "<table border=\"1\" class=\"dataframe\">\n",
       "  <thead>\n",
       "    <tr style=\"text-align: right;\">\n",
       "      <th></th>\n",
       "      <th>userId</th>\n",
       "      <th>movieId</th>\n",
       "      <th>rating</th>\n",
       "      <th>title</th>\n",
       "      <th>userSeq</th>\n",
       "      <th>movieSeq</th>\n",
       "      <th>Predictions</th>\n",
       "      <th>Error</th>\n",
       "    </tr>\n",
       "  </thead>\n",
       "  <tbody>\n",
       "    <tr>\n",
       "      <th>6641</th>\n",
       "      <td>1</td>\n",
       "      <td>1136</td>\n",
       "      <td>5.0</td>\n",
       "      <td>Monty Python and the Holy Grail (1975)</td>\n",
       "      <td>0</td>\n",
       "      <td>862</td>\n",
       "      <td>1.335920</td>\n",
       "      <td>13.425485</td>\n",
       "    </tr>\n",
       "    <tr>\n",
       "      <th>7130</th>\n",
       "      <td>1</td>\n",
       "      <td>1198</td>\n",
       "      <td>5.0</td>\n",
       "      <td>Raiders of the Lost Ark (Indiana Jones and the...</td>\n",
       "      <td>0</td>\n",
       "      <td>899</td>\n",
       "      <td>1.343206</td>\n",
       "      <td>13.372139</td>\n",
       "    </tr>\n",
       "    <tr>\n",
       "      <th>6216</th>\n",
       "      <td>1</td>\n",
       "      <td>1089</td>\n",
       "      <td>5.0</td>\n",
       "      <td>Reservoir Dogs (1992)</td>\n",
       "      <td>0</td>\n",
       "      <td>827</td>\n",
       "      <td>1.429206</td>\n",
       "      <td>12.750567</td>\n",
       "    </tr>\n",
       "    <tr>\n",
       "      <th>4649</th>\n",
       "      <td>1</td>\n",
       "      <td>608</td>\n",
       "      <td>5.0</td>\n",
       "      <td>Fargo (1996)</td>\n",
       "      <td>0</td>\n",
       "      <td>520</td>\n",
       "      <td>1.565738</td>\n",
       "      <td>11.794154</td>\n",
       "    </tr>\n",
       "    <tr>\n",
       "      <th>8450</th>\n",
       "      <td>1</td>\n",
       "      <td>1256</td>\n",
       "      <td>5.0</td>\n",
       "      <td>Duck Soup (1933)</td>\n",
       "      <td>0</td>\n",
       "      <td>954</td>\n",
       "      <td>1.569469</td>\n",
       "      <td>11.768541</td>\n",
       "    </tr>\n",
       "  </tbody>\n",
       "</table>\n",
       "</div>"
      ],
      "text/plain": [
       "      userId  movieId  rating  ... movieSeq  Predictions      Error\n",
       "6641       1     1136     5.0  ...      862     1.335920  13.425485\n",
       "7130       1     1198     5.0  ...      899     1.343206  13.372139\n",
       "6216       1     1089     5.0  ...      827     1.429206  12.750567\n",
       "4649       1      608     5.0  ...      520     1.565738  11.794154\n",
       "8450       1     1256     5.0  ...      954     1.569469  11.768541\n",
       "\n",
       "[5 rows x 8 columns]"
      ]
     },
     "execution_count": 27,
     "metadata": {
      "tags": []
     },
     "output_type": "execute_result"
    }
   ],
   "source": [
    "oneUser = predictedDF[predictedDF.userSeq == userNumber].copy()\n",
    "oneUser['Error'] = (oneUser.rating - oneUser.Predictions)**2\n",
    "oneUser.sort_values(by='Error', ascending=False).head(5)"
   ]
  },
  {
   "cell_type": "code",
   "execution_count": 28,
   "metadata": {
    "colab": {
     "base_uri": "https://localhost:8080/",
     "height": 417
    },
    "colab_type": "code",
    "id": "EaaOoNBLKyPt",
    "outputId": "b1c6a1ef-773e-461f-8c11-1ca4cac1a7e3"
   },
   "outputs": [
    {
     "data": {
      "text/html": [
       "<div>\n",
       "<style scoped>\n",
       "    .dataframe tbody tr th:only-of-type {\n",
       "        vertical-align: middle;\n",
       "    }\n",
       "\n",
       "    .dataframe tbody tr th {\n",
       "        vertical-align: top;\n",
       "    }\n",
       "\n",
       "    .dataframe thead th {\n",
       "        text-align: right;\n",
       "    }\n",
       "</style>\n",
       "<table border=\"1\" class=\"dataframe\">\n",
       "  <thead>\n",
       "    <tr style=\"text-align: right;\">\n",
       "      <th></th>\n",
       "      <th>userId</th>\n",
       "      <th>movieId</th>\n",
       "      <th>rating</th>\n",
       "      <th>title</th>\n",
       "      <th>userSeq</th>\n",
       "      <th>movieSeq</th>\n",
       "    </tr>\n",
       "  </thead>\n",
       "  <tbody>\n",
       "    <tr>\n",
       "      <th>4827</th>\n",
       "      <td>607</td>\n",
       "      <td>608</td>\n",
       "      <td>2.0</td>\n",
       "      <td>Fargo (1996)</td>\n",
       "      <td>606</td>\n",
       "      <td>520</td>\n",
       "    </tr>\n",
       "    <tr>\n",
       "      <th>4672</th>\n",
       "      <td>78</td>\n",
       "      <td>608</td>\n",
       "      <td>2.0</td>\n",
       "      <td>Fargo (1996)</td>\n",
       "      <td>77</td>\n",
       "      <td>520</td>\n",
       "    </tr>\n",
       "    <tr>\n",
       "      <th>4810</th>\n",
       "      <td>546</td>\n",
       "      <td>608</td>\n",
       "      <td>2.0</td>\n",
       "      <td>Fargo (1996)</td>\n",
       "      <td>545</td>\n",
       "      <td>520</td>\n",
       "    </tr>\n",
       "    <tr>\n",
       "      <th>4669</th>\n",
       "      <td>71</td>\n",
       "      <td>608</td>\n",
       "      <td>2.0</td>\n",
       "      <td>Fargo (1996)</td>\n",
       "      <td>70</td>\n",
       "      <td>520</td>\n",
       "    </tr>\n",
       "    <tr>\n",
       "      <th>4812</th>\n",
       "      <td>554</td>\n",
       "      <td>608</td>\n",
       "      <td>2.0</td>\n",
       "      <td>Fargo (1996)</td>\n",
       "      <td>553</td>\n",
       "      <td>520</td>\n",
       "    </tr>\n",
       "    <tr>\n",
       "      <th>...</th>\n",
       "      <td>...</td>\n",
       "      <td>...</td>\n",
       "      <td>...</td>\n",
       "      <td>...</td>\n",
       "      <td>...</td>\n",
       "      <td>...</td>\n",
       "    </tr>\n",
       "    <tr>\n",
       "      <th>4725</th>\n",
       "      <td>251</td>\n",
       "      <td>608</td>\n",
       "      <td>5.0</td>\n",
       "      <td>Fargo (1996)</td>\n",
       "      <td>250</td>\n",
       "      <td>520</td>\n",
       "    </tr>\n",
       "    <tr>\n",
       "      <th>4718</th>\n",
       "      <td>221</td>\n",
       "      <td>608</td>\n",
       "      <td>5.0</td>\n",
       "      <td>Fargo (1996)</td>\n",
       "      <td>220</td>\n",
       "      <td>520</td>\n",
       "    </tr>\n",
       "    <tr>\n",
       "      <th>4717</th>\n",
       "      <td>220</td>\n",
       "      <td>608</td>\n",
       "      <td>5.0</td>\n",
       "      <td>Fargo (1996)</td>\n",
       "      <td>219</td>\n",
       "      <td>520</td>\n",
       "    </tr>\n",
       "    <tr>\n",
       "      <th>4754</th>\n",
       "      <td>324</td>\n",
       "      <td>608</td>\n",
       "      <td>5.0</td>\n",
       "      <td>Fargo (1996)</td>\n",
       "      <td>323</td>\n",
       "      <td>520</td>\n",
       "    </tr>\n",
       "    <tr>\n",
       "      <th>4739</th>\n",
       "      <td>290</td>\n",
       "      <td>608</td>\n",
       "      <td>5.0</td>\n",
       "      <td>Fargo (1996)</td>\n",
       "      <td>289</td>\n",
       "      <td>520</td>\n",
       "    </tr>\n",
       "  </tbody>\n",
       "</table>\n",
       "<p>181 rows × 6 columns</p>\n",
       "</div>"
      ],
      "text/plain": [
       "      userId  movieId  rating         title  userSeq  movieSeq\n",
       "4827     607      608     2.0  Fargo (1996)      606       520\n",
       "4672      78      608     2.0  Fargo (1996)       77       520\n",
       "4810     546      608     2.0  Fargo (1996)      545       520\n",
       "4669      71      608     2.0  Fargo (1996)       70       520\n",
       "4812     554      608     2.0  Fargo (1996)      553       520\n",
       "...      ...      ...     ...           ...      ...       ...\n",
       "4725     251      608     5.0  Fargo (1996)      250       520\n",
       "4718     221      608     5.0  Fargo (1996)      220       520\n",
       "4717     220      608     5.0  Fargo (1996)      219       520\n",
       "4754     324      608     5.0  Fargo (1996)      323       520\n",
       "4739     290      608     5.0  Fargo (1996)      289       520\n",
       "\n",
       "[181 rows x 6 columns]"
      ]
     },
     "execution_count": 28,
     "metadata": {
      "tags": []
     },
     "output_type": "execute_result"
    }
   ],
   "source": [
    "ratings[ratings.movieSeq == 520].sort_values(by='rating', ascending=True)"
   ]
  }
 ],
 "metadata": {
  "accelerator": "GPU",
  "colab": {
   "collapsed_sections": [],
   "name": "Movie Recommendations.ipynb",
   "provenance": []
  },
  "kernelspec": {
   "display_name": "Python 3",
   "language": "python",
   "name": "python3"
  },
  "language_info": {
   "codemirror_mode": {
    "name": "ipython",
    "version": 3
   },
   "file_extension": ".py",
   "mimetype": "text/x-python",
   "name": "python",
   "nbconvert_exporter": "python",
   "pygments_lexer": "ipython3",
   "version": "3.6.8"
  }
 },
 "nbformat": 4,
 "nbformat_minor": 1
}
