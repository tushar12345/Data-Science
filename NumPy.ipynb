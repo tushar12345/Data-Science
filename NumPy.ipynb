{
  "nbformat": 4,
  "nbformat_minor": 0,
  "metadata": {
    "kernelspec": {
      "display_name": "Python 3",
      "language": "python",
      "name": "python3"
    },
    "language_info": {
      "codemirror_mode": {
        "name": "ipython",
        "version": 3
      },
      "file_extension": ".py",
      "mimetype": "text/x-python",
      "name": "python",
      "nbconvert_exporter": "python",
      "pygments_lexer": "ipython3",
      "version": "3.6.8"
    },
    "colab": {
      "name": "Copy of NumPy.ipynb",
      "provenance": [],
      "include_colab_link": true
    }
  },
  "cells": [
    {
      "cell_type": "markdown",
      "metadata": {
        "id": "view-in-github",
        "colab_type": "text"
      },
      "source": [
        "<a href=\"https://colab.research.google.com/github/tushar12345/Data-Science-Projects/blob/master/NumPy.ipynb\" target=\"_parent\"><img src=\"https://colab.research.google.com/assets/colab-badge.svg\" alt=\"Open In Colab\"/></a>"
      ]
    },
    {
      "cell_type": "markdown",
      "metadata": {
        "id": "JTum0g4nXiov",
        "colab_type": "text"
      },
      "source": [
        "# NumPy\n",
        "\n",
        "[NumPy](https://numpy.org) is a powerful Python library for creating and manipulating multidimentional arrays. It has powerful functions for linear algebra, statistical analysis, and transforms."
      ]
    },
    {
      "cell_type": "code",
      "metadata": {
        "id": "W5S16a0bXio1",
        "colab_type": "code",
        "colab": {}
      },
      "source": [
        "import numpy as np"
      ],
      "execution_count": 0,
      "outputs": []
    },
    {
      "cell_type": "markdown",
      "metadata": {
        "id": "MwoSt6hzXipH",
        "colab_type": "text"
      },
      "source": [
        "# Creating NumPy Arrays\n",
        "\n",
        "NumPy arrays can be created in many ways, a few of them are shown below. The [NumPy reference](https://numpy.org/doc/1.17/reference/index.html) documents all of the [array creation](https://numpy.org/doc/1.17/reference/routines.array-creation.html) routines."
      ]
    },
    {
      "cell_type": "code",
      "metadata": {
        "id": "zV-nwM7nXipQ",
        "colab_type": "code",
        "colab": {}
      },
      "source": [
        "a = np.zeros(5)\n",
        "a"
      ],
      "execution_count": 0,
      "outputs": []
    },
    {
      "cell_type": "code",
      "metadata": {
        "id": "t6RWps3YXipg",
        "colab_type": "code",
        "colab": {}
      },
      "source": [
        "a = np.ones(5)\n",
        "a"
      ],
      "execution_count": 0,
      "outputs": []
    },
    {
      "cell_type": "code",
      "metadata": {
        "id": "iYDKt3xAXipv",
        "colab_type": "code",
        "colab": {}
      },
      "source": [
        "np.random.random(5)"
      ],
      "execution_count": 0,
      "outputs": []
    },
    {
      "cell_type": "code",
      "metadata": {
        "id": "hbhkr7G9Xip-",
        "colab_type": "code",
        "colab": {}
      },
      "source": [
        "np.array([1, 2, 3, 4, 5])"
      ],
      "execution_count": 0,
      "outputs": []
    },
    {
      "cell_type": "code",
      "metadata": {
        "id": "r-HJ-fQuXiqM",
        "colab_type": "code",
        "colab": {}
      },
      "source": [
        "np.zeros((2, 2))"
      ],
      "execution_count": 0,
      "outputs": []
    },
    {
      "cell_type": "code",
      "metadata": {
        "id": "gMgcDd9AXiqZ",
        "colab_type": "code",
        "colab": {}
      },
      "source": [
        "np.random.random((2, 2))"
      ],
      "execution_count": 0,
      "outputs": []
    },
    {
      "cell_type": "code",
      "metadata": {
        "id": "KDZ53eqbXiqi",
        "colab_type": "code",
        "colab": {}
      },
      "source": [
        "np.array([[1, 2], [3, 4]])"
      ],
      "execution_count": 0,
      "outputs": []
    },
    {
      "cell_type": "markdown",
      "metadata": {
        "id": "bilrNlx3Xiqs",
        "colab_type": "text"
      },
      "source": [
        "# Basic Operations"
      ]
    },
    {
      "cell_type": "code",
      "metadata": {
        "id": "088VBTwLXiqu",
        "colab_type": "code",
        "colab": {}
      },
      "source": [
        "a = np.ones(5)\n",
        "a"
      ],
      "execution_count": 0,
      "outputs": []
    },
    {
      "cell_type": "code",
      "metadata": {
        "id": "cNYp0cQIXiq4",
        "colab_type": "code",
        "colab": {}
      },
      "source": [
        "a * 2"
      ],
      "execution_count": 0,
      "outputs": []
    },
    {
      "cell_type": "code",
      "metadata": {
        "id": "BcyY9TI9XirD",
        "colab_type": "code",
        "colab": {}
      },
      "source": [
        "b = np.array([1, 2, 3, 4, 5])\n",
        "b"
      ],
      "execution_count": 0,
      "outputs": []
    },
    {
      "cell_type": "code",
      "metadata": {
        "id": "gSHxFBWhXirO",
        "colab_type": "code",
        "colab": {}
      },
      "source": [
        "a + b"
      ],
      "execution_count": 0,
      "outputs": []
    },
    {
      "cell_type": "code",
      "metadata": {
        "id": "KkzyXz17Xira",
        "colab_type": "code",
        "colab": {}
      },
      "source": [
        "# 1-D slice\n",
        "\n",
        "b[1:4]"
      ],
      "execution_count": 0,
      "outputs": []
    },
    {
      "cell_type": "code",
      "metadata": {
        "id": "oPEUwfRAXirk",
        "colab_type": "code",
        "colab": {}
      },
      "source": [
        "a = np.array([[1, 2, 3], [4, 5, 6], [7, 8, 9]])\n",
        "a"
      ],
      "execution_count": 0,
      "outputs": []
    },
    {
      "cell_type": "code",
      "metadata": {
        "id": "E_ioJn_NXirt",
        "colab_type": "code",
        "colab": {}
      },
      "source": [
        "# Reverse columns\n",
        "\n",
        "a[:, ::-1]"
      ],
      "execution_count": 0,
      "outputs": []
    },
    {
      "cell_type": "code",
      "metadata": {
        "id": "zzQSmVIyXir2",
        "colab_type": "code",
        "colab": {}
      },
      "source": [
        "# Reverse rows\n",
        "\n",
        "a[::-1]"
      ],
      "execution_count": 0,
      "outputs": []
    },
    {
      "cell_type": "code",
      "metadata": {
        "id": "Ol7bLIcNXir-",
        "colab_type": "code",
        "colab": {}
      },
      "source": [
        "# Rows from 1:3 and columns from 1:3\n",
        "\n",
        "a[1:3, 1:3]"
      ],
      "execution_count": 0,
      "outputs": []
    },
    {
      "cell_type": "markdown",
      "metadata": {
        "id": "8ruJuhuxXisF",
        "colab_type": "text"
      },
      "source": [
        "# Statistical Functions"
      ]
    },
    {
      "cell_type": "code",
      "metadata": {
        "id": "R3KrMP5IXisG",
        "colab_type": "code",
        "colab": {
          "base_uri": "https://localhost:8080/",
          "height": 35
        },
        "outputId": "4255cfa9-7201-4a90-c1fb-071bd12f3d13"
      },
      "source": [
        "a = np.array([1, 2, 3, 4, 5])\n",
        "\n",
        "# Mean (average)\n",
        "\n",
        "np.mean(a)"
      ],
      "execution_count": 5,
      "outputs": [
        {
          "output_type": "execute_result",
          "data": {
            "text/plain": [
              "3.0"
            ]
          },
          "metadata": {
            "tags": []
          },
          "execution_count": 5
        }
      ]
    },
    {
      "cell_type": "code",
      "metadata": {
        "id": "WZsq4jf5XisO",
        "colab_type": "code",
        "colab": {
          "base_uri": "https://localhost:8080/",
          "height": 35
        },
        "outputId": "d982b088-afc2-44f9-e855-0131b50d2fda"
      },
      "source": [
        "# Standard deviation\n",
        "\n",
        "np.std(a)"
      ],
      "execution_count": 6,
      "outputs": [
        {
          "output_type": "execute_result",
          "data": {
            "text/plain": [
              "1.4142135623730951"
            ]
          },
          "metadata": {
            "tags": []
          },
          "execution_count": 6
        }
      ]
    },
    {
      "cell_type": "code",
      "metadata": {
        "id": "-4VYqzBjXisU",
        "colab_type": "code",
        "colab": {
          "base_uri": "https://localhost:8080/",
          "height": 35
        },
        "outputId": "2b351936-64a2-4e59-fc5d-2aea5ed70429"
      },
      "source": [
        "# Minimum value\n",
        "\n",
        "np.min(a)"
      ],
      "execution_count": 7,
      "outputs": [
        {
          "output_type": "execute_result",
          "data": {
            "text/plain": [
              "1"
            ]
          },
          "metadata": {
            "tags": []
          },
          "execution_count": 7
        }
      ]
    },
    {
      "cell_type": "code",
      "metadata": {
        "id": "SYQK8mOcXisd",
        "colab_type": "code",
        "colab": {
          "base_uri": "https://localhost:8080/",
          "height": 35
        },
        "outputId": "331619f1-2f97-481b-a01d-91ed78e57df0"
      },
      "source": [
        "# Index if maximum value\n",
        "\n",
        "np.argmax(a)"
      ],
      "execution_count": 8,
      "outputs": [
        {
          "output_type": "execute_result",
          "data": {
            "text/plain": [
              "4"
            ]
          },
          "metadata": {
            "tags": []
          },
          "execution_count": 8
        }
      ]
    },
    {
      "cell_type": "markdown",
      "metadata": {
        "id": "snqUXuoXXisn",
        "colab_type": "text"
      },
      "source": [
        "# Linear Algebra"
      ]
    },
    {
      "cell_type": "code",
      "metadata": {
        "id": "4Np9oT58Xisp",
        "colab_type": "code",
        "colab": {
          "base_uri": "https://localhost:8080/",
          "height": 35
        },
        "outputId": "f3741900-b594-4eb9-e2a7-db8bc6f88464"
      },
      "source": [
        "a = 2 * np.ones(5)\n",
        "b = np.array([1, 2, 3, 4, 5])\n",
        "\n",
        "# Dot product of two vectors\n",
        "\n",
        "a.dot(b)"
      ],
      "execution_count": 9,
      "outputs": [
        {
          "output_type": "execute_result",
          "data": {
            "text/plain": [
              "30.0"
            ]
          },
          "metadata": {
            "tags": []
          },
          "execution_count": 9
        }
      ]
    },
    {
      "cell_type": "code",
      "metadata": {
        "id": "8VOrPboOXisx",
        "colab_type": "code",
        "colab": {
          "base_uri": "https://localhost:8080/",
          "height": 54
        },
        "outputId": "daca56d4-2b4c-4c2f-c187-79776c27a6d9"
      },
      "source": [
        "a = np.array([[1, 2], [3, 4]])\n",
        "a"
      ],
      "execution_count": 10,
      "outputs": [
        {
          "output_type": "execute_result",
          "data": {
            "text/plain": [
              "array([[1, 2],\n",
              "       [3, 4]])"
            ]
          },
          "metadata": {
            "tags": []
          },
          "execution_count": 10
        }
      ]
    },
    {
      "cell_type": "code",
      "metadata": {
        "id": "glMXfLHAXis5",
        "colab_type": "code",
        "colab": {
          "base_uri": "https://localhost:8080/",
          "height": 54
        },
        "outputId": "7e7eadb9-e391-493e-f8d6-3b2d8c7ef5e0"
      },
      "source": [
        "# Transpose of a matrix\n",
        "\n",
        "a.T"
      ],
      "execution_count": 11,
      "outputs": [
        {
          "output_type": "execute_result",
          "data": {
            "text/plain": [
              "array([[1, 3],\n",
              "       [2, 4]])"
            ]
          },
          "metadata": {
            "tags": []
          },
          "execution_count": 11
        }
      ]
    },
    {
      "cell_type": "code",
      "metadata": {
        "id": "g9nnc6EeXitA",
        "colab_type": "code",
        "colab": {
          "base_uri": "https://localhost:8080/",
          "height": 35
        },
        "outputId": "52b1b459-e220-4b98-f634-a671c947a275"
      },
      "source": [
        "# Determinant of a matrix\n",
        "\n",
        "np.linalg.det(a)"
      ],
      "execution_count": 12,
      "outputs": [
        {
          "output_type": "execute_result",
          "data": {
            "text/plain": [
              "-2.0000000000000004"
            ]
          },
          "metadata": {
            "tags": []
          },
          "execution_count": 12
        }
      ]
    },
    {
      "cell_type": "code",
      "metadata": {
        "id": "WrWjITPuXitJ",
        "colab_type": "code",
        "colab": {
          "base_uri": "https://localhost:8080/",
          "height": 54
        },
        "outputId": "0cb4f8cd-0ecf-4ebc-ee81-efac53a53c41"
      },
      "source": [
        "# Inverse of a matrix\n",
        "\n",
        "b = np.linalg.inv(a)\n",
        "b"
      ],
      "execution_count": 13,
      "outputs": [
        {
          "output_type": "execute_result",
          "data": {
            "text/plain": [
              "array([[-2. ,  1. ],\n",
              "       [ 1.5, -0.5]])"
            ]
          },
          "metadata": {
            "tags": []
          },
          "execution_count": 13
        }
      ]
    },
    {
      "cell_type": "code",
      "metadata": {
        "id": "uHRVrzngXitZ",
        "colab_type": "code",
        "colab": {
          "base_uri": "https://localhost:8080/",
          "height": 54
        },
        "outputId": "8b5bdc07-0619-44dc-db23-0d94d13231f1"
      },
      "source": [
        "a.dot(b)"
      ],
      "execution_count": 14,
      "outputs": [
        {
          "output_type": "execute_result",
          "data": {
            "text/plain": [
              "array([[1.0000000e+00, 0.0000000e+00],\n",
              "       [8.8817842e-16, 1.0000000e+00]])"
            ]
          },
          "metadata": {
            "tags": []
          },
          "execution_count": 14
        }
      ]
    },
    {
      "cell_type": "markdown",
      "metadata": {
        "id": "DWAtx1vfXitg",
        "colab_type": "text"
      },
      "source": [
        "# Visualizing Data\n",
        "\n",
        "[Matplotlib](https://matplotlib.org) is a powerful, easy to use plotting library. It can be used with NumPy and Pandas."
      ]
    },
    {
      "cell_type": "code",
      "metadata": {
        "id": "wkldY0PlXith",
        "colab_type": "code",
        "colab": {}
      },
      "source": [
        "import math\n",
        "import matplotlib.pyplot as plt"
      ],
      "execution_count": 0,
      "outputs": []
    },
    {
      "cell_type": "code",
      "metadata": {
        "id": "E9KienqYXitn",
        "colab_type": "code",
        "colab": {}
      },
      "source": [
        "x = np.arange(0, 2*math.pi, 2*math.pi/50)\n",
        "sin = np.sin(x)\n",
        "cos = np.cos(x)"
      ],
      "execution_count": 0,
      "outputs": []
    },
    {
      "cell_type": "code",
      "metadata": {
        "id": "z671fKoPXitu",
        "colab_type": "code",
        "colab": {}
      },
      "source": [
        "plt.plot(x, sin, label='sin(x)', color='blue', linewidth=2.5)\n",
        "plt.plot(x, cos, label='cos(x)', color='red', linewidth=0.5)\n",
        "plt.ylabel('y')\n",
        "plt.xlabel('x')\n",
        "plt.legend(loc='upper right')\n",
        "plt.show()"
      ],
      "execution_count": 0,
      "outputs": []
    },
    {
      "cell_type": "code",
      "metadata": {
        "id": "D1WAod61Xitz",
        "colab_type": "code",
        "colab": {}
      },
      "source": [
        "plt.scatter(x, sin, label='sin(x)', color='green')\n",
        "plt.ylabel('y')\n",
        "plt.xlabel('x')\n",
        "plt.legend(loc='upper right')\n",
        "plt.show()"
      ],
      "execution_count": 0,
      "outputs": []
    },
    {
      "cell_type": "code",
      "metadata": {
        "id": "FszCRMpPXit5",
        "colab_type": "code",
        "colab": {}
      },
      "source": [
        "x = np.arange(0, math.pi, math.pi/10)\n",
        "plt.bar(x, np.sin(x), align='center', width=0.2)"
      ],
      "execution_count": 0,
      "outputs": []
    },
    {
      "cell_type": "code",
      "metadata": {
        "id": "6iv8gSodXiuB",
        "colab_type": "code",
        "colab": {}
      },
      "source": [
        "x = np.arange(0, math.pi, math.pi/10)\n",
        "plt.barh(x, np.sin(x), align='center', height=0.2)"
      ],
      "execution_count": 0,
      "outputs": []
    },
    {
      "cell_type": "markdown",
      "metadata": {
        "id": "zpHnCMLHXiuG",
        "colab_type": "text"
      },
      "source": [
        "# Working with Images\n",
        "\n",
        "NumPy and Matplotlib can be used images."
      ]
    },
    {
      "cell_type": "code",
      "metadata": {
        "id": "dXeKhPgMXiuG",
        "colab_type": "code",
        "colab": {}
      },
      "source": [
        "from skimage import io"
      ],
      "execution_count": 0,
      "outputs": []
    },
    {
      "cell_type": "code",
      "metadata": {
        "id": "ZfIvtb-5XiuO",
        "colab_type": "code",
        "colab": {}
      },
      "source": [
        "h500 = io.imread('https://madhu.com/images/h500.gif')\n",
        "plt.imshow(h500)"
      ],
      "execution_count": 0,
      "outputs": []
    },
    {
      "cell_type": "code",
      "metadata": {
        "id": "BO9V6Xv7XiuV",
        "colab_type": "code",
        "colab": {}
      },
      "source": [
        "h500.shape"
      ],
      "execution_count": 0,
      "outputs": []
    },
    {
      "cell_type": "code",
      "metadata": {
        "id": "yyuvd3jiXiuZ",
        "colab_type": "code",
        "colab": {}
      },
      "source": [
        "plt.imshow(h500[:, ::-1])"
      ],
      "execution_count": 0,
      "outputs": []
    },
    {
      "cell_type": "code",
      "metadata": {
        "id": "v_q2EAruXiue",
        "colab_type": "code",
        "colab": {}
      },
      "source": [
        "plt.imshow(h500[::-1])"
      ],
      "execution_count": 0,
      "outputs": []
    },
    {
      "cell_type": "code",
      "metadata": {
        "id": "vge2MwgxXiuj",
        "colab_type": "code",
        "colab": {}
      },
      "source": [
        "plt.imshow(h500[100:200, 100:250])"
      ],
      "execution_count": 0,
      "outputs": []
    },
    {
      "cell_type": "markdown",
      "metadata": {
        "id": "bovz2Z4OXiun",
        "colab_type": "text"
      },
      "source": [
        "# Reshaping Data"
      ]
    },
    {
      "cell_type": "code",
      "metadata": {
        "id": "zw_Qn3hxXiuo",
        "colab_type": "code",
        "colab": {}
      },
      "source": [
        "a = np.array([[1, 2], [3, 4]])\n",
        "a"
      ],
      "execution_count": 0,
      "outputs": []
    },
    {
      "cell_type": "code",
      "metadata": {
        "id": "5keUUSRQXiut",
        "colab_type": "code",
        "colab": {}
      },
      "source": [
        "a.reshape(4, 1)"
      ],
      "execution_count": 0,
      "outputs": []
    },
    {
      "cell_type": "code",
      "metadata": {
        "id": "30YuBd7VXiuz",
        "colab_type": "code",
        "colab": {}
      },
      "source": [
        "a.reshape(1, 4)"
      ],
      "execution_count": 0,
      "outputs": []
    },
    {
      "cell_type": "code",
      "metadata": {
        "id": "k2Y_WiL8Xiu4",
        "colab_type": "code",
        "colab": {}
      },
      "source": [
        "a.reshape(4, 1).shape"
      ],
      "execution_count": 0,
      "outputs": []
    },
    {
      "cell_type": "code",
      "metadata": {
        "id": "SBEPXvxmXiu-",
        "colab_type": "code",
        "colab": {}
      },
      "source": [
        "a = np.array([[1, 2, 3], [4, 5, 6]])\n",
        "a"
      ],
      "execution_count": 0,
      "outputs": []
    },
    {
      "cell_type": "code",
      "metadata": {
        "id": "SJsqlpCJXivF",
        "colab_type": "code",
        "colab": {}
      },
      "source": [
        "a.shape"
      ],
      "execution_count": 0,
      "outputs": []
    },
    {
      "cell_type": "code",
      "metadata": {
        "id": "e-HvhAH5XivK",
        "colab_type": "code",
        "colab": {}
      },
      "source": [
        "a.reshape(3, 2)"
      ],
      "execution_count": 0,
      "outputs": []
    },
    {
      "cell_type": "code",
      "metadata": {
        "id": "HQviTC0bXivR",
        "colab_type": "code",
        "colab": {}
      },
      "source": [
        "a = np.arange(0, 6)\n",
        "a"
      ],
      "execution_count": 0,
      "outputs": []
    },
    {
      "cell_type": "code",
      "metadata": {
        "id": "9xoY-EJHXivW",
        "colab_type": "code",
        "colab": {}
      },
      "source": [
        "a.reshape(2, 3)"
      ],
      "execution_count": 0,
      "outputs": []
    },
    {
      "cell_type": "code",
      "metadata": {
        "id": "fFyCQbjTXivd",
        "colab_type": "code",
        "colab": {}
      },
      "source": [
        ""
      ],
      "execution_count": 0,
      "outputs": []
    }
  ]
}