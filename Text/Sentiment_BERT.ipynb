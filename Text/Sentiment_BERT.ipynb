{
  "nbformat": 4,
  "nbformat_minor": 0,
  "metadata": {
    "colab": {
      "name": "Sentiment-BERT.ipynb",
      "provenance": [],
      "collapsed_sections": []
    },
    "kernelspec": {
      "name": "python3",
      "display_name": "Python 3"
    },
    "accelerator": "GPU"
  },
  "cells": [
    {
      "cell_type": "markdown",
      "metadata": {
        "id": "-XYOUdwbNZ1f",
        "colab_type": "text"
      },
      "source": [
        "# BERT Sentiment Classification\n",
        "\n",
        "The Google AI team published a paper in 2018 titled [Bidirectional Encoder Representations from Transformers for Natural Language Understanding](https://arxiv.org/abs/1810.04805), or more simply, BERT. This model is trained a large corpus of natural language text using in a self-supervised learning style. During training, the model is tries to predict a small set of masked words in a sentence.\n",
        "\n",
        "Consider this sentence: \"It's raining outside, unfortunately I left my _________ at home\". Clearly, the missing word should be umbrella, or similar. The missing word can be determined from context found in surrounding words. BERT learns context by \"reading\" millions of sentences, producing a pre-trained model that understands context. Layers can be added on top of pre-trained BERT models for specific language tasks. The complete model can be more accurate due to [transfer learning](https://en.wikipedia.org/wiki/Transfer_learning).\n",
        "\n",
        "Pre-trained BERT models are available for public use. The example below demonstrates how a simple classification model with a modest training data set can achieve high accuracy by taking advantage of knowledge BERT has previously learned."
      ]
    },
    {
      "cell_type": "code",
      "metadata": {
        "id": "N6WlBu6GNSyi",
        "colab_type": "code",
        "colab": {}
      },
      "source": [
        "%tensorflow_version 2.x"
      ],
      "execution_count": 0,
      "outputs": []
    },
    {
      "cell_type": "code",
      "metadata": {
        "id": "ZdwgQ7MfNoj2",
        "colab_type": "code",
        "colab": {
          "base_uri": "https://localhost:8080/",
          "height": 105
        },
        "outputId": "6b4ddbf8-99a9-4ec3-f452-19568d2eda03"
      },
      "source": [
        "!pip install --quiet bert-for-tf2\n",
        "!pip install --quiet sentencepiece"
      ],
      "execution_count": 2,
      "outputs": [
        {
          "output_type": "stream",
          "text": [
            "\u001b[?25l\r\u001b[K     |████████▏                       | 10kB 31.6MB/s eta 0:00:01\r\u001b[K     |████████████████▎               | 20kB 37.0MB/s eta 0:00:01\r\u001b[K     |████████████████████████▍       | 30kB 39.8MB/s eta 0:00:01\r\u001b[K     |████████████████████████████████| 40kB 6.1MB/s \n",
            "\u001b[?25h  Building wheel for bert-for-tf2 (setup.py) ... \u001b[?25l\u001b[?25hdone\n",
            "  Building wheel for py-params (setup.py) ... \u001b[?25l\u001b[?25hdone\n",
            "  Building wheel for params-flow (setup.py) ... \u001b[?25l\u001b[?25hdone\n",
            "\u001b[K     |████████████████████████████████| 1.0MB 46.0MB/s \n",
            "\u001b[?25h"
          ],
          "name": "stdout"
        }
      ]
    },
    {
      "cell_type": "code",
      "metadata": {
        "id": "VJzvJaBONyHe",
        "colab_type": "code",
        "colab": {}
      },
      "source": [
        "import tensorflow_hub as hub\n",
        "import bert\n",
        "import pandas as pd\n",
        "import numpy as np\n",
        "import tensorflow as tf\n",
        "\n",
        "from tensorflow.keras.layers import Dense, Dropout, Input, Dropout, Lambda\n",
        "from tensorflow.keras import Sequential\n",
        "from tensorflow.keras.models import Model\n",
        "from tensorflow.keras.optimizers import Adam\n",
        "\n",
        "from sklearn.model_selection import train_test_split\n",
        "\n",
        "import matplotlib.pyplot as plt\n",
        "import random"
      ],
      "execution_count": 0,
      "outputs": []
    },
    {
      "cell_type": "markdown",
      "metadata": {
        "id": "tl9VyhxKnZRP",
        "colab_type": "text"
      },
      "source": [
        "# Training Data\n",
        "\n",
        "Download labeled data from [UCI Machine Learning Repository](https://archive.ics.uci.edu/ml/datasets/Sentiment+Labelled+Sentences)"
      ]
    },
    {
      "cell_type": "code",
      "metadata": {
        "id": "Gr-B216RN3zu",
        "colab_type": "code",
        "colab": {
          "base_uri": "https://localhost:8080/",
          "height": 105
        },
        "outputId": "67a5caf2-1eb4-42a1-e9ff-47db414d3dfb"
      },
      "source": [
        "# Download data from https://archive.ics.uci.edu/ml/datasets/Sentiment+Labelled+Sentences\n",
        "\n",
        "!wget --quiet \"https://archive.ics.uci.edu/ml/machine-learning-databases/00331/sentiment%20labelled%20sentences.zip\"\n",
        "!unzip -q \"sentiment labelled sentences\"\n",
        "!mv \"sentiment labelled sentences\" data\n",
        "!ls -l data"
      ],
      "execution_count": 4,
      "outputs": [
        {
          "output_type": "stream",
          "text": [
            "total 208\n",
            "-rw-r--r-- 1 root root 58226 Jul  5  2016 amazon_cells_labelled.txt\n",
            "-rw-r--r-- 1 root root 85285 Feb 15  2015 imdb_labelled.txt\n",
            "-rw-r--r-- 1 root root  1070 May 31  2015 readme.txt\n",
            "-rw-r--r-- 1 root root 61320 Jul  5  2016 yelp_labelled.txt\n"
          ],
          "name": "stdout"
        }
      ]
    },
    {
      "cell_type": "code",
      "metadata": {
        "id": "j2JYb3UQNte2",
        "colab_type": "code",
        "outputId": "1e6db60b-652e-432a-de19-0b0a117ce5b3",
        "colab": {
          "base_uri": "https://localhost:8080/",
          "height": 220
        }
      },
      "source": [
        "files = ['data/yelp_labelled.txt', 'data/amazon_cells_labelled.txt', 'data/imdb_labelled.txt']\n",
        "\n",
        "df_list = []\n",
        "for file in files:\n",
        "    df = pd.read_csv(file, names=['comment', 'sentiment'], sep='\\t')\n",
        "    df_list.append(df)\n",
        "\n",
        "data = pd.concat(df_list)\n",
        "data['length'] = data.comment.str.split(' ').str.len()\n",
        "\n",
        "max_seq_length = 128\n",
        "\n",
        "# Keep only short comments\n",
        "shortComments = data[data.length < max_seq_length-5]\n",
        "print('Number of rows: %d' % len(shortComments))\n",
        "\n",
        "shortComments.head()"
      ],
      "execution_count": 5,
      "outputs": [
        {
          "output_type": "stream",
          "text": [
            "Number of rows: 2743\n"
          ],
          "name": "stdout"
        },
        {
          "output_type": "execute_result",
          "data": {
            "text/html": [
              "<div>\n",
              "<style scoped>\n",
              "    .dataframe tbody tr th:only-of-type {\n",
              "        vertical-align: middle;\n",
              "    }\n",
              "\n",
              "    .dataframe tbody tr th {\n",
              "        vertical-align: top;\n",
              "    }\n",
              "\n",
              "    .dataframe thead th {\n",
              "        text-align: right;\n",
              "    }\n",
              "</style>\n",
              "<table border=\"1\" class=\"dataframe\">\n",
              "  <thead>\n",
              "    <tr style=\"text-align: right;\">\n",
              "      <th></th>\n",
              "      <th>comment</th>\n",
              "      <th>sentiment</th>\n",
              "      <th>length</th>\n",
              "    </tr>\n",
              "  </thead>\n",
              "  <tbody>\n",
              "    <tr>\n",
              "      <th>0</th>\n",
              "      <td>Wow... Loved this place.</td>\n",
              "      <td>1</td>\n",
              "      <td>4</td>\n",
              "    </tr>\n",
              "    <tr>\n",
              "      <th>1</th>\n",
              "      <td>Crust is not good.</td>\n",
              "      <td>0</td>\n",
              "      <td>4</td>\n",
              "    </tr>\n",
              "    <tr>\n",
              "      <th>2</th>\n",
              "      <td>Not tasty and the texture was just nasty.</td>\n",
              "      <td>0</td>\n",
              "      <td>8</td>\n",
              "    </tr>\n",
              "    <tr>\n",
              "      <th>3</th>\n",
              "      <td>Stopped by during the late May bank holiday of...</td>\n",
              "      <td>1</td>\n",
              "      <td>15</td>\n",
              "    </tr>\n",
              "    <tr>\n",
              "      <th>4</th>\n",
              "      <td>The selection on the menu was great and so wer...</td>\n",
              "      <td>1</td>\n",
              "      <td>12</td>\n",
              "    </tr>\n",
              "  </tbody>\n",
              "</table>\n",
              "</div>"
            ],
            "text/plain": [
              "                                             comment  sentiment  length\n",
              "0                           Wow... Loved this place.          1       4\n",
              "1                                 Crust is not good.          0       4\n",
              "2          Not tasty and the texture was just nasty.          0       8\n",
              "3  Stopped by during the late May bank holiday of...          1      15\n",
              "4  The selection on the menu was great and so wer...          1      12"
            ]
          },
          "metadata": {
            "tags": []
          },
          "execution_count": 5
        }
      ]
    },
    {
      "cell_type": "markdown",
      "metadata": {
        "id": "hg7hnkt4neK1",
        "colab_type": "text"
      },
      "source": [
        "# Data Preparation"
      ]
    },
    {
      "cell_type": "code",
      "metadata": {
        "id": "no25EuibRkn3",
        "colab_type": "code",
        "colab": {}
      },
      "source": [
        "comments = shortComments.comment.astype(str).tolist()\n",
        "sentiments = shortComments.sentiment.tolist()\n",
        "labels = np.asarray(sentiments)\n",
        "\n",
        "x_train, x_test, y_train, y_test = train_test_split(comments, labels, test_size=0.2, random_state=42)"
      ],
      "execution_count": 0,
      "outputs": []
    },
    {
      "cell_type": "code",
      "metadata": {
        "id": "SLsycFuUQUMU",
        "colab_type": "code",
        "colab": {}
      },
      "source": [
        "bert_path = \"https://tfhub.dev/tensorflow/bert_en_uncased_L-12_H-768_A-12/1\"\n",
        "bert_layer = hub.KerasLayer(bert_path, trainable=False, name='BERT')\n",
        "vocab_file1 = bert_layer.resolved_object.vocab_file.asset_path.numpy()\n",
        "tokenizer = bert.bert_tokenization.FullTokenizer(vocab_file1, do_lower_case=True)"
      ],
      "execution_count": 0,
      "outputs": []
    },
    {
      "cell_type": "code",
      "metadata": {
        "id": "tsWSnJaj5H2V",
        "colab_type": "code",
        "colab": {}
      },
      "source": [
        "def encodeText(textList):\n",
        "  token_list = []\n",
        "  att_list = []\n",
        "  segment_list = []\n",
        "  for text in textList:\n",
        "    tokens = tokenizer.tokenize(text)\n",
        "    padding = ['[PAD]'] * (max_seq_length - len(tokens) - 2)\n",
        "    token_ids = tokenizer.convert_tokens_to_ids(['[CLS]'] + tokens + ['[SEP]'] + padding)\n",
        "    token_list.append(token_ids)\n",
        "\n",
        "    att_mask = [int(id > 0) for id in token_ids]\n",
        "    att_list.append(att_mask)\n",
        "\n",
        "    segment_ids = [0]*max_seq_length\n",
        "    segment_list.append(segment_ids)\n",
        "  return [tf.cast(token_list,tf.int32), tf.cast(att_list,tf.int32), tf.cast(segment_list,tf.int32)]"
      ],
      "execution_count": 0,
      "outputs": []
    },
    {
      "cell_type": "markdown",
      "metadata": {
        "id": "QmkLLlNEfxPO",
        "colab_type": "text"
      },
      "source": [
        "# Define Model"
      ]
    },
    {
      "cell_type": "code",
      "metadata": {
        "id": "KDGVde87ji8g",
        "colab_type": "code",
        "outputId": "8301021f-0954-4174-e192-7a3e8bc840b0",
        "colab": {
          "base_uri": "https://localhost:8080/",
          "height": 404
        }
      },
      "source": [
        "input_word_ids = tf.keras.layers.Input(shape=(max_seq_length,), dtype=tf.int32, name=\"input_word_ids\")\n",
        "input_mask = tf.keras.layers.Input(shape=(max_seq_length,), dtype=tf.int32, name=\"input_mask\")\n",
        "input_segment_ids = tf.keras.layers.Input(shape=(max_seq_length,), dtype=tf.int32, name=\"segment_ids\")\n",
        "pooled_output, sequence_output = bert_layer([input_word_ids, input_mask, input_segment_ids])\n",
        "\n",
        "l1 = Lambda(lambda seq: seq[:, 0, :])(sequence_output)\n",
        "output = Dense(2, activation='softmax')(l1)\n",
        "model = Model([input_word_ids, input_mask, input_segment_ids], output)\n",
        "model.compile(loss='sparse_categorical_crossentropy', optimizer=Adam(), metrics=['accuracy'])\n",
        "model.summary()"
      ],
      "execution_count": 9,
      "outputs": [
        {
          "output_type": "stream",
          "text": [
            "Model: \"model\"\n",
            "__________________________________________________________________________________________________\n",
            "Layer (type)                    Output Shape         Param #     Connected to                     \n",
            "==================================================================================================\n",
            "input_word_ids (InputLayer)     [(None, 128)]        0                                            \n",
            "__________________________________________________________________________________________________\n",
            "input_mask (InputLayer)         [(None, 128)]        0                                            \n",
            "__________________________________________________________________________________________________\n",
            "segment_ids (InputLayer)        [(None, 128)]        0                                            \n",
            "__________________________________________________________________________________________________\n",
            "BERT (KerasLayer)               [(None, 768), (None, 109482241   input_word_ids[0][0]             \n",
            "                                                                 input_mask[0][0]                 \n",
            "                                                                 segment_ids[0][0]                \n",
            "__________________________________________________________________________________________________\n",
            "lambda (Lambda)                 (None, 768)          0           BERT[0][1]                       \n",
            "__________________________________________________________________________________________________\n",
            "dense (Dense)                   (None, 2)            1538        lambda[0][0]                     \n",
            "==================================================================================================\n",
            "Total params: 109,483,779\n",
            "Trainable params: 1,538\n",
            "Non-trainable params: 109,482,241\n",
            "__________________________________________________________________________________________________\n"
          ],
          "name": "stdout"
        }
      ]
    },
    {
      "cell_type": "markdown",
      "metadata": {
        "id": "zBY_Za9Ef2XM",
        "colab_type": "text"
      },
      "source": [
        "# Transfer Learning\n",
        "\n",
        "BERT layer weights/biases are frozen, only train the final dense layer."
      ]
    },
    {
      "cell_type": "code",
      "metadata": {
        "id": "89VjM6GQ050W",
        "colab_type": "code",
        "outputId": "1fa27741-5ff8-4156-8b5d-4fb459d0ab2e",
        "colab": {
          "base_uri": "https://localhost:8080/",
          "height": 193
        }
      },
      "source": [
        "history = model.fit(encodeText(x_train), y_train, epochs=5, verbose=1, batch_size = 3, validation_data=(encodeText(x_test), y_test))"
      ],
      "execution_count": 10,
      "outputs": [
        {
          "output_type": "stream",
          "text": [
            "Epoch 1/5\n",
            "732/732 [==============================] - 36s 49ms/step - loss: 0.3773 - accuracy: 0.8496 - val_loss: 0.2810 - val_accuracy: 0.8907\n",
            "Epoch 2/5\n",
            "732/732 [==============================] - 34s 47ms/step - loss: 0.2417 - accuracy: 0.9139 - val_loss: 0.2540 - val_accuracy: 0.8889\n",
            "Epoch 3/5\n",
            "732/732 [==============================] - 34s 47ms/step - loss: 0.2150 - accuracy: 0.9248 - val_loss: 0.2608 - val_accuracy: 0.8871\n",
            "Epoch 4/5\n",
            "732/732 [==============================] - 34s 47ms/step - loss: 0.2016 - accuracy: 0.9216 - val_loss: 0.2531 - val_accuracy: 0.9035\n",
            "Epoch 5/5\n",
            "732/732 [==============================] - 34s 47ms/step - loss: 0.1913 - accuracy: 0.9294 - val_loss: 0.2463 - val_accuracy: 0.8998\n"
          ],
          "name": "stdout"
        }
      ]
    },
    {
      "cell_type": "markdown",
      "metadata": {
        "id": "G_G37pRkgGvf",
        "colab_type": "text"
      },
      "source": [
        "# Fine Tuning\n",
        "\n",
        "Unfreeze BERT layer, choose lower learning rate and retrain all layers."
      ]
    },
    {
      "cell_type": "code",
      "metadata": {
        "id": "SGAnGRAHZjgq",
        "colab_type": "code",
        "outputId": "88a87e44-cb1a-40cc-fc98-498de6b6453f",
        "colab": {
          "base_uri": "https://localhost:8080/",
          "height": 404
        }
      },
      "source": [
        "bert_layer.trainable = True\n",
        "output.trainable = False\n",
        "model2 = Model([input_word_ids, input_mask, input_segment_ids], output)\n",
        "model2.compile(loss='sparse_categorical_crossentropy', optimizer=Adam(1e-5), metrics=['accuracy'])\n",
        "model2.summary()"
      ],
      "execution_count": 11,
      "outputs": [
        {
          "output_type": "stream",
          "text": [
            "Model: \"model_1\"\n",
            "__________________________________________________________________________________________________\n",
            "Layer (type)                    Output Shape         Param #     Connected to                     \n",
            "==================================================================================================\n",
            "input_word_ids (InputLayer)     [(None, 128)]        0                                            \n",
            "__________________________________________________________________________________________________\n",
            "input_mask (InputLayer)         [(None, 128)]        0                                            \n",
            "__________________________________________________________________________________________________\n",
            "segment_ids (InputLayer)        [(None, 128)]        0                                            \n",
            "__________________________________________________________________________________________________\n",
            "BERT (KerasLayer)               [(None, 768), (None, 109482241   input_word_ids[0][0]             \n",
            "                                                                 input_mask[0][0]                 \n",
            "                                                                 segment_ids[0][0]                \n",
            "__________________________________________________________________________________________________\n",
            "lambda (Lambda)                 (None, 768)          0           BERT[0][1]                       \n",
            "__________________________________________________________________________________________________\n",
            "dense (Dense)                   (None, 2)            1538        lambda[0][0]                     \n",
            "==================================================================================================\n",
            "Total params: 109,483,779\n",
            "Trainable params: 109,483,778\n",
            "Non-trainable params: 1\n",
            "__________________________________________________________________________________________________\n"
          ],
          "name": "stdout"
        }
      ]
    },
    {
      "cell_type": "code",
      "metadata": {
        "id": "ZIQQ78oZTrVl",
        "colab_type": "code",
        "outputId": "bc45f4dd-aace-484a-b3ca-480e3c553af6",
        "colab": {
          "base_uri": "https://localhost:8080/",
          "height": 193
        }
      },
      "source": [
        "history2 = model2.fit(encodeText(x_train), y_train, epochs=5, verbose=1, batch_size = 3, validation_data=(encodeText(x_test), y_test))"
      ],
      "execution_count": 12,
      "outputs": [
        {
          "output_type": "stream",
          "text": [
            "Epoch 1/5\n",
            "732/732 [==============================] - 111s 151ms/step - loss: 0.1961 - accuracy: 0.9275 - val_loss: 0.1467 - val_accuracy: 0.9472\n",
            "Epoch 2/5\n",
            "732/732 [==============================] - 109s 149ms/step - loss: 0.0209 - accuracy: 0.9932 - val_loss: 0.2696 - val_accuracy: 0.9381\n",
            "Epoch 3/5\n",
            "732/732 [==============================] - 110s 150ms/step - loss: 0.0044 - accuracy: 0.9986 - val_loss: 0.2351 - val_accuracy: 0.9344\n",
            "Epoch 4/5\n",
            "732/732 [==============================] - 110s 150ms/step - loss: 7.8046e-04 - accuracy: 1.0000 - val_loss: 0.3164 - val_accuracy: 0.9472\n",
            "Epoch 5/5\n",
            "732/732 [==============================] - 109s 149ms/step - loss: 0.0125 - accuracy: 0.9986 - val_loss: 0.2628 - val_accuracy: 0.9399\n"
          ],
          "name": "stdout"
        }
      ]
    },
    {
      "cell_type": "code",
      "metadata": {
        "id": "iO1LWnfrHOeD",
        "colab_type": "code",
        "outputId": "92ccc2b3-1c1a-4567-c297-58185f62e084",
        "colab": {
          "base_uri": "https://localhost:8080/",
          "height": 295
        }
      },
      "source": [
        "plt.plot(history2.history['accuracy'])\n",
        "plt.plot(history2.history['val_accuracy'])\n",
        "plt.title('Model accuracy')\n",
        "plt.ylabel('Accuracy')\n",
        "plt.xlabel('Epoch')\n",
        "plt.legend(['Train', 'Test'], loc='upper left')\n",
        "plt.show()"
      ],
      "execution_count": 0,
      "outputs": [
        {
          "output_type": "display_data",
          "data": {
            "image/png": "[encoded data removed]",
            "text/plain": [
              "<Figure size 432x288 with 1 Axes>"
            ]
          },
          "metadata": {
            "tags": []
          }
        }
      ]
    },
    {
      "cell_type": "markdown",
      "metadata": {
        "id": "aM3opEonfIiy",
        "colab_type": "text"
      },
      "source": [
        "# Predictions"
      ]
    },
    {
      "cell_type": "code",
      "metadata": {
        "id": "FJY-hrCsdHqZ",
        "colab_type": "code",
        "colab": {}
      },
      "source": [
        "predictions = model2.predict(encodeText(x_test))\n",
        "most_likely = predictions.argmax(1)"
      ],
      "execution_count": 0,
      "outputs": []
    },
    {
      "cell_type": "code",
      "metadata": {
        "id": "Duv3GUEgdXzD",
        "colab_type": "code",
        "outputId": "603f7222-5749-4954-fb39-bd169d4831b2",
        "colab": {
          "base_uri": "https://localhost:8080/",
          "height": 52
        }
      },
      "source": [
        "index = random.randrange(len(predictions))\n",
        "print(x_test[index])\n",
        "print('Prediction: %d, label: %d' % (most_likely[index], y_test[index]))"
      ],
      "execution_count": 27,
      "outputs": [
        {
          "output_type": "stream",
          "text": [
            "I really loved the story line and the poler bear was kinda cute.But if anyone has a question about Fort Steele, just ask away:)  \n",
            "Prediction: 1, label: 1\n"
          ],
          "name": "stdout"
        }
      ]
    },
    {
      "cell_type": "markdown",
      "metadata": {
        "id": "9jGFSCDDfCDN",
        "colab_type": "text"
      },
      "source": [
        "# Error Analysis"
      ]
    },
    {
      "cell_type": "code",
      "metadata": {
        "id": "LysdAXCheBZW",
        "colab_type": "code",
        "outputId": "ade0a30c-4d6c-4d34-dfec-324ff6e84921",
        "colab": {
          "base_uri": "https://localhost:8080/",
          "height": 316
        }
      },
      "source": [
        "for i in range(1000):\n",
        "    index = random.randrange(len(predictions))\n",
        "    if most_likely[index] != y_test[index]:\n",
        "        break\n",
        "\n",
        "print(x_test[index])\n",
        "print('Prediction: %d, label: %d' % (most_likely[index], y_test[index]))\n",
        "\n",
        "plt.bar(range(2), predictions[index], tick_label=range(2))\n",
        "plt.title('Prediction values')\n",
        "plt.show()"
      ],
      "execution_count": 28,
      "outputs": [
        {
          "output_type": "stream",
          "text": [
            "The Veggitarian platter is out of this world!\n",
            "Prediction: 0, label: 1\n"
          ],
          "name": "stdout"
        },
        {
          "output_type": "display_data",
          "data": {
            "image/png": "[encoded data removed]",
            "text/plain": [
              "<Figure size 432x288 with 1 Axes>"
            ]
          },
          "metadata": {
            "tags": []
          }
        }
      ]
    },
    {
      "cell_type": "code",
      "metadata": {
        "id": "pHtbmSyhe_6x",
        "colab_type": "code",
        "outputId": "a3d713d0-3827-4e8d-ca5a-6dbb1e761d07",
        "colab": {
          "base_uri": "https://localhost:8080/",
          "height": 204
        }
      },
      "source": [
        "text = []\n",
        "labels = []\n",
        "preds = []\n",
        "for i in range(len(predictions)):\n",
        "  if most_likely[i] != y_test[i]:\n",
        "    text.append(x_test[i])\n",
        "    labels.append(y_test[i])\n",
        "    preds.append(most_likely[i])\n",
        "\n",
        "errors = pd.DataFrame({'Comment':text, 'Sentiment':labels, 'Predictions':preds})\n",
        "errors.head()"
      ],
      "execution_count": 0,
      "outputs": [
        {
          "output_type": "execute_result",
          "data": {
            "text/html": [
              "<div>\n",
              "<style scoped>\n",
              "    .dataframe tbody tr th:only-of-type {\n",
              "        vertical-align: middle;\n",
              "    }\n",
              "\n",
              "    .dataframe tbody tr th {\n",
              "        vertical-align: top;\n",
              "    }\n",
              "\n",
              "    .dataframe thead th {\n",
              "        text-align: right;\n",
              "    }\n",
              "</style>\n",
              "<table border=\"1\" class=\"dataframe\">\n",
              "  <thead>\n",
              "    <tr style=\"text-align: right;\">\n",
              "      <th></th>\n",
              "      <th>Comment</th>\n",
              "      <th>Sentiment</th>\n",
              "      <th>Predictions</th>\n",
              "    </tr>\n",
              "  </thead>\n",
              "  <tbody>\n",
              "    <tr>\n",
              "      <th>0</th>\n",
              "      <td>It definitely was not as good as my S11.</td>\n",
              "      <td>1</td>\n",
              "      <td>0</td>\n",
              "    </tr>\n",
              "    <tr>\n",
              "      <th>1</th>\n",
              "      <td>For a product that costs as much as this one d...</td>\n",
              "      <td>0</td>\n",
              "      <td>1</td>\n",
              "    </tr>\n",
              "    <tr>\n",
              "      <th>2</th>\n",
              "      <td>You get extra minutes so that you can carry ou...</td>\n",
              "      <td>1</td>\n",
              "      <td>0</td>\n",
              "    </tr>\n",
              "    <tr>\n",
              "      <th>3</th>\n",
              "      <td>This place deserves one star and 90% has to do...</td>\n",
              "      <td>0</td>\n",
              "      <td>1</td>\n",
              "    </tr>\n",
              "    <tr>\n",
              "      <th>4</th>\n",
              "      <td>I'm not really sure how Joey's was voted best ...</td>\n",
              "      <td>0</td>\n",
              "      <td>1</td>\n",
              "    </tr>\n",
              "  </tbody>\n",
              "</table>\n",
              "</div>"
            ],
            "text/plain": [
              "                                             Comment  Sentiment  Predictions\n",
              "0           It definitely was not as good as my S11.          1            0\n",
              "1  For a product that costs as much as this one d...          0            1\n",
              "2  You get extra minutes so that you can carry ou...          1            0\n",
              "3  This place deserves one star and 90% has to do...          0            1\n",
              "4  I'm not really sure how Joey's was voted best ...          0            1"
            ]
          },
          "metadata": {
            "tags": []
          },
          "execution_count": 19
        }
      ]
    }
  ]
}