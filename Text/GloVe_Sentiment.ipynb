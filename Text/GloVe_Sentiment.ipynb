{
  "nbformat": 4,
  "nbformat_minor": 0,
  "metadata": {
    "kernelspec": {
      "display_name": "Python 3",
      "language": "python",
      "name": "python3"
    },
    "language_info": {
      "codemirror_mode": {
        "name": "ipython",
        "version": 3
      },
      "file_extension": ".py",
      "mimetype": "text/x-python",
      "name": "python",
      "nbconvert_exporter": "python",
      "pygments_lexer": "ipython3",
      "version": "3.6.8"
    },
    "colab": {
      "name": "GloVe Sentiment.ipynb",
      "provenance": [],
      "collapsed_sections": []
    }
  },
  "cells": [
    {
      "cell_type": "markdown",
      "metadata": {
        "id": "ygBHZ2O-MFK1",
        "colab_type": "text"
      },
      "source": [
        "# Sentiment Analysis with GloVe Vectors\n",
        "\n",
        "Sentiment analysis is the process of categorizing opinions in natural language text. Several methods can be used to estimate sentiment. In this example, labeled reviews from Yelp, Amazon, and IMDB are used to train a supervised binary classification model. The model is a 1D convolutional neural network (CNN). While 2D CNNs are commonly used for image classification, their exceptional spatial capabilities can applied to text in one dimension.\n",
        "\n",
        "Words in a sentence must be encoded as vectors for training and prediction. This encoding is more commonly called embedding. A straightforward approach would assign every distinct word a unique numerical value. A better approach is use pretrained word embeddings based on a large corpus of text, such as Wikipedia. Global Vectors for Word Representation ([GloVe](https://nlp.stanford.edu/projects/glove/)) is a popular vector representation based on word co-occurance.\n"
      ]
    },
    {
      "cell_type": "code",
      "metadata": {
        "id": "G2MMR98QMFK3",
        "colab_type": "code",
        "colab": {}
      },
      "source": [
        "%tensorflow_version 2.x"
      ],
      "execution_count": 0,
      "outputs": []
    },
    {
      "cell_type": "code",
      "metadata": {
        "id": "CVAIpfO0MFK7",
        "colab_type": "code",
        "colab": {}
      },
      "source": [
        "import pandas as pd\n",
        "import numpy as np\n",
        "import random\n",
        "\n",
        "from tensorflow.keras.models import Sequential\n",
        "from tensorflow.keras.layers import Dense, Dropout, Flatten\n",
        "from tensorflow.keras.layers import Conv1D, GlobalMaxPooling1D, Embedding\n",
        "from tensorflow.keras.optimizers import Adam\n",
        "from tensorflow.keras.preprocessing.sequence import pad_sequences\n",
        "from tensorflow.keras.preprocessing.text import Tokenizer\n",
        "\n",
        "import matplotlib.pyplot as plt\n",
        "\n",
        "from sklearn.model_selection import train_test_split"
      ],
      "execution_count": 0,
      "outputs": []
    },
    {
      "cell_type": "markdown",
      "metadata": {
        "id": "WN_eQNboMFLA",
        "colab_type": "text"
      },
      "source": [
        "# Training Data\n",
        "\n",
        "Data is loaded into a Pandas data frame from text files. This dataset contains two columns: a natural language comment and binary positive/negative sentiment represented as 1 or 0.\n",
        "\n",
        "The data is available from the [UCI Machine Learning Repository](https://archive.ics.uci.edu/ml/datasets/Sentiment+Labelled+Sentences)"
      ]
    },
    {
      "cell_type": "code",
      "metadata": {
        "id": "WFyrqXX4M5ek",
        "colab_type": "code",
        "colab": {
          "base_uri": "https://localhost:8080/",
          "height": 105
        },
        "outputId": "419d2638-a875-4d20-d5a2-2dc53851a426"
      },
      "source": [
        "# Download data from https://archive.ics.uci.edu/ml/datasets/Sentiment+Labelled+Sentences\n",
        "\n",
        "!wget --quiet \"https://archive.ics.uci.edu/ml/machine-learning-databases/00331/sentiment%20labelled%20sentences.zip\"\n",
        "!unzip -q \"sentiment labelled sentences\"\n",
        "!mv \"sentiment labelled sentences\" data\n",
        "!ls -l data"
      ],
      "execution_count": 21,
      "outputs": [
        {
          "output_type": "stream",
          "text": [
            "total 208\n",
            "-rw-r--r-- 1 root root 58226 Jul  5  2016 amazon_cells_labelled.txt\n",
            "-rw-r--r-- 1 root root 85285 Feb 15  2015 imdb_labelled.txt\n",
            "-rw-r--r-- 1 root root  1070 May 31  2015 readme.txt\n",
            "-rw-r--r-- 1 root root 61320 Jul  5  2016 yelp_labelled.txt\n"
          ],
          "name": "stdout"
        }
      ]
    },
    {
      "cell_type": "code",
      "metadata": {
        "id": "je5Lkv_aMFLA",
        "colab_type": "code",
        "outputId": "dd8faa20-df15-4986-c441-0f6d7f72fe22",
        "colab": {
          "base_uri": "https://localhost:8080/",
          "height": 374
        }
      },
      "source": [
        "files = ['data/yelp_labelled.txt', 'data/amazon_cells_labelled.txt', 'data/imdb_labelled.txt']\n",
        "\n",
        "df_list = []\n",
        "for file in files:\n",
        "    df = pd.read_csv(file, names=['comment', 'sentiment'], sep='\\t')\n",
        "    df_list.append(df)\n",
        "\n",
        "trainingData = pd.concat(df_list)\n",
        "\n",
        "print('Number of rows: %d' % len(trainingData))\n",
        "\n",
        "trainingData.head(10)"
      ],
      "execution_count": 22,
      "outputs": [
        {
          "output_type": "stream",
          "text": [
            "Number of rows: 2748\n"
          ],
          "name": "stdout"
        },
        {
          "output_type": "execute_result",
          "data": {
            "text/html": [
              "<div>\n",
              "<style scoped>\n",
              "    .dataframe tbody tr th:only-of-type {\n",
              "        vertical-align: middle;\n",
              "    }\n",
              "\n",
              "    .dataframe tbody tr th {\n",
              "        vertical-align: top;\n",
              "    }\n",
              "\n",
              "    .dataframe thead th {\n",
              "        text-align: right;\n",
              "    }\n",
              "</style>\n",
              "<table border=\"1\" class=\"dataframe\">\n",
              "  <thead>\n",
              "    <tr style=\"text-align: right;\">\n",
              "      <th></th>\n",
              "      <th>comment</th>\n",
              "      <th>sentiment</th>\n",
              "    </tr>\n",
              "  </thead>\n",
              "  <tbody>\n",
              "    <tr>\n",
              "      <th>0</th>\n",
              "      <td>Wow... Loved this place.</td>\n",
              "      <td>1</td>\n",
              "    </tr>\n",
              "    <tr>\n",
              "      <th>1</th>\n",
              "      <td>Crust is not good.</td>\n",
              "      <td>0</td>\n",
              "    </tr>\n",
              "    <tr>\n",
              "      <th>2</th>\n",
              "      <td>Not tasty and the texture was just nasty.</td>\n",
              "      <td>0</td>\n",
              "    </tr>\n",
              "    <tr>\n",
              "      <th>3</th>\n",
              "      <td>Stopped by during the late May bank holiday of...</td>\n",
              "      <td>1</td>\n",
              "    </tr>\n",
              "    <tr>\n",
              "      <th>4</th>\n",
              "      <td>The selection on the menu was great and so wer...</td>\n",
              "      <td>1</td>\n",
              "    </tr>\n",
              "    <tr>\n",
              "      <th>5</th>\n",
              "      <td>Now I am getting angry and I want my damn pho.</td>\n",
              "      <td>0</td>\n",
              "    </tr>\n",
              "    <tr>\n",
              "      <th>6</th>\n",
              "      <td>Honeslty it didn't taste THAT fresh.)</td>\n",
              "      <td>0</td>\n",
              "    </tr>\n",
              "    <tr>\n",
              "      <th>7</th>\n",
              "      <td>The potatoes were like rubber and you could te...</td>\n",
              "      <td>0</td>\n",
              "    </tr>\n",
              "    <tr>\n",
              "      <th>8</th>\n",
              "      <td>The fries were great too.</td>\n",
              "      <td>1</td>\n",
              "    </tr>\n",
              "    <tr>\n",
              "      <th>9</th>\n",
              "      <td>A great touch.</td>\n",
              "      <td>1</td>\n",
              "    </tr>\n",
              "  </tbody>\n",
              "</table>\n",
              "</div>"
            ],
            "text/plain": [
              "                                             comment  sentiment\n",
              "0                           Wow... Loved this place.          1\n",
              "1                                 Crust is not good.          0\n",
              "2          Not tasty and the texture was just nasty.          0\n",
              "3  Stopped by during the late May bank holiday of...          1\n",
              "4  The selection on the menu was great and so wer...          1\n",
              "5     Now I am getting angry and I want my damn pho.          0\n",
              "6              Honeslty it didn't taste THAT fresh.)          0\n",
              "7  The potatoes were like rubber and you could te...          0\n",
              "8                          The fries were great too.          1\n",
              "9                                     A great touch.          1"
            ]
          },
          "metadata": {
            "tags": []
          },
          "execution_count": 22
        }
      ]
    },
    {
      "cell_type": "markdown",
      "metadata": {
        "id": "Iq6cMhkEMFLG",
        "colab_type": "text"
      },
      "source": [
        "# GloVE Embeddings\n",
        "\n",
        "These are some convenience functions for loading GloVE vectors and creating an embedding matrix.\n",
        "\n",
        "The GloVe vector files are downloaded from [Stanford](https://nlp.stanford.edu/projects/glove/)."
      ]
    },
    {
      "cell_type": "code",
      "metadata": {
        "id": "ZGcwMGR-R3tR",
        "colab_type": "code",
        "colab": {
          "base_uri": "https://localhost:8080/",
          "height": 369
        },
        "outputId": "0972d708-9bbc-449a-9242-de80d51a48e8"
      },
      "source": [
        "# Download GloVe embeddings\n",
        "\n",
        "!wget http://nlp.stanford.edu/data/glove.6B.zip\n",
        "!echo \"Unzipping glove.6B.zip\"\n",
        "!unzip -q glove.6B.zip\n",
        "!echo \"All done!\""
      ],
      "execution_count": 25,
      "outputs": [
        {
          "output_type": "stream",
          "text": [
            "--2020-03-29 17:14:41--  http://nlp.stanford.edu/data/glove.6B.zip\n",
            "Resolving nlp.stanford.edu (nlp.stanford.edu)... 171.64.67.140\n",
            "Connecting to nlp.stanford.edu (nlp.stanford.edu)|171.64.67.140|:80... connected.\n",
            "HTTP request sent, awaiting response... 302 Found\n",
            "Location: https://nlp.stanford.edu/data/glove.6B.zip [following]\n",
            "--2020-03-29 17:14:42--  https://nlp.stanford.edu/data/glove.6B.zip\n",
            "Connecting to nlp.stanford.edu (nlp.stanford.edu)|171.64.67.140|:443... connected.\n",
            "HTTP request sent, awaiting response... 301 Moved Permanently\n",
            "Location: http://downloads.cs.stanford.edu/nlp/data/glove.6B.zip [following]\n",
            "--2020-03-29 17:14:42--  http://downloads.cs.stanford.edu/nlp/data/glove.6B.zip\n",
            "Resolving downloads.cs.stanford.edu (downloads.cs.stanford.edu)... 171.64.64.22\n",
            "Connecting to downloads.cs.stanford.edu (downloads.cs.stanford.edu)|171.64.64.22|:80... connected.\n",
            "HTTP request sent, awaiting response... 200 OK\n",
            "Length: 862182613 (822M) [application/zip]\n",
            "Saving to: ‘glove.6B.zip’\n",
            "\n",
            "glove.6B.zip        100%[===================>] 822.24M  1.93MB/s    in 6m 29s  \n",
            "\n",
            "2020-03-29 17:21:12 (2.11 MB/s) - ‘glove.6B.zip’ saved [862182613/862182613]\n",
            "\n"
          ],
          "name": "stdout"
        }
      ]
    },
    {
      "cell_type": "code",
      "metadata": {
        "id": "zVeUb4AsMFLG",
        "colab_type": "code",
        "colab": {}
      },
      "source": [
        "MAX_NB_WORDS = 20000\n",
        "MAX_SEQUENCE_LENGTH = 1000\n",
        "EMBEDDING_DIM = 50\n",
        "\n",
        "num_classes = 2\n",
        "\n",
        "def load_glove_vectors():\n",
        "    print('Loading glove vectors...')\n",
        "    glove_map = {}\n",
        "    with open('glove.6B.%dd.txt' % EMBEDDING_DIM, encoding='utf8') as file:\n",
        "        for line in file:\n",
        "            values = line.split()\n",
        "            word = values[0]\n",
        "            glove_map[word] = np.asarray(values[1:], dtype='float32')\n",
        "    return glove_map\n",
        "\n",
        "def create_embedding_matrix(word_index, num_words):\n",
        "    glove_map = load_glove_vectors()\n",
        "    embedding_matrix = np.zeros((num_words, EMBEDDING_DIM))\n",
        "    for word, i in word_index.items():\n",
        "        if i > num_words:\n",
        "            continue\n",
        "        vector = glove_map.get(word)\n",
        "        if vector is not None:\n",
        "            embedding_matrix[i] = vector\n",
        "    return embedding_matrix"
      ],
      "execution_count": 0,
      "outputs": []
    },
    {
      "cell_type": "markdown",
      "metadata": {
        "id": "grxQxZ2NMFLI",
        "colab_type": "text"
      },
      "source": [
        "# Encode Text"
      ]
    },
    {
      "cell_type": "code",
      "metadata": {
        "id": "-7DV0_1XMFLJ",
        "colab_type": "code",
        "colab": {}
      },
      "source": [
        "comments = trainingData.comment.astype(str).tolist()\n",
        "sentiments = trainingData.sentiment.tolist()\n",
        "labels = np.asarray(sentiments)\n",
        "\n",
        "tokenizer = Tokenizer(num_words=MAX_NB_WORDS)\n",
        "tokenizer.fit_on_texts(comments)\n",
        "sequences = tokenizer.texts_to_sequences(comments)\n",
        "padded_sequences = pad_sequences(sequences, maxlen=MAX_SEQUENCE_LENGTH)\n",
        "\n",
        "word_index = tokenizer.word_index\n",
        "\n",
        "num_words = min(MAX_NB_WORDS, len(word_index)) + 1\n",
        "\n",
        "x_train, x_test, y_train, y_test = train_test_split(padded_sequences, labels, test_size=0.2)"
      ],
      "execution_count": 0,
      "outputs": []
    },
    {
      "cell_type": "code",
      "metadata": {
        "id": "EZlja3d1MFLL",
        "colab_type": "code",
        "outputId": "98876396-3cb0-4939-9273-006d71fcefc6",
        "colab": {
          "base_uri": "https://localhost:8080/",
          "height": 35
        }
      },
      "source": [
        "embedding_matrix = create_embedding_matrix(word_index, num_words)"
      ],
      "execution_count": 29,
      "outputs": [
        {
          "output_type": "stream",
          "text": [
            "Loading glove vectors...\n"
          ],
          "name": "stdout"
        }
      ]
    },
    {
      "cell_type": "markdown",
      "metadata": {
        "id": "OSCKoWPYMFLN",
        "colab_type": "text"
      },
      "source": [
        "# Define Model\n",
        "\n",
        "This is a 1D CNN model with a Keras embedding layer using the embedding matrix created above. The embedding layer is pre-trained, so it will not be trained here."
      ]
    },
    {
      "cell_type": "code",
      "metadata": {
        "id": "b0IUw1VDMFLO",
        "colab_type": "code",
        "outputId": "c0cc3b97-16e0-47e8-c0e0-7a97774875bc",
        "colab": {
          "base_uri": "https://localhost:8080/",
          "height": 439
        }
      },
      "source": [
        "dropout = 0.4\n",
        "\n",
        "model = Sequential()\n",
        "model.add(Embedding(num_words, EMBEDDING_DIM, weights=[embedding_matrix],\n",
        "                    input_length=MAX_SEQUENCE_LENGTH, trainable=False))\n",
        "model.add(Dropout(dropout))\n",
        "\n",
        "model.add(Conv1D(128, 5, activation='relu', padding='same', strides=2))\n",
        "model.add(GlobalMaxPooling1D())\n",
        "model.add(Dropout(dropout))\n",
        "\n",
        "model.add(Dense(128, activation='relu'))\n",
        "model.add(Dropout(dropout))\n",
        "model.add(Dense(num_classes, activation='softmax'))\n",
        "model.summary()"
      ],
      "execution_count": 30,
      "outputs": [
        {
          "output_type": "stream",
          "text": [
            "Model: \"sequential\"\n",
            "_________________________________________________________________\n",
            "Layer (type)                 Output Shape              Param #   \n",
            "=================================================================\n",
            "embedding (Embedding)        (None, 1000, 50)          263600    \n",
            "_________________________________________________________________\n",
            "dropout (Dropout)            (None, 1000, 50)          0         \n",
            "_________________________________________________________________\n",
            "conv1d (Conv1D)              (None, 500, 128)          32128     \n",
            "_________________________________________________________________\n",
            "global_max_pooling1d (Global (None, 128)               0         \n",
            "_________________________________________________________________\n",
            "dropout_1 (Dropout)          (None, 128)               0         \n",
            "_________________________________________________________________\n",
            "dense (Dense)                (None, 128)               16512     \n",
            "_________________________________________________________________\n",
            "dropout_2 (Dropout)          (None, 128)               0         \n",
            "_________________________________________________________________\n",
            "dense_1 (Dense)              (None, 2)                 258       \n",
            "=================================================================\n",
            "Total params: 312,498\n",
            "Trainable params: 48,898\n",
            "Non-trainable params: 263,600\n",
            "_________________________________________________________________\n"
          ],
          "name": "stdout"
        }
      ]
    },
    {
      "cell_type": "code",
      "metadata": {
        "id": "BUMaXNjMMFLQ",
        "colab_type": "code",
        "outputId": "12aae5cc-9b2b-4002-e600-d6c02654174f",
        "colab": {
          "base_uri": "https://localhost:8080/",
          "height": 1000
        }
      },
      "source": [
        "model.compile(loss='sparse_categorical_crossentropy', optimizer=Adam(), metrics=['acc'])\n",
        "\n",
        "# Train model for a given number of epochs\n",
        "history = model.fit(x_train, y_train, batch_size=128, epochs=40, verbose=1, validation_data=(x_test, y_test))\n",
        "\n",
        "# Evaluate model against test data\n",
        "score = model.evaluate(x_test, y_test, verbose=0)\n",
        "print('Test loss:', score[0])\n",
        "print('Test accuracy:', score[1])\n",
        "\n",
        "# summarize history for accuracy\n",
        "plt.plot(history.history['acc'])\n",
        "plt.plot(history.history['val_acc'])\n",
        "plt.title('Model accuracy')\n",
        "plt.ylabel('Accuracy')\n",
        "plt.xlabel('Epoch')\n",
        "plt.legend(['Train', 'Test'], loc='upper left')\n",
        "plt.show()"
      ],
      "execution_count": 31,
      "outputs": [
        {
          "output_type": "stream",
          "text": [
            "Epoch 1/40\n",
            "18/18 [==============================] - 5s 294ms/step - loss: 0.8190 - acc: 0.5182 - val_loss: 0.6636 - val_acc: 0.6200\n",
            "Epoch 2/40\n",
            "18/18 [==============================] - 5s 280ms/step - loss: 0.7283 - acc: 0.5214 - val_loss: 0.6692 - val_acc: 0.5945\n",
            "Epoch 3/40\n",
            "18/18 [==============================] - 5s 279ms/step - loss: 0.6887 - acc: 0.5710 - val_loss: 0.6656 - val_acc: 0.6436\n",
            "Epoch 4/40\n",
            "18/18 [==============================] - 5s 277ms/step - loss: 0.6721 - acc: 0.5892 - val_loss: 0.6436 - val_acc: 0.6618\n",
            "Epoch 5/40\n",
            "18/18 [==============================] - 5s 279ms/step - loss: 0.6505 - acc: 0.6228 - val_loss: 0.6472 - val_acc: 0.6527\n",
            "Epoch 6/40\n",
            "18/18 [==============================] - 5s 279ms/step - loss: 0.6450 - acc: 0.6397 - val_loss: 0.6175 - val_acc: 0.7145\n",
            "Epoch 7/40\n",
            "18/18 [==============================] - 5s 278ms/step - loss: 0.6255 - acc: 0.6451 - val_loss: 0.6004 - val_acc: 0.7145\n",
            "Epoch 8/40\n",
            "18/18 [==============================] - 5s 278ms/step - loss: 0.6120 - acc: 0.6756 - val_loss: 0.5815 - val_acc: 0.7164\n",
            "Epoch 9/40\n",
            "18/18 [==============================] - 5s 280ms/step - loss: 0.5849 - acc: 0.6806 - val_loss: 0.5559 - val_acc: 0.7309\n",
            "Epoch 10/40\n",
            "18/18 [==============================] - 5s 277ms/step - loss: 0.5944 - acc: 0.6920 - val_loss: 0.5431 - val_acc: 0.7545\n",
            "Epoch 11/40\n",
            "18/18 [==============================] - 5s 277ms/step - loss: 0.5736 - acc: 0.6929 - val_loss: 0.5513 - val_acc: 0.7309\n",
            "Epoch 12/40\n",
            "18/18 [==============================] - 5s 278ms/step - loss: 0.5623 - acc: 0.7029 - val_loss: 0.5213 - val_acc: 0.7600\n",
            "Epoch 13/40\n",
            "18/18 [==============================] - 5s 275ms/step - loss: 0.5414 - acc: 0.7157 - val_loss: 0.5124 - val_acc: 0.7600\n",
            "Epoch 14/40\n",
            "18/18 [==============================] - 5s 275ms/step - loss: 0.5236 - acc: 0.7393 - val_loss: 0.4984 - val_acc: 0.7636\n",
            "Epoch 15/40\n",
            "18/18 [==============================] - 5s 276ms/step - loss: 0.5172 - acc: 0.7434 - val_loss: 0.4923 - val_acc: 0.7509\n",
            "Epoch 16/40\n",
            "18/18 [==============================] - 5s 277ms/step - loss: 0.5188 - acc: 0.7443 - val_loss: 0.4908 - val_acc: 0.7655\n",
            "Epoch 17/40\n",
            "18/18 [==============================] - 5s 278ms/step - loss: 0.5206 - acc: 0.7343 - val_loss: 0.4871 - val_acc: 0.7709\n",
            "Epoch 18/40\n",
            "18/18 [==============================] - 5s 303ms/step - loss: 0.5324 - acc: 0.7370 - val_loss: 0.4875 - val_acc: 0.7655\n",
            "Epoch 19/40\n",
            "18/18 [==============================] - 5s 280ms/step - loss: 0.4951 - acc: 0.7575 - val_loss: 0.4776 - val_acc: 0.7673\n",
            "Epoch 20/40\n",
            "18/18 [==============================] - 5s 279ms/step - loss: 0.5051 - acc: 0.7475 - val_loss: 0.4763 - val_acc: 0.7691\n",
            "Epoch 21/40\n",
            "18/18 [==============================] - 5s 276ms/step - loss: 0.4956 - acc: 0.7639 - val_loss: 0.4762 - val_acc: 0.7745\n",
            "Epoch 22/40\n",
            "18/18 [==============================] - 5s 280ms/step - loss: 0.4937 - acc: 0.7602 - val_loss: 0.4712 - val_acc: 0.7691\n",
            "Epoch 23/40\n",
            "18/18 [==============================] - 5s 280ms/step - loss: 0.4879 - acc: 0.7607 - val_loss: 0.4666 - val_acc: 0.7745\n",
            "Epoch 24/40\n",
            "18/18 [==============================] - 5s 282ms/step - loss: 0.4781 - acc: 0.7561 - val_loss: 0.4662 - val_acc: 0.7709\n",
            "Epoch 25/40\n",
            "18/18 [==============================] - 5s 281ms/step - loss: 0.4885 - acc: 0.7666 - val_loss: 0.4720 - val_acc: 0.7818\n",
            "Epoch 26/40\n",
            "18/18 [==============================] - 5s 285ms/step - loss: 0.4864 - acc: 0.7630 - val_loss: 0.4754 - val_acc: 0.7836\n",
            "Epoch 27/40\n",
            "18/18 [==============================] - 5s 282ms/step - loss: 0.4632 - acc: 0.7693 - val_loss: 0.4676 - val_acc: 0.7800\n",
            "Epoch 28/40\n",
            "18/18 [==============================] - 5s 277ms/step - loss: 0.4752 - acc: 0.7843 - val_loss: 0.4647 - val_acc: 0.7782\n",
            "Epoch 29/40\n",
            "18/18 [==============================] - 5s 275ms/step - loss: 0.4841 - acc: 0.7739 - val_loss: 0.4623 - val_acc: 0.7891\n",
            "Epoch 30/40\n",
            "18/18 [==============================] - 5s 284ms/step - loss: 0.4463 - acc: 0.7812 - val_loss: 0.4638 - val_acc: 0.7636\n",
            "Epoch 31/40\n",
            "18/18 [==============================] - 5s 279ms/step - loss: 0.4512 - acc: 0.7798 - val_loss: 0.4608 - val_acc: 0.7855\n",
            "Epoch 32/40\n",
            "18/18 [==============================] - 5s 283ms/step - loss: 0.4553 - acc: 0.7866 - val_loss: 0.4582 - val_acc: 0.7891\n",
            "Epoch 33/40\n",
            "18/18 [==============================] - 5s 280ms/step - loss: 0.4618 - acc: 0.7757 - val_loss: 0.4579 - val_acc: 0.7836\n",
            "Epoch 34/40\n",
            "18/18 [==============================] - 5s 278ms/step - loss: 0.4442 - acc: 0.7912 - val_loss: 0.4630 - val_acc: 0.7873\n",
            "Epoch 35/40\n",
            "18/18 [==============================] - 5s 279ms/step - loss: 0.4401 - acc: 0.7925 - val_loss: 0.4595 - val_acc: 0.7709\n",
            "Epoch 36/40\n",
            "18/18 [==============================] - 5s 280ms/step - loss: 0.4471 - acc: 0.7857 - val_loss: 0.4574 - val_acc: 0.7764\n",
            "Epoch 37/40\n",
            "18/18 [==============================] - 5s 282ms/step - loss: 0.4292 - acc: 0.7907 - val_loss: 0.4540 - val_acc: 0.7691\n",
            "Epoch 38/40\n",
            "18/18 [==============================] - 5s 280ms/step - loss: 0.4379 - acc: 0.7953 - val_loss: 0.4531 - val_acc: 0.7636\n",
            "Epoch 39/40\n",
            "18/18 [==============================] - 5s 280ms/step - loss: 0.4181 - acc: 0.8071 - val_loss: 0.4544 - val_acc: 0.7818\n",
            "Epoch 40/40\n",
            "18/18 [==============================] - 5s 282ms/step - loss: 0.4270 - acc: 0.7944 - val_loss: 0.4549 - val_acc: 0.7909\n",
            "Test loss: 0.4803680181503296\n",
            "Test accuracy: 0.7909091114997864\n"
          ],
          "name": "stdout"
        },
        {
          "output_type": "display_data",
          "data": {
            "image/png": "[encoded data removed]",
            "text/plain": [
              "<Figure size 432x288 with 1 Axes>"
            ]
          },
          "metadata": {
            "tags": []
          }
        }
      ]
    },
    {
      "cell_type": "markdown",
      "metadata": {
        "id": "3LVwi0vLMFLS",
        "colab_type": "text"
      },
      "source": [
        "# Prediction"
      ]
    },
    {
      "cell_type": "code",
      "metadata": {
        "id": "_i423WNQMFLS",
        "colab_type": "code",
        "colab": {}
      },
      "source": [
        "predictions = model.predict(padded_sequences)\n",
        "most_likely = predictions.argmax(1)"
      ],
      "execution_count": 0,
      "outputs": []
    },
    {
      "cell_type": "code",
      "metadata": {
        "id": "2Ve2a-roMFLV",
        "colab_type": "code",
        "outputId": "1c987c57-94f2-4138-9838-47e9d6b096ea",
        "colab": {
          "base_uri": "https://localhost:8080/",
          "height": 52
        }
      },
      "source": [
        "index = random.randrange(len(predictions))\n",
        "print(comments[index])\n",
        "print('Prediction: %d, label: %d' % (most_likely[index], sentiments[index]))"
      ],
      "execution_count": 36,
      "outputs": [
        {
          "output_type": "stream",
          "text": [
            "The script is bad, very bad  it contains both cheesiness and unethical joke that you normally see in rated R or NC-17 movie.  \n",
            "Prediction: 0, label: 0\n"
          ],
          "name": "stdout"
        }
      ]
    },
    {
      "cell_type": "markdown",
      "metadata": {
        "id": "FcR3Qu6FMFLX",
        "colab_type": "text"
      },
      "source": [
        "# Error Analysis"
      ]
    },
    {
      "cell_type": "code",
      "metadata": {
        "id": "T7aMVD5lMFLX",
        "colab_type": "code",
        "outputId": "fb06e115-3f3d-4491-837a-673e648f3750",
        "colab": {
          "base_uri": "https://localhost:8080/",
          "height": 316
        }
      },
      "source": [
        "for i in range(10000):\n",
        "    index = random.randrange(len(predictions))\n",
        "    if most_likely[index] != sentiments[index]:\n",
        "        break\n",
        "\n",
        "print(comments[index])\n",
        "print('Prediction: %d, label: %d' % (most_likely[index], sentiments[index]))\n",
        "\n",
        "plt.bar(range(num_classes), predictions[index], tick_label=range(num_classes))\n",
        "plt.title('Prediction values')\n",
        "plt.show()"
      ],
      "execution_count": 40,
      "outputs": [
        {
          "output_type": "stream",
          "text": [
            "You get extra minutes so that you can carry out the call and not get cut off.\"\n",
            "Prediction: 0, label: 1\n"
          ],
          "name": "stdout"
        },
        {
          "output_type": "display_data",
          "data": {
            "image/png": "[encoded data removed]",
            "text/plain": [
              "<Figure size 432x288 with 1 Axes>"
            ]
          },
          "metadata": {
            "tags": []
          }
        }
      ]
    },
    {
      "cell_type": "code",
      "metadata": {
        "id": "hMplVIcbMFLZ",
        "colab_type": "code",
        "colab": {}
      },
      "source": [
        ""
      ],
      "execution_count": 0,
      "outputs": []
    }
  ]
}