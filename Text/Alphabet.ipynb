{
 "cells": [
  {
   "cell_type": "markdown",
   "metadata": {},
   "source": [
    "## Learning the Alphabet\n",
    "\n",
    "This is an example of a simple [LSTM](https://en.wikipedia.org/wiki/Long_short-term_memory) that is powerful enough to learn the alphabet. It is trained with strings that look like the alphabet.\n",
    "\n",
    "While this seems trivial, RNNs are capable of learning more complex text sequences, such as the works of Shakespeare or computer source code. Although training RNNs is computationally more expensive compared with other network structures, this example is simple enough to train on a CPU."
   ]
  },
  {
   "cell_type": "code",
   "execution_count": 1,
   "metadata": {},
   "outputs": [
    {
     "name": "stderr",
     "output_type": "stream",
     "text": [
      "Using TensorFlow backend.\n"
     ]
    }
   ],
   "source": [
    "# See https://machinelearningmastery.com/text-generation-lstm-recurrent-neural-networks-python-keras/\n",
    "# Small LSTM Network to Generate Text for Alice in Wonderland\n",
    "import sys\n",
    "import numpy\n",
    "from keras.models import Sequential\n",
    "from keras.layers import Dense\n",
    "from keras.layers import Dropout\n",
    "from keras.layers import LSTM\n",
    "from keras.callbacks import ModelCheckpoint\n",
    "from keras.utils import np_utils\n",
    "from matplotlib import pyplot as plt"
   ]
  },
  {
   "cell_type": "markdown",
   "metadata": {},
   "source": [
    "## Training Data\n",
    "\n",
    "The training data is generated using characters from 'a' to 'z'. Several sequences are concatenated to produce a longer sequence of characters."
   ]
  },
  {
   "cell_type": "code",
   "execution_count": 2,
   "metadata": {},
   "outputs": [
    {
     "name": "stdout",
     "output_type": "stream",
     "text": [
      "Subset of training data: abcdefghijklmnopqrstuvwxyzabcdefghijklmnopqrstuvwxyzabcdefghijkl\n",
      "Total Characters:  208\n",
      "Total Vocab:  26\n"
     ]
    }
   ],
   "source": [
    "# load ascii text and covert to lowercase\n",
    "raw_text = ''.join([chr(x) for x in range(ord('a'), ord('z')+1)])\n",
    "raw_text += raw_text\n",
    "raw_text += raw_text\n",
    "raw_text += raw_text\n",
    "# create mapping of unique chars to integers\n",
    "chars = sorted(list(set(raw_text)))\n",
    "char_to_int = dict((c, i) for i, c in enumerate(chars))\n",
    "int_to_char = dict((i, c) for i, c in enumerate(chars))\n",
    "\n",
    "print(\"Subset of training data: %s\" % raw_text[0:64])\n",
    "# summarize the loaded data\n",
    "n_chars = len(raw_text)\n",
    "n_vocab = len(chars)\n",
    "print(\"Total Characters: \", n_chars)\n",
    "print(\"Total Vocab: \", n_vocab)"
   ]
  },
  {
   "cell_type": "markdown",
   "metadata": {},
   "source": [
    "## Prepare Sequences\n",
    "\n",
    "Input and expected output sequences are prepared and encoded as integers."
   ]
  },
  {
   "cell_type": "code",
   "execution_count": 3,
   "metadata": {},
   "outputs": [
    {
     "name": "stdout",
     "output_type": "stream",
     "text": [
      "Total Patterns:  198\n"
     ]
    }
   ],
   "source": [
    "seq_length = 10\n",
    "dataX = []\n",
    "dataY = []\n",
    "for i in range(0, n_chars - seq_length, 1):\n",
    "    seq_in = raw_text[i:i + seq_length]\n",
    "    seq_out = raw_text[i + seq_length]\n",
    "    dataX.append([char_to_int[char] for char in seq_in])\n",
    "    dataY.append(char_to_int[seq_out])\n",
    "n_patterns = len(dataX)\n",
    "print(\"Total Patterns: \", n_patterns)"
   ]
  },
  {
   "cell_type": "markdown",
   "metadata": {},
   "source": [
    "## Train Model"
   ]
  },
  {
   "cell_type": "code",
   "execution_count": 4,
   "metadata": {},
   "outputs": [
    {
     "name": "stdout",
     "output_type": "stream",
     "text": [
      "WARNING:tensorflow:From C:\\ProgramData\\Anaconda3\\lib\\site-packages\\tensorflow\\python\\framework\\op_def_library.py:263: colocate_with (from tensorflow.python.framework.ops) is deprecated and will be removed in a future version.\n",
      "Instructions for updating:\n",
      "Colocations handled automatically by placer.\n",
      "WARNING:tensorflow:From C:\\ProgramData\\Anaconda3\\lib\\site-packages\\tensorflow\\python\\ops\\math_ops.py:3066: to_int32 (from tensorflow.python.ops.math_ops) is deprecated and will be removed in a future version.\n",
      "Instructions for updating:\n",
      "Use tf.cast instead.\n",
      "Epoch 1/100\n",
      " - 2s - loss: 3.2691\n",
      "Epoch 2/100\n",
      " - 1s - loss: 3.2344\n",
      "Epoch 3/100\n",
      " - 2s - loss: 3.1111\n",
      "Epoch 4/100\n",
      " - 2s - loss: 2.7656\n",
      "Epoch 5/100\n",
      " - 2s - loss: 2.4020\n",
      "Epoch 6/100\n",
      " - 2s - loss: 2.1680\n",
      "Epoch 7/100\n",
      " - 2s - loss: 2.0238\n",
      "Epoch 8/100\n",
      " - 2s - loss: 1.9023\n",
      "Epoch 9/100\n",
      " - 2s - loss: 1.8063\n",
      "Epoch 10/100\n",
      " - 1s - loss: 1.7181\n",
      "Epoch 11/100\n",
      " - 1s - loss: 1.6487\n",
      "Epoch 12/100\n",
      " - 2s - loss: 1.5739\n",
      "Epoch 13/100\n",
      " - 2s - loss: 1.5074\n",
      "Epoch 14/100\n",
      " - 1s - loss: 1.4387\n",
      "Epoch 15/100\n",
      " - 1s - loss: 1.3887\n",
      "Epoch 16/100\n",
      " - 1s - loss: 1.3486\n",
      "Epoch 17/100\n",
      " - 2s - loss: 1.2746\n",
      "Epoch 18/100\n",
      " - 1s - loss: 1.2188\n",
      "Epoch 19/100\n",
      " - 2s - loss: 1.1613\n",
      "Epoch 20/100\n",
      " - 2s - loss: 1.1377\n",
      "Epoch 21/100\n",
      " - 2s - loss: 1.0963\n",
      "Epoch 22/100\n",
      " - 2s - loss: 1.1027\n",
      "Epoch 23/100\n",
      " - 2s - loss: 1.0026\n",
      "Epoch 24/100\n",
      " - 2s - loss: 0.9680\n",
      "Epoch 25/100\n",
      " - 2s - loss: 0.9487\n",
      "Epoch 26/100\n",
      " - 2s - loss: 0.9370\n",
      "Epoch 27/100\n",
      " - 2s - loss: 0.8963\n",
      "Epoch 28/100\n",
      " - 2s - loss: 0.8549\n",
      "Epoch 29/100\n",
      " - 2s - loss: 0.8634\n",
      "Epoch 30/100\n",
      " - 2s - loss: 0.8034\n",
      "Epoch 31/100\n",
      " - 2s - loss: 0.7815\n",
      "Epoch 32/100\n",
      " - 2s - loss: 0.8020\n",
      "Epoch 33/100\n",
      " - 2s - loss: 0.8441\n",
      "Epoch 34/100\n",
      " - 2s - loss: 0.7404\n",
      "Epoch 35/100\n",
      " - 2s - loss: 0.6956\n",
      "Epoch 36/100\n",
      " - 2s - loss: 0.6741\n",
      "Epoch 37/100\n",
      " - 2s - loss: 0.7116\n",
      "Epoch 38/100\n",
      " - 2s - loss: 0.6610\n",
      "Epoch 39/100\n",
      " - 2s - loss: 0.6172\n",
      "Epoch 40/100\n",
      " - 2s - loss: 0.6118\n",
      "Epoch 41/100\n",
      " - 2s - loss: 0.6096\n",
      "Epoch 42/100\n",
      " - 2s - loss: 0.6296\n",
      "Epoch 43/100\n",
      " - 2s - loss: 0.6748\n",
      "Epoch 44/100\n",
      " - 2s - loss: 0.5279\n",
      "Epoch 45/100\n",
      " - 2s - loss: 0.5105\n",
      "Epoch 46/100\n",
      " - 2s - loss: 0.4956\n",
      "Epoch 47/100\n",
      " - 2s - loss: 0.4951\n",
      "Epoch 48/100\n",
      " - 2s - loss: 0.5804\n",
      "Epoch 49/100\n",
      " - 2s - loss: 0.4541\n",
      "Epoch 50/100\n",
      " - 2s - loss: 0.4520\n",
      "Epoch 51/100\n",
      " - 2s - loss: 0.4722\n",
      "Epoch 52/100\n",
      " - 2s - loss: 0.4726\n",
      "Epoch 53/100\n",
      " - 2s - loss: 0.4023\n",
      "Epoch 54/100\n",
      " - 2s - loss: 0.5296\n",
      "Epoch 55/100\n",
      " - 2s - loss: 0.7200\n",
      "Epoch 56/100\n",
      " - 1s - loss: 0.4212\n",
      "Epoch 57/100\n",
      " - 2s - loss: 0.3737\n",
      "Epoch 58/100\n",
      " - 2s - loss: 0.3740\n",
      "Epoch 59/100\n",
      " - 2s - loss: 0.3553\n",
      "Epoch 60/100\n",
      " - 1s - loss: 0.3753\n",
      "Epoch 61/100\n",
      " - 2s - loss: 0.3418\n",
      "Epoch 62/100\n",
      " - 2s - loss: 0.3338\n",
      "Epoch 63/100\n",
      " - 2s - loss: 0.3265\n",
      "Epoch 64/100\n",
      " - 2s - loss: 0.4111\n",
      "Epoch 65/100\n",
      " - 2s - loss: 0.5852\n",
      "Epoch 66/100\n",
      " - 2s - loss: 0.3046\n",
      "Epoch 67/100\n",
      " - 2s - loss: 0.2961\n",
      "Epoch 68/100\n",
      " - 1s - loss: 0.2914\n",
      "Epoch 69/100\n",
      " - 2s - loss: 0.2834\n",
      "Epoch 70/100\n",
      " - 2s - loss: 0.4003\n",
      "Epoch 71/100\n",
      " - 1s - loss: 0.6798\n",
      "Epoch 72/100\n",
      " - 1s - loss: 0.3171\n",
      "Epoch 73/100\n",
      " - 1s - loss: 0.2666\n",
      "Epoch 74/100\n",
      " - 2s - loss: 0.2647\n",
      "Epoch 75/100\n",
      " - 2s - loss: 0.2496\n",
      "Epoch 76/100\n",
      " - 1s - loss: 0.2631\n",
      "Epoch 77/100\n",
      " - 1s - loss: 0.2533\n",
      "Epoch 78/100\n",
      " - 2s - loss: 0.2433\n",
      "Epoch 79/100\n",
      " - 1s - loss: 0.2386\n",
      "Epoch 80/100\n",
      " - 2s - loss: 0.2398\n",
      "Epoch 81/100\n",
      " - 1s - loss: 0.2918\n",
      "Epoch 82/100\n",
      " - 1s - loss: 0.3496\n",
      "Epoch 83/100\n",
      " - 1s - loss: 0.2171\n",
      "Epoch 84/100\n",
      " - 1s - loss: 0.2155\n",
      "Epoch 85/100\n",
      " - 1s - loss: 0.2028\n",
      "Epoch 86/100\n",
      " - 1s - loss: 0.2057\n",
      "Epoch 87/100\n",
      " - 1s - loss: 0.8091\n",
      "Epoch 88/100\n",
      " - 1s - loss: 0.4556\n",
      "Epoch 89/100\n",
      " - 1s - loss: 0.2023\n",
      "Epoch 90/100\n",
      " - 1s - loss: 0.2025\n",
      "Epoch 91/100\n",
      " - 1s - loss: 0.1921\n",
      "Epoch 92/100\n",
      " - 2s - loss: 0.2001\n",
      "Epoch 93/100\n",
      " - 2s - loss: 0.1850\n",
      "Epoch 94/100\n",
      " - 2s - loss: 0.1820\n",
      "Epoch 95/100\n",
      " - 2s - loss: 0.1812\n",
      "Epoch 96/100\n",
      " - 2s - loss: 0.1807\n",
      "Epoch 97/100\n",
      " - 2s - loss: 0.1694\n",
      "Epoch 98/100\n",
      " - 2s - loss: 0.1850\n",
      "Epoch 99/100\n",
      " - 2s - loss: 0.2218\n",
      "Epoch 100/100\n",
      " - 2s - loss: 0.8065\n"
     ]
    }
   ],
   "source": [
    "# reshape X to be [samples, time steps, features]\n",
    "X = numpy.reshape(dataX, (n_patterns, seq_length, 1))\n",
    "# normalize\n",
    "X = X / float(n_vocab)\n",
    "# one hot encode the output variable\n",
    "y = np_utils.to_categorical(dataY)\n",
    "# define the LSTM model\n",
    "model = Sequential()\n",
    "model.add(LSTM(16, input_shape=(X.shape[1], X.shape[2])))\n",
    "#model.add(Dropout(0.2))\n",
    "model.add(Dense(y.shape[1], activation='softmax'))\n",
    "model.compile(loss='categorical_crossentropy', optimizer='adam')\n",
    "# define the checkpoint\n",
    "#filepath=\"weights-improvement-{epoch:02d}-{loss:.4f}.hdf5\"\n",
    "#checkpoint = ModelCheckpoint(filepath, monitor='loss', verbose=1, save_best_only=True, mode='min')\n",
    "#callbacks_list = [checkpoint]\n",
    "# fit the model\n",
    "#model.fit(X, y, epochs=20, batch_size=128, callbacks=callbacks_list)\n",
    "history = model.fit(X, y, epochs=100, batch_size=1, verbose=2)"
   ]
  },
  {
   "cell_type": "markdown",
   "metadata": {},
   "source": [
    "## Model Loss"
   ]
  },
  {
   "cell_type": "code",
   "execution_count": 5,
   "metadata": {},
   "outputs": [
    {
     "data": {
      "image/png": "[encoded data removed]",
      "text/plain": [
       "<Figure size 432x288 with 1 Axes>"
      ]
     },
     "metadata": {
      "needs_background": "light"
     },
     "output_type": "display_data"
    },
    {
     "name": "stdout",
     "output_type": "stream",
     "text": [
      "Minimum loss: 0.807\n"
     ]
    }
   ],
   "source": [
    "plt.plot(history.history['loss'])\n",
    "plt.title('Model loss')\n",
    "plt.ylabel('Loss')\n",
    "plt.xlabel('Epoch')\n",
    "plt.legend(['Train'], loc='upper left')\n",
    "plt.show()\n",
    "print(\"Minimum loss: %.3f\" % history.history['loss'][-1])"
   ]
  },
  {
   "cell_type": "markdown",
   "metadata": {},
   "source": [
    "## Prediction\n",
    "\n",
    "A random starting sequence is used to seed prediction. The output is almost perfect."
   ]
  },
  {
   "cell_type": "code",
   "execution_count": 6,
   "metadata": {},
   "outputs": [
    {
     "name": "stdout",
     "output_type": "stream",
     "text": [
      "Seed:\n",
      "\" stuvwxyzab \"\n",
      "cdefghijklmnopqrstuvwxyzabcdefghijklmnopqrstuvwxyzabcdefghijklmnopqrstuvwxyzabcdefghijklmnopqrstuvwx\n",
      "All done!\n"
     ]
    }
   ],
   "source": [
    "# pick a random seed\n",
    "start = numpy.random.randint(0, len(dataX)-1)\n",
    "pattern = dataX[start]\n",
    "#pattern = [start]\n",
    "print(\"Seed:\")\n",
    "print(\"\\\"\", ''.join([int_to_char[value] for value in pattern]), \"\\\"\")\n",
    "# generate characters\n",
    "for i in range(100):\n",
    "    x = numpy.reshape(pattern, (1, len(pattern), 1))\n",
    "    x = x / float(n_vocab)\n",
    "    prediction = model.predict(x, verbose=0)\n",
    "    index = numpy.argmax(prediction)\n",
    "    result = int_to_char[index]\n",
    "    seq_in = [int_to_char[value] for value in pattern]\n",
    "    sys.stdout.write(result)\n",
    "    pattern.append(index)\n",
    "    pattern = pattern[1:len(pattern)]\n",
    "print(\"\\nAll done!\")"
   ]
  },
  {
   "cell_type": "code",
   "execution_count": null,
   "metadata": {},
   "outputs": [],
   "source": []
  }
 ],
 "metadata": {
  "kernelspec": {
   "display_name": "Python 3",
   "language": "python",
   "name": "python3"
  },
  "language_info": {
   "codemirror_mode": {
    "name": "ipython",
    "version": 3
   },
   "file_extension": ".py",
   "mimetype": "text/x-python",
   "name": "python",
   "nbconvert_exporter": "python",
   "pygments_lexer": "ipython3",
   "version": "3.6.8"
  }
 },
 "nbformat": 4,
 "nbformat_minor": 2
}
