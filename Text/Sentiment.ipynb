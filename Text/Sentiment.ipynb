{
 "cells": [
  {
   "cell_type": "markdown",
   "metadata": {},
   "source": [
    "# Sentiment Analysis\n",
    "\n",
    "Sentiment analysis is the process of categorizing opinions in natural language text. Several methods can be used to estimate sentiment. In this example, labeled reviews from Yelp, Amazon, and IMDB are used to train a supervised binary classification model. The model is a 1D convolutional neural network (CNN). While 2D CNNs are commonly used for image classification, their exceptional spatial capabilities can applied to text in one dimension.\n",
    "\n",
    "Words in a sentence must be encoded as vectors for training and prediction. This encoding is more commonly called embedding. A straightforward approach would assign every distinct word a unique numerical value. A better approach is use pretrained word embeddings based on a large corpus of text, such as Wikipedia. Global Vectors for Word Representation ([GloVe](https://nlp.stanford.edu/projects/glove/)) is a popular vector representation based on word co-occurance.\n",
    "\n",
    "This is a Tensorflow 1.x notebook!"
   ]
  },
  {
   "cell_type": "code",
   "execution_count": null,
   "metadata": {},
   "outputs": [],
   "source": [
    "%tensorflow_version 1.x"
   ]
  },
  {
   "cell_type": "code",
   "execution_count": 1,
   "metadata": {},
   "outputs": [
    {
     "name": "stderr",
     "output_type": "stream",
     "text": [
      "Using TensorFlow backend.\n"
     ]
    }
   ],
   "source": [
    "import pandas as pd\n",
    "import numpy as np\n",
    "import random\n",
    "\n",
    "from keras.models import Sequential\n",
    "from keras.layers import Dense, Dropout, Flatten\n",
    "from keras.layers import Conv1D, GlobalMaxPooling1D, Embedding\n",
    "from keras.optimizers import Adam\n",
    "from keras.preprocessing.sequence import pad_sequences\n",
    "from keras.preprocessing.text import Tokenizer\n",
    "\n",
    "import matplotlib.pyplot as plt\n",
    "\n",
    "from sklearn.model_selection import train_test_split"
   ]
  },
  {
   "cell_type": "markdown",
   "metadata": {},
   "source": [
    "# Training Data\n",
    "\n",
    "Data is loaded into a Pandas data frame from text files. This dataset contains two columns: a natural language comment and binary positive/negative sentiment represented as 1 or 0."
   ]
  },
  {
   "cell_type": "code",
   "execution_count": 2,
   "metadata": {},
   "outputs": [
    {
     "name": "stdout",
     "output_type": "stream",
     "text": [
      "Number of rows: 2748\n"
     ]
    },
    {
     "data": {
      "text/html": [
       "<div>\n",
       "<style scoped>\n",
       "    .dataframe tbody tr th:only-of-type {\n",
       "        vertical-align: middle;\n",
       "    }\n",
       "\n",
       "    .dataframe tbody tr th {\n",
       "        vertical-align: top;\n",
       "    }\n",
       "\n",
       "    .dataframe thead th {\n",
       "        text-align: right;\n",
       "    }\n",
       "</style>\n",
       "<table border=\"1\" class=\"dataframe\">\n",
       "  <thead>\n",
       "    <tr style=\"text-align: right;\">\n",
       "      <th></th>\n",
       "      <th>comment</th>\n",
       "      <th>sentiment</th>\n",
       "    </tr>\n",
       "  </thead>\n",
       "  <tbody>\n",
       "    <tr>\n",
       "      <th>0</th>\n",
       "      <td>Wow... Loved this place.</td>\n",
       "      <td>1</td>\n",
       "    </tr>\n",
       "    <tr>\n",
       "      <th>1</th>\n",
       "      <td>Crust is not good.</td>\n",
       "      <td>0</td>\n",
       "    </tr>\n",
       "    <tr>\n",
       "      <th>2</th>\n",
       "      <td>Not tasty and the texture was just nasty.</td>\n",
       "      <td>0</td>\n",
       "    </tr>\n",
       "    <tr>\n",
       "      <th>3</th>\n",
       "      <td>Stopped by during the late May bank holiday of...</td>\n",
       "      <td>1</td>\n",
       "    </tr>\n",
       "    <tr>\n",
       "      <th>4</th>\n",
       "      <td>The selection on the menu was great and so wer...</td>\n",
       "      <td>1</td>\n",
       "    </tr>\n",
       "    <tr>\n",
       "      <th>5</th>\n",
       "      <td>Now I am getting angry and I want my damn pho.</td>\n",
       "      <td>0</td>\n",
       "    </tr>\n",
       "    <tr>\n",
       "      <th>6</th>\n",
       "      <td>Honeslty it didn't taste THAT fresh.)</td>\n",
       "      <td>0</td>\n",
       "    </tr>\n",
       "    <tr>\n",
       "      <th>7</th>\n",
       "      <td>The potatoes were like rubber and you could te...</td>\n",
       "      <td>0</td>\n",
       "    </tr>\n",
       "    <tr>\n",
       "      <th>8</th>\n",
       "      <td>The fries were great too.</td>\n",
       "      <td>1</td>\n",
       "    </tr>\n",
       "    <tr>\n",
       "      <th>9</th>\n",
       "      <td>A great touch.</td>\n",
       "      <td>1</td>\n",
       "    </tr>\n",
       "  </tbody>\n",
       "</table>\n",
       "</div>"
      ],
      "text/plain": [
       "                                             comment  sentiment\n",
       "0                           Wow... Loved this place.          1\n",
       "1                                 Crust is not good.          0\n",
       "2          Not tasty and the texture was just nasty.          0\n",
       "3  Stopped by during the late May bank holiday of...          1\n",
       "4  The selection on the menu was great and so wer...          1\n",
       "5     Now I am getting angry and I want my damn pho.          0\n",
       "6              Honeslty it didn't taste THAT fresh.)          0\n",
       "7  The potatoes were like rubber and you could te...          0\n",
       "8                          The fries were great too.          1\n",
       "9                                     A great touch.          1"
      ]
     },
     "execution_count": 2,
     "metadata": {},
     "output_type": "execute_result"
    }
   ],
   "source": [
    "# Download data from https://archive.ics.uci.edu/ml/datasets/Sentiment+Labelled+Sentences\n",
    "\n",
    "files = ['data/yelp_labelled.txt', 'data/amazon_cells_labelled.txt', 'data/imdb_labelled.txt']\n",
    "\n",
    "df_list = []\n",
    "for file in files:\n",
    "    df = pd.read_csv(file, names=['comment', 'sentiment'], sep='\\t')\n",
    "    df_list.append(df)\n",
    "\n",
    "trainingData = pd.concat(df_list)\n",
    "\n",
    "print('Number of rows: %d' % len(trainingData))\n",
    "\n",
    "trainingData.head(10)"
   ]
  },
  {
   "cell_type": "code",
   "execution_count": 3,
   "metadata": {},
   "outputs": [],
   "source": [
    "MAX_NB_WORDS = 20000\n",
    "MAX_SEQUENCE_LENGTH = 1000\n",
    "EMBEDDING_DIM = 50\n",
    "\n",
    "num_classes = 2"
   ]
  },
  {
   "cell_type": "markdown",
   "metadata": {},
   "source": [
    "# GloVE Embeddings\n",
    "\n",
    "These are some convenience functions for loading GloVE vectors and creating an embedding matrix."
   ]
  },
  {
   "cell_type": "code",
   "execution_count": 4,
   "metadata": {},
   "outputs": [],
   "source": [
    "def load_glove_vectors():\n",
    "    print('Loading glove vectors...')\n",
    "    glove_map = {}\n",
    "    with open('data/glove.6B.%dd.txt' % EMBEDDING_DIM, encoding='utf8') as file:\n",
    "        for line in file:\n",
    "            values = line.split()\n",
    "            word = values[0]\n",
    "            glove_map[word] = np.asarray(values[1:], dtype='float32')\n",
    "    return glove_map\n",
    "\n",
    "def create_embedding_matrix(word_index, num_words):\n",
    "    glove_map = load_glove_vectors()\n",
    "    embedding_matrix = np.zeros((num_words, EMBEDDING_DIM))\n",
    "    for word, i in word_index.items():\n",
    "        if i > num_words:\n",
    "            continue\n",
    "        vector = glove_map.get(word)\n",
    "        if vector is not None:\n",
    "            embedding_matrix[i] = vector\n",
    "    return embedding_matrix"
   ]
  },
  {
   "cell_type": "markdown",
   "metadata": {},
   "source": [
    "# Encode Text"
   ]
  },
  {
   "cell_type": "code",
   "execution_count": 5,
   "metadata": {},
   "outputs": [],
   "source": [
    "comments = trainingData.comment.astype(str).tolist()\n",
    "sentiments = trainingData.sentiment.tolist()\n",
    "labels = np.asarray(sentiments)\n",
    "\n",
    "tokenizer = Tokenizer(num_words=MAX_NB_WORDS)\n",
    "tokenizer.fit_on_texts(comments)\n",
    "sequences = tokenizer.texts_to_sequences(comments)\n",
    "padded_sequences = pad_sequences(sequences, maxlen=MAX_SEQUENCE_LENGTH)\n",
    "\n",
    "word_index = tokenizer.word_index\n",
    "\n",
    "num_words = min(MAX_NB_WORDS, len(word_index)) + 1\n",
    "\n",
    "x_train, x_test, y_train, y_test = train_test_split(padded_sequences, labels, test_size=0.2)"
   ]
  },
  {
   "cell_type": "code",
   "execution_count": 6,
   "metadata": {},
   "outputs": [
    {
     "name": "stdout",
     "output_type": "stream",
     "text": [
      "Loading glove vectors...\n"
     ]
    }
   ],
   "source": [
    "embedding_matrix = create_embedding_matrix(word_index, num_words)"
   ]
  },
  {
   "cell_type": "markdown",
   "metadata": {},
   "source": [
    "# Define Model\n",
    "\n",
    "This is a 1D CNN model with a Keras embedding layer using the embedding matrix created above. The embedding layer is pre-trained, so it will not be trained here."
   ]
  },
  {
   "cell_type": "code",
   "execution_count": 7,
   "metadata": {},
   "outputs": [
    {
     "name": "stdout",
     "output_type": "stream",
     "text": [
      "WARNING:tensorflow:From C:\\ProgramData\\Anaconda3\\lib\\site-packages\\tensorflow\\python\\framework\\op_def_library.py:263: colocate_with (from tensorflow.python.framework.ops) is deprecated and will be removed in a future version.\n",
      "Instructions for updating:\n",
      "Colocations handled automatically by placer.\n",
      "WARNING:tensorflow:From C:\\ProgramData\\Anaconda3\\lib\\site-packages\\keras\\backend\\tensorflow_backend.py:3445: calling dropout (from tensorflow.python.ops.nn_ops) with keep_prob is deprecated and will be removed in a future version.\n",
      "Instructions for updating:\n",
      "Please use `rate` instead of `keep_prob`. Rate should be set to `rate = 1 - keep_prob`.\n",
      "_________________________________________________________________\n",
      "Layer (type)                 Output Shape              Param #   \n",
      "=================================================================\n",
      "embedding_1 (Embedding)      (None, 1000, 50)          263600    \n",
      "_________________________________________________________________\n",
      "dropout_1 (Dropout)          (None, 1000, 50)          0         \n",
      "_________________________________________________________________\n",
      "conv1d_1 (Conv1D)            (None, 500, 128)          32128     \n",
      "_________________________________________________________________\n",
      "global_max_pooling1d_1 (Glob (None, 128)               0         \n",
      "_________________________________________________________________\n",
      "dropout_2 (Dropout)          (None, 128)               0         \n",
      "_________________________________________________________________\n",
      "dense_1 (Dense)              (None, 128)               16512     \n",
      "_________________________________________________________________\n",
      "dropout_3 (Dropout)          (None, 128)               0         \n",
      "_________________________________________________________________\n",
      "dense_2 (Dense)              (None, 2)                 258       \n",
      "=================================================================\n",
      "Total params: 312,498\n",
      "Trainable params: 48,898\n",
      "Non-trainable params: 263,600\n",
      "_________________________________________________________________\n"
     ]
    }
   ],
   "source": [
    "dropout = 0.4\n",
    "\n",
    "model = Sequential()\n",
    "model.add(Embedding(num_words, EMBEDDING_DIM, weights=[embedding_matrix],\n",
    "                    input_length=MAX_SEQUENCE_LENGTH, trainable=False))\n",
    "model.add(Dropout(dropout))\n",
    "\n",
    "model.add(Conv1D(128, 5, activation='relu', padding='same', strides=2))\n",
    "model.add(GlobalMaxPooling1D())\n",
    "model.add(Dropout(dropout))\n",
    "\n",
    "model.add(Dense(128, activation='relu'))\n",
    "model.add(Dropout(dropout))\n",
    "model.add(Dense(num_classes, activation='softmax'))\n",
    "model.summary()"
   ]
  },
  {
   "cell_type": "code",
   "execution_count": 8,
   "metadata": {},
   "outputs": [
    {
     "name": "stdout",
     "output_type": "stream",
     "text": [
      "WARNING:tensorflow:From C:\\ProgramData\\Anaconda3\\lib\\site-packages\\tensorflow\\python\\ops\\math_ops.py:3066: to_int32 (from tensorflow.python.ops.math_ops) is deprecated and will be removed in a future version.\n",
      "Instructions for updating:\n",
      "Use tf.cast instead.\n",
      "WARNING:tensorflow:From C:\\ProgramData\\Anaconda3\\lib\\site-packages\\tensorflow\\python\\ops\\math_grad.py:102: div (from tensorflow.python.ops.math_ops) is deprecated and will be removed in a future version.\n",
      "Instructions for updating:\n",
      "Deprecated in favor of operator or tf.math.divide.\n",
      "Train on 2198 samples, validate on 550 samples\n",
      "Epoch 1/40\n",
      "2198/2198 [==============================] - 6s 3ms/step - loss: 0.8654 - acc: 0.5114 - val_loss: 0.6773 - val_acc: 0.5436\n",
      "Epoch 2/40\n",
      "2198/2198 [==============================] - 5s 2ms/step - loss: 0.7253 - acc: 0.5409 - val_loss: 0.6634 - val_acc: 0.6655\n",
      "Epoch 3/40\n",
      "2198/2198 [==============================] - 5s 2ms/step - loss: 0.6824 - acc: 0.5746 - val_loss: 0.6488 - val_acc: 0.6891\n",
      "Epoch 4/40\n",
      "2198/2198 [==============================] - 5s 2ms/step - loss: 0.6750 - acc: 0.5828 - val_loss: 0.6362 - val_acc: 0.7218\n",
      "Epoch 5/40\n",
      "2198/2198 [==============================] - 5s 2ms/step - loss: 0.6495 - acc: 0.6338 - val_loss: 0.6231 - val_acc: 0.7291\n",
      "Epoch 6/40\n",
      "2198/2198 [==============================] - 5s 2ms/step - loss: 0.6404 - acc: 0.6338 - val_loss: 0.5992 - val_acc: 0.7418\n",
      "Epoch 7/40\n",
      "2198/2198 [==============================] - 5s 2ms/step - loss: 0.6221 - acc: 0.6606 - val_loss: 0.5766 - val_acc: 0.7582\n",
      "Epoch 8/40\n",
      "2198/2198 [==============================] - 5s 2ms/step - loss: 0.6079 - acc: 0.6824 - val_loss: 0.5615 - val_acc: 0.7509\n",
      "Epoch 9/40\n",
      "2198/2198 [==============================] - 5s 2ms/step - loss: 0.6061 - acc: 0.6724 - val_loss: 0.5494 - val_acc: 0.7636\n",
      "Epoch 10/40\n",
      "2198/2198 [==============================] - 5s 2ms/step - loss: 0.5824 - acc: 0.6915 - val_loss: 0.5328 - val_acc: 0.7600\n",
      "Epoch 11/40\n",
      "2198/2198 [==============================] - 5s 2ms/step - loss: 0.5604 - acc: 0.7102 - val_loss: 0.5122 - val_acc: 0.7691\n",
      "Epoch 12/40\n",
      "2198/2198 [==============================] - 5s 2ms/step - loss: 0.5716 - acc: 0.7052 - val_loss: 0.5023 - val_acc: 0.7764\n",
      "Epoch 13/40\n",
      "2198/2198 [==============================] - 5s 2ms/step - loss: 0.5421 - acc: 0.7243 - val_loss: 0.4979 - val_acc: 0.7782\n",
      "Epoch 14/40\n",
      "2198/2198 [==============================] - 5s 2ms/step - loss: 0.5378 - acc: 0.7302 - val_loss: 0.4871 - val_acc: 0.7745\n",
      "Epoch 15/40\n",
      "2198/2198 [==============================] - 5s 2ms/step - loss: 0.5506 - acc: 0.7207 - val_loss: 0.4961 - val_acc: 0.7673\n",
      "Epoch 16/40\n",
      "2198/2198 [==============================] - 5s 2ms/step - loss: 0.5366 - acc: 0.7298 - val_loss: 0.4837 - val_acc: 0.7873\n",
      "Epoch 17/40\n",
      "2198/2198 [==============================] - 5s 2ms/step - loss: 0.5374 - acc: 0.7325 - val_loss: 0.4831 - val_acc: 0.7709\n",
      "Epoch 18/40\n",
      "2198/2198 [==============================] - 5s 2ms/step - loss: 0.5256 - acc: 0.7384 - val_loss: 0.4734 - val_acc: 0.7691\n",
      "Epoch 19/40\n",
      "2198/2198 [==============================] - 5s 2ms/step - loss: 0.5138 - acc: 0.7484 - val_loss: 0.4742 - val_acc: 0.7745\n",
      "Epoch 20/40\n",
      "2198/2198 [==============================] - 5s 2ms/step - loss: 0.5158 - acc: 0.7343 - val_loss: 0.4691 - val_acc: 0.7873\n",
      "Epoch 21/40\n",
      "2198/2198 [==============================] - 5s 2ms/step - loss: 0.5054 - acc: 0.7566 - val_loss: 0.4619 - val_acc: 0.7836\n",
      "Epoch 22/40\n",
      "2198/2198 [==============================] - 5s 2ms/step - loss: 0.4819 - acc: 0.7652 - val_loss: 0.4526 - val_acc: 0.7855\n",
      "Epoch 23/40\n",
      "2198/2198 [==============================] - 5s 2ms/step - loss: 0.5027 - acc: 0.7575 - val_loss: 0.4565 - val_acc: 0.7891\n",
      "Epoch 24/40\n",
      "2198/2198 [==============================] - 5s 2ms/step - loss: 0.4779 - acc: 0.7707 - val_loss: 0.4506 - val_acc: 0.7927\n",
      "Epoch 25/40\n",
      "2198/2198 [==============================] - 5s 2ms/step - loss: 0.4735 - acc: 0.7671 - val_loss: 0.4476 - val_acc: 0.8127\n",
      "Epoch 26/40\n",
      "2198/2198 [==============================] - 5s 2ms/step - loss: 0.4920 - acc: 0.7557 - val_loss: 0.4578 - val_acc: 0.7909\n",
      "Epoch 27/40\n",
      "2198/2198 [==============================] - 5s 2ms/step - loss: 0.4821 - acc: 0.7548 - val_loss: 0.4441 - val_acc: 0.7927\n",
      "Epoch 28/40\n",
      "2198/2198 [==============================] - 5s 2ms/step - loss: 0.4596 - acc: 0.7753 - val_loss: 0.4353 - val_acc: 0.7891\n",
      "Epoch 29/40\n",
      "2198/2198 [==============================] - 5s 2ms/step - loss: 0.4737 - acc: 0.7662 - val_loss: 0.4425 - val_acc: 0.7927\n",
      "Epoch 30/40\n",
      "2198/2198 [==============================] - 5s 2ms/step - loss: 0.4612 - acc: 0.7784 - val_loss: 0.4365 - val_acc: 0.8018\n",
      "Epoch 31/40\n",
      "2198/2198 [==============================] - 5s 2ms/step - loss: 0.4468 - acc: 0.7739 - val_loss: 0.4299 - val_acc: 0.8036\n",
      "Epoch 32/40\n",
      "2198/2198 [==============================] - 5s 2ms/step - loss: 0.4560 - acc: 0.7803 - val_loss: 0.4292 - val_acc: 0.7982\n",
      "Epoch 33/40\n",
      "2198/2198 [==============================] - 5s 2ms/step - loss: 0.4638 - acc: 0.7707 - val_loss: 0.4312 - val_acc: 0.8091\n",
      "Epoch 34/40\n",
      "2198/2198 [==============================] - 5s 2ms/step - loss: 0.4602 - acc: 0.7762 - val_loss: 0.4330 - val_acc: 0.8127\n",
      "Epoch 35/40\n",
      "2198/2198 [==============================] - 5s 2ms/step - loss: 0.4363 - acc: 0.7962 - val_loss: 0.4275 - val_acc: 0.8055\n",
      "Epoch 36/40\n",
      "2198/2198 [==============================] - 5s 2ms/step - loss: 0.4398 - acc: 0.7830 - val_loss: 0.4230 - val_acc: 0.7982\n",
      "Epoch 37/40\n",
      "2198/2198 [==============================] - 5s 2ms/step - loss: 0.4369 - acc: 0.8035 - val_loss: 0.4301 - val_acc: 0.7855\n",
      "Epoch 38/40\n",
      "2198/2198 [==============================] - 5s 2ms/step - loss: 0.4222 - acc: 0.7998 - val_loss: 0.4300 - val_acc: 0.7855\n",
      "Epoch 39/40\n",
      "2198/2198 [==============================] - 5s 2ms/step - loss: 0.4437 - acc: 0.7925 - val_loss: 0.4251 - val_acc: 0.7927\n",
      "Epoch 40/40\n",
      "2198/2198 [==============================] - 5s 2ms/step - loss: 0.4276 - acc: 0.8039 - val_loss: 0.4262 - val_acc: 0.7927\n",
      "Test loss: 0.4261693571914326\n",
      "Test accuracy: 0.7927272727272727\n"
     ]
    },
    {
     "data": {
      "image/png": "[encoded data removed]",
      "text/plain": [
       "<Figure size 432x288 with 1 Axes>"
      ]
     },
     "metadata": {
      "needs_background": "light"
     },
     "output_type": "display_data"
    }
   ],
   "source": [
    "model.compile(loss='sparse_categorical_crossentropy', optimizer=Adam(), metrics=['acc'])\n",
    "\n",
    "# Train model for a given number of epochs\n",
    "history = model.fit(x_train, y_train, batch_size=128, epochs=40, verbose=1, validation_data=(x_test, y_test))\n",
    "\n",
    "# Evaluate model against test data\n",
    "score = model.evaluate(x_test, y_test, verbose=0)\n",
    "print('Test loss:', score[0])\n",
    "print('Test accuracy:', score[1])\n",
    "\n",
    "# summarize history for accuracy\n",
    "plt.plot(history.history['acc'])\n",
    "plt.plot(history.history['val_acc'])\n",
    "plt.title('Model accuracy')\n",
    "plt.ylabel('Accuracy')\n",
    "plt.xlabel('Epoch')\n",
    "plt.legend(['Train', 'Test'], loc='upper left')\n",
    "plt.show()"
   ]
  },
  {
   "cell_type": "markdown",
   "metadata": {},
   "source": [
    "# Prediction"
   ]
  },
  {
   "cell_type": "code",
   "execution_count": 9,
   "metadata": {},
   "outputs": [],
   "source": [
    "predictions = model.predict(padded_sequences)\n",
    "most_likely = predictions.argmax(1)"
   ]
  },
  {
   "cell_type": "code",
   "execution_count": 10,
   "metadata": {},
   "outputs": [
    {
     "name": "stdout",
     "output_type": "stream",
     "text": [
      "I was not impressed by this product.\n",
      "Prediction: 0, label: 0\n"
     ]
    }
   ],
   "source": [
    "index = random.randrange(len(predictions))\n",
    "print(comments[index])\n",
    "print('Prediction: %d, label: %d' % (most_likely[index], sentiments[index]))"
   ]
  },
  {
   "cell_type": "markdown",
   "metadata": {},
   "source": [
    "# Error Analysis"
   ]
  },
  {
   "cell_type": "code",
   "execution_count": 11,
   "metadata": {},
   "outputs": [
    {
     "name": "stdout",
     "output_type": "stream",
     "text": [
      "Its not user friendly.\n",
      "Prediction: 1, label: 0\n"
     ]
    },
    {
     "data": {
      "image/png": "[encoded data removed]",
      "text/plain": [
       "<Figure size 432x288 with 1 Axes>"
      ]
     },
     "metadata": {
      "needs_background": "light"
     },
     "output_type": "display_data"
    }
   ],
   "source": [
    "for i in range(10000):\n",
    "    index = random.randrange(len(predictions))\n",
    "    if most_likely[index] != sentiments[index]:\n",
    "        break\n",
    "\n",
    "print(comments[index])\n",
    "print('Prediction: %d, label: %d' % (most_likely[index], sentiments[index]))\n",
    "\n",
    "plt.bar(range(num_classes), predictions[index], tick_label=range(num_classes))\n",
    "plt.title('Prediction values')\n",
    "plt.show()"
   ]
  },
  {
   "cell_type": "code",
   "execution_count": null,
   "metadata": {},
   "outputs": [],
   "source": []
  }
 ],
 "metadata": {
  "kernelspec": {
   "display_name": "Python 3",
   "language": "python",
   "name": "python3"
  },
  "language_info": {
   "codemirror_mode": {
    "name": "ipython",
    "version": 3
   },
   "file_extension": ".py",
   "mimetype": "text/x-python",
   "name": "python",
   "nbconvert_exporter": "python",
   "pygments_lexer": "ipython3",
   "version": "3.6.8"
  }
 },
 "nbformat": 4,
 "nbformat_minor": 2
}
