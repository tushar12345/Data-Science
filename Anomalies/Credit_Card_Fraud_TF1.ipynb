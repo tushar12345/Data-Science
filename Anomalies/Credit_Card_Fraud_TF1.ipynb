{
 "cells": [
  {
   "cell_type": "markdown",
   "metadata": {
    "colab_type": "text",
    "id": "xohAxkytgvbx"
   },
   "source": [
    "# Credit Card Fraud Detection\n",
    "\n",
    "The dataset contains transactions made by credit cards in September 2013 by european cardholders. This dataset represents transactions that occurred in two days, where we have 492 cases of fraud out of 284,807 transactions. The dataset is highly unbalanced, the positive class (known fraudulent transactions) account for only 0.172% of all transactions.\n",
    "\n",
    "An autoencoder is used as an unsupervised model to identify irregularities that might indicate fraud. It is imperfect, but works reasonably well.\n",
    "\n",
    "The data is available on [Kaggle](https://www.kaggle.com/mlg-ulb/creditcardfraud)"
   ]
  },
  {
   "cell_type": "code",
   "execution_count": 0,
   "metadata": {
    "colab": {},
    "colab_type": "code",
    "id": "CyDO4jYDg_nO"
   },
   "outputs": [],
   "source": [
    "%tensorflow_version 1.x"
   ]
  },
  {
   "cell_type": "code",
   "execution_count": 0,
   "metadata": {
    "colab": {},
    "colab_type": "code",
    "id": "fPIVi6aGgvb0"
   },
   "outputs": [],
   "source": [
    "import pandas as pd\n",
    "import numpy as np\n",
    "import matplotlib.pyplot as plt\n",
    "import seaborn as sns\n",
    "from sklearn.model_selection import train_test_split\n",
    "from sklearn.preprocessing import StandardScaler\n",
    "from keras.models import Sequential, load_model\n",
    "from keras.layers import Dense\n",
    "from keras.callbacks import ModelCheckpoint\n",
    "from keras import regularizers\n",
    "from sklearn.metrics import confusion_matrix"
   ]
  },
  {
   "cell_type": "markdown",
   "metadata": {
    "colab_type": "text",
    "id": "CqbDAvEbgvb7"
   },
   "source": [
    "## Read Data\n",
    "\n",
    "The original data set is fairly large. To reduce experiment cycle time, a subset of of the data is used here. The data is available on [Kaggle](https://www.kaggle.com/mlg-ulb/creditcardfraud), which requires login. If you are using Google Colab, you can download the zip file to your local machine and then upload it into a Google Colab notebook. Pandas can read zip files directly."
   ]
  },
  {
   "cell_type": "code",
   "execution_count": 9,
   "metadata": {
    "colab": {
     "base_uri": "https://localhost:8080/",
     "height": 35
    },
    "colab_type": "code",
    "id": "VSEi4bFBgvb8",
    "outputId": "0110aad2-5297-4a79-f6be-8559fff59f24"
   },
   "outputs": [
    {
     "data": {
      "text/plain": [
       "(30000, 31)"
      ]
     },
     "execution_count": 9,
     "metadata": {
      "tags": []
     },
     "output_type": "execute_result"
    }
   ],
   "source": [
    "data = pd.read_csv(\"creditcardfraud.zip\")\n",
    "data = data.head(30000)\n",
    "data.shape"
   ]
  },
  {
   "cell_type": "code",
   "execution_count": 0,
   "metadata": {
    "colab": {},
    "colab_type": "code",
    "id": "awMKKk6dgvb-"
   },
   "outputs": [],
   "source": [
    "#data.to_csv('data/subset.csv', index=False)"
   ]
  },
  {
   "cell_type": "code",
   "execution_count": 11,
   "metadata": {
    "colab": {
     "base_uri": "https://localhost:8080/",
     "height": 223
    },
    "colab_type": "code",
    "id": "zh-HZs3Gv5c2",
    "outputId": "ad3935de-b790-4a60-976a-139d03f51462"
   },
   "outputs": [
    {
     "data": {
      "text/html": [
       "<div>\n",
       "<style scoped>\n",
       "    .dataframe tbody tr th:only-of-type {\n",
       "        vertical-align: middle;\n",
       "    }\n",
       "\n",
       "    .dataframe tbody tr th {\n",
       "        vertical-align: top;\n",
       "    }\n",
       "\n",
       "    .dataframe thead th {\n",
       "        text-align: right;\n",
       "    }\n",
       "</style>\n",
       "<table border=\"1\" class=\"dataframe\">\n",
       "  <thead>\n",
       "    <tr style=\"text-align: right;\">\n",
       "      <th></th>\n",
       "      <th>Time</th>\n",
       "      <th>V1</th>\n",
       "      <th>V2</th>\n",
       "      <th>V3</th>\n",
       "      <th>V4</th>\n",
       "      <th>V5</th>\n",
       "      <th>V6</th>\n",
       "      <th>V7</th>\n",
       "      <th>V8</th>\n",
       "      <th>V9</th>\n",
       "      <th>V10</th>\n",
       "      <th>V11</th>\n",
       "      <th>V12</th>\n",
       "      <th>V13</th>\n",
       "      <th>V14</th>\n",
       "      <th>V15</th>\n",
       "      <th>V16</th>\n",
       "      <th>V17</th>\n",
       "      <th>V18</th>\n",
       "      <th>V19</th>\n",
       "      <th>V20</th>\n",
       "      <th>V21</th>\n",
       "      <th>V22</th>\n",
       "      <th>V23</th>\n",
       "      <th>V24</th>\n",
       "      <th>V25</th>\n",
       "      <th>V26</th>\n",
       "      <th>V27</th>\n",
       "      <th>V28</th>\n",
       "      <th>Amount</th>\n",
       "      <th>Class</th>\n",
       "    </tr>\n",
       "  </thead>\n",
       "  <tbody>\n",
       "    <tr>\n",
       "      <th>0</th>\n",
       "      <td>0.0</td>\n",
       "      <td>-1.359807</td>\n",
       "      <td>-0.072781</td>\n",
       "      <td>2.536347</td>\n",
       "      <td>1.378155</td>\n",
       "      <td>-0.338321</td>\n",
       "      <td>0.462388</td>\n",
       "      <td>0.239599</td>\n",
       "      <td>0.098698</td>\n",
       "      <td>0.363787</td>\n",
       "      <td>0.090794</td>\n",
       "      <td>-0.551600</td>\n",
       "      <td>-0.617801</td>\n",
       "      <td>-0.991390</td>\n",
       "      <td>-0.311169</td>\n",
       "      <td>1.468177</td>\n",
       "      <td>-0.470401</td>\n",
       "      <td>0.207971</td>\n",
       "      <td>0.025791</td>\n",
       "      <td>0.403993</td>\n",
       "      <td>0.251412</td>\n",
       "      <td>-0.018307</td>\n",
       "      <td>0.277838</td>\n",
       "      <td>-0.110474</td>\n",
       "      <td>0.066928</td>\n",
       "      <td>0.128539</td>\n",
       "      <td>-0.189115</td>\n",
       "      <td>0.133558</td>\n",
       "      <td>-0.021053</td>\n",
       "      <td>149.62</td>\n",
       "      <td>0</td>\n",
       "    </tr>\n",
       "    <tr>\n",
       "      <th>1</th>\n",
       "      <td>0.0</td>\n",
       "      <td>1.191857</td>\n",
       "      <td>0.266151</td>\n",
       "      <td>0.166480</td>\n",
       "      <td>0.448154</td>\n",
       "      <td>0.060018</td>\n",
       "      <td>-0.082361</td>\n",
       "      <td>-0.078803</td>\n",
       "      <td>0.085102</td>\n",
       "      <td>-0.255425</td>\n",
       "      <td>-0.166974</td>\n",
       "      <td>1.612727</td>\n",
       "      <td>1.065235</td>\n",
       "      <td>0.489095</td>\n",
       "      <td>-0.143772</td>\n",
       "      <td>0.635558</td>\n",
       "      <td>0.463917</td>\n",
       "      <td>-0.114805</td>\n",
       "      <td>-0.183361</td>\n",
       "      <td>-0.145783</td>\n",
       "      <td>-0.069083</td>\n",
       "      <td>-0.225775</td>\n",
       "      <td>-0.638672</td>\n",
       "      <td>0.101288</td>\n",
       "      <td>-0.339846</td>\n",
       "      <td>0.167170</td>\n",
       "      <td>0.125895</td>\n",
       "      <td>-0.008983</td>\n",
       "      <td>0.014724</td>\n",
       "      <td>2.69</td>\n",
       "      <td>0</td>\n",
       "    </tr>\n",
       "    <tr>\n",
       "      <th>2</th>\n",
       "      <td>1.0</td>\n",
       "      <td>-1.358354</td>\n",
       "      <td>-1.340163</td>\n",
       "      <td>1.773209</td>\n",
       "      <td>0.379780</td>\n",
       "      <td>-0.503198</td>\n",
       "      <td>1.800499</td>\n",
       "      <td>0.791461</td>\n",
       "      <td>0.247676</td>\n",
       "      <td>-1.514654</td>\n",
       "      <td>0.207643</td>\n",
       "      <td>0.624501</td>\n",
       "      <td>0.066084</td>\n",
       "      <td>0.717293</td>\n",
       "      <td>-0.165946</td>\n",
       "      <td>2.345865</td>\n",
       "      <td>-2.890083</td>\n",
       "      <td>1.109969</td>\n",
       "      <td>-0.121359</td>\n",
       "      <td>-2.261857</td>\n",
       "      <td>0.524980</td>\n",
       "      <td>0.247998</td>\n",
       "      <td>0.771679</td>\n",
       "      <td>0.909412</td>\n",
       "      <td>-0.689281</td>\n",
       "      <td>-0.327642</td>\n",
       "      <td>-0.139097</td>\n",
       "      <td>-0.055353</td>\n",
       "      <td>-0.059752</td>\n",
       "      <td>378.66</td>\n",
       "      <td>0</td>\n",
       "    </tr>\n",
       "    <tr>\n",
       "      <th>3</th>\n",
       "      <td>1.0</td>\n",
       "      <td>-0.966272</td>\n",
       "      <td>-0.185226</td>\n",
       "      <td>1.792993</td>\n",
       "      <td>-0.863291</td>\n",
       "      <td>-0.010309</td>\n",
       "      <td>1.247203</td>\n",
       "      <td>0.237609</td>\n",
       "      <td>0.377436</td>\n",
       "      <td>-1.387024</td>\n",
       "      <td>-0.054952</td>\n",
       "      <td>-0.226487</td>\n",
       "      <td>0.178228</td>\n",
       "      <td>0.507757</td>\n",
       "      <td>-0.287924</td>\n",
       "      <td>-0.631418</td>\n",
       "      <td>-1.059647</td>\n",
       "      <td>-0.684093</td>\n",
       "      <td>1.965775</td>\n",
       "      <td>-1.232622</td>\n",
       "      <td>-0.208038</td>\n",
       "      <td>-0.108300</td>\n",
       "      <td>0.005274</td>\n",
       "      <td>-0.190321</td>\n",
       "      <td>-1.175575</td>\n",
       "      <td>0.647376</td>\n",
       "      <td>-0.221929</td>\n",
       "      <td>0.062723</td>\n",
       "      <td>0.061458</td>\n",
       "      <td>123.50</td>\n",
       "      <td>0</td>\n",
       "    </tr>\n",
       "    <tr>\n",
       "      <th>4</th>\n",
       "      <td>2.0</td>\n",
       "      <td>-1.158233</td>\n",
       "      <td>0.877737</td>\n",
       "      <td>1.548718</td>\n",
       "      <td>0.403034</td>\n",
       "      <td>-0.407193</td>\n",
       "      <td>0.095921</td>\n",
       "      <td>0.592941</td>\n",
       "      <td>-0.270533</td>\n",
       "      <td>0.817739</td>\n",
       "      <td>0.753074</td>\n",
       "      <td>-0.822843</td>\n",
       "      <td>0.538196</td>\n",
       "      <td>1.345852</td>\n",
       "      <td>-1.119670</td>\n",
       "      <td>0.175121</td>\n",
       "      <td>-0.451449</td>\n",
       "      <td>-0.237033</td>\n",
       "      <td>-0.038195</td>\n",
       "      <td>0.803487</td>\n",
       "      <td>0.408542</td>\n",
       "      <td>-0.009431</td>\n",
       "      <td>0.798278</td>\n",
       "      <td>-0.137458</td>\n",
       "      <td>0.141267</td>\n",
       "      <td>-0.206010</td>\n",
       "      <td>0.502292</td>\n",
       "      <td>0.219422</td>\n",
       "      <td>0.215153</td>\n",
       "      <td>69.99</td>\n",
       "      <td>0</td>\n",
       "    </tr>\n",
       "  </tbody>\n",
       "</table>\n",
       "</div>"
      ],
      "text/plain": [
       "   Time        V1        V2        V3  ...       V27       V28  Amount  Class\n",
       "0   0.0 -1.359807 -0.072781  2.536347  ...  0.133558 -0.021053  149.62      0\n",
       "1   0.0  1.191857  0.266151  0.166480  ... -0.008983  0.014724    2.69      0\n",
       "2   1.0 -1.358354 -1.340163  1.773209  ... -0.055353 -0.059752  378.66      0\n",
       "3   1.0 -0.966272 -0.185226  1.792993  ...  0.062723  0.061458  123.50      0\n",
       "4   2.0 -1.158233  0.877737  1.548718  ...  0.219422  0.215153   69.99      0\n",
       "\n",
       "[5 rows x 31 columns]"
      ]
     },
     "execution_count": 11,
     "metadata": {
      "tags": []
     },
     "output_type": "execute_result"
    }
   ],
   "source": [
    "data.head()"
   ]
  },
  {
   "cell_type": "code",
   "execution_count": 12,
   "metadata": {
    "colab": {
     "base_uri": "https://localhost:8080/",
     "height": 161
    },
    "colab_type": "code",
    "id": "CDDQ22kt81nt",
    "outputId": "6a86e172-2ff0-4e2d-8323-9288aa2e571c"
   },
   "outputs": [
    {
     "data": {
      "text/html": [
       "<div>\n",
       "<style scoped>\n",
       "    .dataframe tbody tr th:only-of-type {\n",
       "        vertical-align: middle;\n",
       "    }\n",
       "\n",
       "    .dataframe tbody tr th {\n",
       "        vertical-align: top;\n",
       "    }\n",
       "\n",
       "    .dataframe thead th {\n",
       "        text-align: right;\n",
       "    }\n",
       "</style>\n",
       "<table border=\"1\" class=\"dataframe\">\n",
       "  <thead>\n",
       "    <tr style=\"text-align: right;\">\n",
       "      <th></th>\n",
       "      <th>Time</th>\n",
       "      <th>V1</th>\n",
       "      <th>V2</th>\n",
       "      <th>V3</th>\n",
       "      <th>V4</th>\n",
       "      <th>V5</th>\n",
       "      <th>V6</th>\n",
       "      <th>V7</th>\n",
       "      <th>V8</th>\n",
       "      <th>V9</th>\n",
       "      <th>V10</th>\n",
       "      <th>V11</th>\n",
       "      <th>V12</th>\n",
       "      <th>V13</th>\n",
       "      <th>V14</th>\n",
       "      <th>V15</th>\n",
       "      <th>V16</th>\n",
       "      <th>V17</th>\n",
       "      <th>V18</th>\n",
       "      <th>V19</th>\n",
       "      <th>V20</th>\n",
       "      <th>V21</th>\n",
       "      <th>V22</th>\n",
       "      <th>V23</th>\n",
       "      <th>V24</th>\n",
       "      <th>V25</th>\n",
       "      <th>V26</th>\n",
       "      <th>V27</th>\n",
       "      <th>V28</th>\n",
       "      <th>Amount</th>\n",
       "    </tr>\n",
       "    <tr>\n",
       "      <th>Class</th>\n",
       "      <th></th>\n",
       "      <th></th>\n",
       "      <th></th>\n",
       "      <th></th>\n",
       "      <th></th>\n",
       "      <th></th>\n",
       "      <th></th>\n",
       "      <th></th>\n",
       "      <th></th>\n",
       "      <th></th>\n",
       "      <th></th>\n",
       "      <th></th>\n",
       "      <th></th>\n",
       "      <th></th>\n",
       "      <th></th>\n",
       "      <th></th>\n",
       "      <th></th>\n",
       "      <th></th>\n",
       "      <th></th>\n",
       "      <th></th>\n",
       "      <th></th>\n",
       "      <th></th>\n",
       "      <th></th>\n",
       "      <th></th>\n",
       "      <th></th>\n",
       "      <th></th>\n",
       "      <th></th>\n",
       "      <th></th>\n",
       "      <th></th>\n",
       "      <th></th>\n",
       "    </tr>\n",
       "  </thead>\n",
       "  <tbody>\n",
       "    <tr>\n",
       "      <th>0</th>\n",
       "      <td>29906</td>\n",
       "      <td>29906</td>\n",
       "      <td>29906</td>\n",
       "      <td>29906</td>\n",
       "      <td>29906</td>\n",
       "      <td>29906</td>\n",
       "      <td>29906</td>\n",
       "      <td>29906</td>\n",
       "      <td>29906</td>\n",
       "      <td>29906</td>\n",
       "      <td>29906</td>\n",
       "      <td>29906</td>\n",
       "      <td>29906</td>\n",
       "      <td>29906</td>\n",
       "      <td>29906</td>\n",
       "      <td>29906</td>\n",
       "      <td>29906</td>\n",
       "      <td>29906</td>\n",
       "      <td>29906</td>\n",
       "      <td>29906</td>\n",
       "      <td>29906</td>\n",
       "      <td>29906</td>\n",
       "      <td>29906</td>\n",
       "      <td>29906</td>\n",
       "      <td>29906</td>\n",
       "      <td>29906</td>\n",
       "      <td>29906</td>\n",
       "      <td>29906</td>\n",
       "      <td>29906</td>\n",
       "      <td>29906</td>\n",
       "    </tr>\n",
       "    <tr>\n",
       "      <th>1</th>\n",
       "      <td>94</td>\n",
       "      <td>94</td>\n",
       "      <td>94</td>\n",
       "      <td>94</td>\n",
       "      <td>94</td>\n",
       "      <td>94</td>\n",
       "      <td>94</td>\n",
       "      <td>94</td>\n",
       "      <td>94</td>\n",
       "      <td>94</td>\n",
       "      <td>94</td>\n",
       "      <td>94</td>\n",
       "      <td>94</td>\n",
       "      <td>94</td>\n",
       "      <td>94</td>\n",
       "      <td>94</td>\n",
       "      <td>94</td>\n",
       "      <td>94</td>\n",
       "      <td>94</td>\n",
       "      <td>94</td>\n",
       "      <td>94</td>\n",
       "      <td>94</td>\n",
       "      <td>94</td>\n",
       "      <td>94</td>\n",
       "      <td>94</td>\n",
       "      <td>94</td>\n",
       "      <td>94</td>\n",
       "      <td>94</td>\n",
       "      <td>94</td>\n",
       "      <td>94</td>\n",
       "    </tr>\n",
       "  </tbody>\n",
       "</table>\n",
       "</div>"
      ],
      "text/plain": [
       "        Time     V1     V2     V3     V4  ...    V25    V26    V27    V28  Amount\n",
       "Class                                     ...                                    \n",
       "0      29906  29906  29906  29906  29906  ...  29906  29906  29906  29906   29906\n",
       "1         94     94     94     94     94  ...     94     94     94     94      94\n",
       "\n",
       "[2 rows x 30 columns]"
      ]
     },
     "execution_count": 12,
     "metadata": {
      "tags": []
     },
     "output_type": "execute_result"
    }
   ],
   "source": [
    "data.groupby(['Class']).count()"
   ]
  },
  {
   "cell_type": "markdown",
   "metadata": {
    "colab_type": "text",
    "id": "cxjaflpVgvcD"
   },
   "source": [
    "## Data Engineering\n",
    "\n",
    "The Time column is ignored and the Amount is normalized. All other columns remain the same."
   ]
  },
  {
   "cell_type": "code",
   "execution_count": 0,
   "metadata": {
    "colab": {},
    "colab_type": "code",
    "id": "JB_FNz-4gvcE"
   },
   "outputs": [],
   "source": [
    "data = data.drop(['Time'], axis=1)\n",
    "data['Amount'] = StandardScaler().fit_transform(data['Amount'].values.reshape(-1, 1))"
   ]
  },
  {
   "cell_type": "code",
   "execution_count": 14,
   "metadata": {
    "colab": {
     "base_uri": "https://localhost:8080/",
     "height": 35
    },
    "colab_type": "code",
    "id": "3VhZZRvwgvcG",
    "outputId": "ab306d7c-7d7d-4f20-8567-f204e8b001c6"
   },
   "outputs": [
    {
     "data": {
      "text/plain": [
       "(24000, 29)"
      ]
     },
     "execution_count": 14,
     "metadata": {
      "tags": []
     },
     "output_type": "execute_result"
    }
   ],
   "source": [
    "X_train, X_test = train_test_split(data, test_size=0.2, random_state=0)\n",
    "X_train = X_train.drop(['Class'], axis=1)\n",
    "y_test = X_test['Class']\n",
    "X_test = X_test.drop(['Class'], axis=1)\n",
    "X_train = X_train.values\n",
    "X_test = X_test.values\n",
    "X_train.shape"
   ]
  },
  {
   "cell_type": "markdown",
   "metadata": {
    "colab_type": "text",
    "id": "idV-blvXgvcJ"
   },
   "source": [
    "## Autoencoder Model\n",
    "\n",
    "This is a standard dense autoencoder with four layers."
   ]
  },
  {
   "cell_type": "code",
   "execution_count": 18,
   "metadata": {
    "colab": {
     "base_uri": "https://localhost:8080/",
     "height": 299
    },
    "colab_type": "code",
    "id": "rDTwKbXqln-T",
    "outputId": "62a8569a-4de5-4d55-c2f0-f8c39d544c7c"
   },
   "outputs": [
    {
     "name": "stdout",
     "output_type": "stream",
     "text": [
      "Model: \"sequential_2\"\n",
      "_________________________________________________________________\n",
      "Layer (type)                 Output Shape              Param #   \n",
      "=================================================================\n",
      "dense_5 (Dense)              (None, 14)                420       \n",
      "_________________________________________________________________\n",
      "dense_6 (Dense)              (None, 7)                 105       \n",
      "_________________________________________________________________\n",
      "dense_7 (Dense)              (None, 7)                 56        \n",
      "_________________________________________________________________\n",
      "dense_8 (Dense)              (None, 29)                232       \n",
      "=================================================================\n",
      "Total params: 813\n",
      "Trainable params: 813\n",
      "Non-trainable params: 0\n",
      "_________________________________________________________________\n"
     ]
    }
   ],
   "source": [
    "input_dim = X_train.shape[1]\n",
    "encoding_dim = 14\n",
    "\n",
    "model = Sequential()\n",
    "model.add(Dense(encoding_dim, activation=\"tanh\", input_shape=(input_dim,)))\n",
    "model.add(Dense(int(encoding_dim / 2), activation=\"relu\"))\n",
    "model.add(Dense(int(encoding_dim / 2), activation='tanh'))\n",
    "model.add(Dense(input_dim, activation='relu'))\n",
    "\n",
    "model.summary()"
   ]
  },
  {
   "cell_type": "markdown",
   "metadata": {
    "colab_type": "text",
    "id": "kvOSXfO2yRAF"
   },
   "source": [
    "# Model Training\n",
    "\n",
    "Given such a simple model and relatively small data set, it might be faster to train without a GPU."
   ]
  },
  {
   "cell_type": "code",
   "execution_count": 19,
   "metadata": {
    "colab": {
     "base_uri": "https://localhost:8080/",
     "height": 1000
    },
    "colab_type": "code",
    "id": "sw64M6v7gvcN",
    "outputId": "4347174f-f0dc-48a1-bc25-4beedd5c6609"
   },
   "outputs": [
    {
     "name": "stdout",
     "output_type": "stream",
     "text": [
      "Train on 24000 samples, validate on 6000 samples\n",
      "Epoch 1/40\n",
      "24000/24000 [==============================] - 1s 54us/step - loss: 1.1429 - acc: 0.2521 - val_loss: 0.9899 - val_acc: 0.3378\n",
      "Epoch 2/40\n",
      "24000/24000 [==============================] - 1s 44us/step - loss: 1.0345 - acc: 0.4470 - val_loss: 0.9189 - val_acc: 0.5095\n",
      "Epoch 3/40\n",
      "24000/24000 [==============================] - 1s 42us/step - loss: 0.9864 - acc: 0.5253 - val_loss: 0.8768 - val_acc: 0.5948\n",
      "Epoch 4/40\n",
      "24000/24000 [==============================] - 1s 43us/step - loss: 0.9444 - acc: 0.6159 - val_loss: 0.8487 - val_acc: 0.6422\n",
      "Epoch 5/40\n",
      "24000/24000 [==============================] - 1s 43us/step - loss: 0.9230 - acc: 0.6395 - val_loss: 0.8339 - val_acc: 0.6520\n",
      "Epoch 6/40\n",
      "24000/24000 [==============================] - 1s 41us/step - loss: 0.9095 - acc: 0.6500 - val_loss: 0.8240 - val_acc: 0.6593\n",
      "Epoch 7/40\n",
      "24000/24000 [==============================] - 1s 43us/step - loss: 0.9004 - acc: 0.6621 - val_loss: 0.8177 - val_acc: 0.6632\n",
      "Epoch 8/40\n",
      "24000/24000 [==============================] - 1s 42us/step - loss: 0.8929 - acc: 0.6705 - val_loss: 0.8109 - val_acc: 0.6828\n",
      "Epoch 9/40\n",
      "24000/24000 [==============================] - 1s 42us/step - loss: 0.8869 - acc: 0.6776 - val_loss: 0.8074 - val_acc: 0.6868\n",
      "Epoch 10/40\n",
      "24000/24000 [==============================] - 1s 43us/step - loss: 0.8821 - acc: 0.6831 - val_loss: 0.8036 - val_acc: 0.6928\n",
      "Epoch 11/40\n",
      "24000/24000 [==============================] - 1s 41us/step - loss: 0.8782 - acc: 0.6906 - val_loss: 0.8000 - val_acc: 0.6995\n",
      "Epoch 12/40\n",
      "24000/24000 [==============================] - 1s 41us/step - loss: 0.8755 - acc: 0.6973 - val_loss: 0.8015 - val_acc: 0.6982\n",
      "Epoch 13/40\n",
      "24000/24000 [==============================] - 1s 42us/step - loss: 0.8726 - acc: 0.7033 - val_loss: 0.7957 - val_acc: 0.7033\n",
      "Epoch 14/40\n",
      "24000/24000 [==============================] - 1s 41us/step - loss: 0.8698 - acc: 0.7082 - val_loss: 0.7955 - val_acc: 0.7130\n",
      "Epoch 15/40\n",
      "24000/24000 [==============================] - 1s 42us/step - loss: 0.8677 - acc: 0.7105 - val_loss: 0.7915 - val_acc: 0.7123\n",
      "Epoch 16/40\n",
      "24000/24000 [==============================] - 1s 42us/step - loss: 0.8653 - acc: 0.7153 - val_loss: 0.7899 - val_acc: 0.7183\n",
      "Epoch 17/40\n",
      "24000/24000 [==============================] - 1s 43us/step - loss: 0.8644 - acc: 0.7171 - val_loss: 0.7898 - val_acc: 0.7178\n",
      "Epoch 18/40\n",
      "24000/24000 [==============================] - 1s 42us/step - loss: 0.8632 - acc: 0.7145 - val_loss: 0.7866 - val_acc: 0.7145\n",
      "Epoch 19/40\n",
      "24000/24000 [==============================] - 1s 42us/step - loss: 0.8611 - acc: 0.7173 - val_loss: 0.7864 - val_acc: 0.7197\n",
      "Epoch 20/40\n",
      "24000/24000 [==============================] - 1s 44us/step - loss: 0.8600 - acc: 0.7199 - val_loss: 0.7859 - val_acc: 0.7238\n",
      "Epoch 21/40\n",
      "24000/24000 [==============================] - 1s 42us/step - loss: 0.8589 - acc: 0.7195 - val_loss: 0.7844 - val_acc: 0.7197\n",
      "Epoch 22/40\n",
      "24000/24000 [==============================] - 1s 43us/step - loss: 0.8577 - acc: 0.7214 - val_loss: 0.7830 - val_acc: 0.7217\n",
      "Epoch 23/40\n",
      "24000/24000 [==============================] - 1s 42us/step - loss: 0.8564 - acc: 0.7207 - val_loss: 0.7828 - val_acc: 0.7287\n",
      "Epoch 24/40\n",
      "24000/24000 [==============================] - 1s 42us/step - loss: 0.8553 - acc: 0.7228 - val_loss: 0.7802 - val_acc: 0.7268\n",
      "Epoch 25/40\n",
      "24000/24000 [==============================] - 1s 44us/step - loss: 0.8547 - acc: 0.7231 - val_loss: 0.7807 - val_acc: 0.7318\n",
      "Epoch 26/40\n",
      "24000/24000 [==============================] - 1s 42us/step - loss: 0.8544 - acc: 0.7217 - val_loss: 0.7793 - val_acc: 0.7275\n",
      "Epoch 27/40\n",
      "24000/24000 [==============================] - 1s 42us/step - loss: 0.8527 - acc: 0.7230 - val_loss: 0.7780 - val_acc: 0.7275\n",
      "Epoch 28/40\n",
      "24000/24000 [==============================] - 1s 46us/step - loss: 0.8526 - acc: 0.7248 - val_loss: 0.7780 - val_acc: 0.7238\n",
      "Epoch 29/40\n",
      "24000/24000 [==============================] - 1s 43us/step - loss: 0.8518 - acc: 0.7284 - val_loss: 0.7795 - val_acc: 0.7313\n",
      "Epoch 30/40\n",
      "24000/24000 [==============================] - 1s 42us/step - loss: 0.8505 - acc: 0.7266 - val_loss: 0.7770 - val_acc: 0.7338\n",
      "Epoch 31/40\n",
      "24000/24000 [==============================] - 1s 43us/step - loss: 0.8501 - acc: 0.7285 - val_loss: 0.7770 - val_acc: 0.7315\n",
      "Epoch 32/40\n",
      "24000/24000 [==============================] - 1s 41us/step - loss: 0.8494 - acc: 0.7280 - val_loss: 0.7756 - val_acc: 0.7308\n",
      "Epoch 33/40\n",
      "24000/24000 [==============================] - 1s 42us/step - loss: 0.8488 - acc: 0.7313 - val_loss: 0.7755 - val_acc: 0.7233\n",
      "Epoch 34/40\n",
      "24000/24000 [==============================] - 1s 41us/step - loss: 0.8486 - acc: 0.7265 - val_loss: 0.7767 - val_acc: 0.7265\n",
      "Epoch 35/40\n",
      "24000/24000 [==============================] - 1s 44us/step - loss: 0.8483 - acc: 0.7278 - val_loss: 0.7756 - val_acc: 0.7238\n",
      "Epoch 36/40\n",
      "24000/24000 [==============================] - 1s 42us/step - loss: 0.8476 - acc: 0.7283 - val_loss: 0.7745 - val_acc: 0.7278\n",
      "Epoch 37/40\n",
      "24000/24000 [==============================] - 1s 45us/step - loss: 0.8469 - acc: 0.7292 - val_loss: 0.7772 - val_acc: 0.7192\n",
      "Epoch 38/40\n",
      "24000/24000 [==============================] - 1s 42us/step - loss: 0.8471 - acc: 0.7292 - val_loss: 0.7733 - val_acc: 0.7323\n",
      "Epoch 39/40\n",
      "24000/24000 [==============================] - 1s 43us/step - loss: 0.8463 - acc: 0.7300 - val_loss: 0.7739 - val_acc: 0.7348\n",
      "Epoch 40/40\n",
      "24000/24000 [==============================] - 1s 42us/step - loss: 0.8459 - acc: 0.7285 - val_loss: 0.7735 - val_acc: 0.7315\n"
     ]
    }
   ],
   "source": [
    "nb_epoch = 40\n",
    "batch_size = 32\n",
    "\n",
    "model.compile(optimizer='adam', loss='mean_squared_error', metrics=['acc'])\n",
    "\n",
    "history = model.fit(X_train, X_train,\n",
    "                    epochs=nb_epoch,\n",
    "                    batch_size=batch_size,\n",
    "                    validation_data=(X_test, X_test),\n",
    "                    verbose=1)\n",
    "\n",
    "autoencoder = model"
   ]
  },
  {
   "cell_type": "markdown",
   "metadata": {
    "colab_type": "text",
    "id": "jOreexr_gvcP"
   },
   "source": [
    "## Model Performance\n",
    "\n",
    "A simple plot of model accuracy to confirm that it is learning something."
   ]
  },
  {
   "cell_type": "code",
   "execution_count": 20,
   "metadata": {
    "colab": {
     "base_uri": "https://localhost:8080/",
     "height": 295
    },
    "colab_type": "code",
    "id": "KU1Y1-12gvcQ",
    "outputId": "fbdd715e-8882-490d-a3e2-4983b230f44f"
   },
   "outputs": [
    {
     "data": {
      "image/png": "[encoded data removed]",
      "text/plain": [
       "<Figure size 432x288 with 1 Axes>"
      ]
     },
     "metadata": {
      "tags": []
     },
     "output_type": "display_data"
    }
   ],
   "source": [
    "# summarize history for accuracy\n",
    "plt.plot(history.history['acc'])\n",
    "plt.plot(history.history['val_acc'])\n",
    "plt.title('Model accuracy')\n",
    "plt.ylabel('Accuracy')\n",
    "plt.xlabel('Epoch')\n",
    "plt.legend(['Train', 'Test'], loc='upper left')\n",
    "plt.show()"
   ]
  },
  {
   "cell_type": "markdown",
   "metadata": {
    "colab_type": "text",
    "id": "EK8OLAVegvcT"
   },
   "source": [
    "## Prediction\n",
    "\n",
    "Predictions are made on the test set. The mean-squared error (MSE) is calculated between the test set and their predictions. If the MSE is high, it's a potential irregularity that might suggest fraud. It's not perfect, there will be false positives and false negatives."
   ]
  },
  {
   "cell_type": "code",
   "execution_count": 0,
   "metadata": {
    "colab": {},
    "colab_type": "code",
    "id": "pedvVXtngvcU"
   },
   "outputs": [],
   "source": [
    "predictions = autoencoder.predict(X_test)\n",
    "mse = np.mean(np.power(X_test - predictions, 2), axis=1)\n",
    "error_df = pd.DataFrame({'reconstruction_error': mse, 'true_class': y_test})"
   ]
  },
  {
   "cell_type": "code",
   "execution_count": 22,
   "metadata": {
    "colab": {
     "base_uri": "https://localhost:8080/",
     "height": 203
    },
    "colab_type": "code",
    "id": "lVXgySCoNb-O",
    "outputId": "a6b95ed3-24f0-42c5-8930-2e7f5a91e0af"
   },
   "outputs": [
    {
     "data": {
      "text/html": [
       "<div>\n",
       "<style scoped>\n",
       "    .dataframe tbody tr th:only-of-type {\n",
       "        vertical-align: middle;\n",
       "    }\n",
       "\n",
       "    .dataframe tbody tr th {\n",
       "        vertical-align: top;\n",
       "    }\n",
       "\n",
       "    .dataframe thead th {\n",
       "        text-align: right;\n",
       "    }\n",
       "</style>\n",
       "<table border=\"1\" class=\"dataframe\">\n",
       "  <thead>\n",
       "    <tr style=\"text-align: right;\">\n",
       "      <th></th>\n",
       "      <th>reconstruction_error</th>\n",
       "      <th>true_class</th>\n",
       "    </tr>\n",
       "  </thead>\n",
       "  <tbody>\n",
       "    <tr>\n",
       "      <th>15377</th>\n",
       "      <td>0.163170</td>\n",
       "      <td>0</td>\n",
       "    </tr>\n",
       "    <tr>\n",
       "      <th>16510</th>\n",
       "      <td>0.186812</td>\n",
       "      <td>0</td>\n",
       "    </tr>\n",
       "    <tr>\n",
       "      <th>29706</th>\n",
       "      <td>0.751529</td>\n",
       "      <td>0</td>\n",
       "    </tr>\n",
       "    <tr>\n",
       "      <th>5982</th>\n",
       "      <td>0.948293</td>\n",
       "      <td>0</td>\n",
       "    </tr>\n",
       "    <tr>\n",
       "      <th>17274</th>\n",
       "      <td>0.390872</td>\n",
       "      <td>0</td>\n",
       "    </tr>\n",
       "  </tbody>\n",
       "</table>\n",
       "</div>"
      ],
      "text/plain": [
       "       reconstruction_error  true_class\n",
       "15377              0.163170           0\n",
       "16510              0.186812           0\n",
       "29706              0.751529           0\n",
       "5982               0.948293           0\n",
       "17274              0.390872           0"
      ]
     },
     "execution_count": 22,
     "metadata": {
      "tags": []
     },
     "output_type": "execute_result"
    }
   ],
   "source": [
    "error_df.head()"
   ]
  },
  {
   "cell_type": "markdown",
   "metadata": {
    "colab_type": "text",
    "id": "IXPep-KbgvcX"
   },
   "source": [
    "## Plot Reconstruction Error\n",
    "\n",
    "The reconstruction error for each sample is plotted long with a color code indicating known fraud. Only 6000 samples are plotted, but the index is randomly sampled from the original set, so the X-axis shows almost the full range of indices."
   ]
  },
  {
   "cell_type": "code",
   "execution_count": 23,
   "metadata": {
    "colab": {
     "base_uri": "https://localhost:8080/",
     "height": 513
    },
    "colab_type": "code",
    "id": "O3TXPKJIgvcX",
    "outputId": "06190ff8-548f-4275-d1da-e59c83b1b9f4"
   },
   "outputs": [
    {
     "data": {
      "image/png": "[encoded data removed]",
      "text/plain": [
       "<Figure size 864x576 with 1 Axes>"
      ]
     },
     "metadata": {
      "tags": []
     },
     "output_type": "display_data"
    }
   ],
   "source": [
    "threshold = 6.0\n",
    "\n",
    "groups = error_df.groupby('true_class')\n",
    "fig, ax = plt.subplots(figsize=(12, 8))\n",
    "\n",
    "for name, group in groups:\n",
    "    ax.plot(group.index, group.reconstruction_error, marker='o', ms=2.0, linestyle='',\n",
    "            label = \"Fraud\" if name == 1 else \"Normal\",\n",
    "            color = \"red\" if name == 1 else \"blue\")\n",
    "ax.hlines(threshold, ax.get_xlim()[0], ax.get_xlim()[1], colors=\"green\", zorder=100, label='Threshold')\n",
    "ax.legend()\n",
    "plt.title(\"Reconstruction error for different classes\")\n",
    "plt.ylabel(\"Reconstruction error\")\n",
    "plt.xlabel(\"Data point index\")\n",
    "plt.show();"
   ]
  },
  {
   "cell_type": "markdown",
   "metadata": {
    "colab_type": "text",
    "id": "TsONcjx6_DBn"
   },
   "source": []
  },
  {
   "cell_type": "markdown",
   "metadata": {
    "colab_type": "text",
    "id": "e4JxXgvyxJku"
   },
   "source": [
    "# Analysis\n",
    "\n",
    "Given the known fraud transactions, we can determine the number of true/false positives and negatives. Ideally, there should be no false positives and false negatives, but this is an imperfect model. Let's see how well it does."
   ]
  },
  {
   "cell_type": "code",
   "execution_count": 24,
   "metadata": {
    "colab": {
     "base_uri": "https://localhost:8080/",
     "height": 35
    },
    "colab_type": "code",
    "id": "YcYrqCvrgvce",
    "outputId": "9576afd2-e651-4ce6-ff4a-94b3ba561a43"
   },
   "outputs": [
    {
     "name": "stdout",
     "output_type": "stream",
     "text": [
      "Normal transactions: 5985, fraud transactions: 15\n"
     ]
    }
   ],
   "source": [
    "normal = error_df[error_df.true_class == 0]\n",
    "fraud = error_df[error_df.true_class == 1]\n",
    "\n",
    "print('Normal transactions: %d, fraud transactions: %d' % (len(normal), len(fraud)))"
   ]
  },
  {
   "cell_type": "code",
   "execution_count": 25,
   "metadata": {
    "colab": {
     "base_uri": "https://localhost:8080/",
     "height": 52
    },
    "colab_type": "code",
    "id": "1ySewU_gsZBZ",
    "outputId": "ac308281-d533-4022-fedc-90071d44a8ee"
   },
   "outputs": [
    {
     "name": "stdout",
     "output_type": "stream",
     "text": [
      "True positives: 8, true negatives: 5920\n",
      "False positives: 65, false negatives: 7\n"
     ]
    }
   ],
   "source": [
    "true_positives = len(fraud[fraud.reconstruction_error >= threshold])\n",
    "false_positives = len(normal[normal.reconstruction_error >= threshold])\n",
    "\n",
    "true_negatives = len(normal[normal.reconstruction_error < threshold])\n",
    "false_negatives = len(fraud[fraud.reconstruction_error < threshold])\n",
    "\n",
    "print('True positives: %d, true negatives: %d' % (true_positives, true_negatives))\n",
    "print('False positives: %d, false negatives: %d' % (false_positives, false_negatives))"
   ]
  },
  {
   "cell_type": "markdown",
   "metadata": {
    "colab_type": "text",
    "id": "5zr0KAh_-52b"
   },
   "source": []
  },
  {
   "cell_type": "markdown",
   "metadata": {
    "colab_type": "text",
    "id": "FbU9T7gMgvca"
   },
   "source": [
    "## Confusion Matrix\n",
    "\n",
    "The confusion matrix below shows the number of true/false positive/negatives. It's not perfect, but not too bad either."
   ]
  },
  {
   "cell_type": "code",
   "execution_count": 26,
   "metadata": {
    "colab": {
     "base_uri": "https://localhost:8080/",
     "height": 350
    },
    "colab_type": "code",
    "id": "zb_Azs0Xgvcb",
    "outputId": "b646fc94-c983-4edb-873e-e5ec19137f4b"
   },
   "outputs": [
    {
     "data": {
      "image/png": "[encoded data removed]",
      "text/plain": [
       "<Figure size 432x360 with 2 Axes>"
      ]
     },
     "metadata": {
      "tags": []
     },
     "output_type": "display_data"
    }
   ],
   "source": [
    "labels = [\"Normal\", \"Fraud\"]\n",
    "\n",
    "y_pred = [1 if e > threshold else 0 for e in error_df.reconstruction_error.values]\n",
    "conf_matrix = confusion_matrix(error_df.true_class, y_pred)\n",
    "\n",
    "plt.figure(figsize=(6, 5))\n",
    "sns.heatmap(conf_matrix, xticklabels=labels, yticklabels=labels, annot=True, fmt=\"d\");\n",
    "plt.title(\"Confusion matrix\")\n",
    "plt.ylabel('True class')\n",
    "plt.xlabel('Predicted class')\n",
    "plt.show()"
   ]
  }
 ],
 "metadata": {
  "colab": {
   "name": "Credit_Card_Fraud.ipynb",
   "provenance": []
  },
  "kernelspec": {
   "display_name": "Python 3",
   "language": "python",
   "name": "python3"
  },
  "language_info": {
   "codemirror_mode": {
    "name": "ipython",
    "version": 3
   },
   "file_extension": ".py",
   "mimetype": "text/x-python",
   "name": "python",
   "nbconvert_exporter": "python",
   "pygments_lexer": "ipython3",
   "version": "3.6.8"
  }
 },
 "nbformat": 4,
 "nbformat_minor": 1
}
