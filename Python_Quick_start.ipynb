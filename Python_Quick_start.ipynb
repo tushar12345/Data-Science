{
  "nbformat": 4,
  "nbformat_minor": 0,
  "metadata": {
    "colab": {
      "name": "Python_Quick_start.ipynb",
      "provenance": [],
      "collapsed_sections": [],
      "authorship_tag": "ABX9TyNrRJj2Wd/Gi0/dChW5tzts",
      "include_colab_link": true
    },
    "kernelspec": {
      "name": "python3",
      "display_name": "Python 3"
    }
  },
  "cells": [
    {
      "cell_type": "markdown",
      "metadata": {
        "id": "view-in-github",
        "colab_type": "text"
      },
      "source": [
        "<a href=\"https://colab.research.google.com/github/tushar12345/Data-Science-Projects/blob/master/Python_Quick_start.ipynb\" target=\"_parent\"><img src=\"https://colab.research.google.com/assets/colab-badge.svg\" alt=\"Open In Colab\"/></a>"
      ]
    },
    {
      "cell_type": "code",
      "metadata": {
        "id": "77KddkfDEgKN",
        "colab_type": "code",
        "outputId": "dba5b702-3a65-419b-e925-f3554f8d2bc0",
        "colab": {
          "base_uri": "https://localhost:8080/"
        }
      },
      "source": [
        "smallest = None\n",
        "value =1\n",
        "if smallest is None :\n",
        "     smallest = value\n",
        "     print(\"done\")\n",
        "else:\n",
        "  print(\"not done\")"
      ],
      "execution_count": 0,
      "outputs": [
        {
          "output_type": "stream",
          "text": [
            "done\n"
          ],
          "name": "stdout"
        }
      ]
    },
    {
      "cell_type": "code",
      "metadata": {
        "id": "4WLufHL2EqLk",
        "colab_type": "code",
        "outputId": "7f1bdfd5-27cb-4528-e783-01fce81a41f2",
        "colab": {
          "base_uri": "https://localhost:8080/"
        }
      },
      "source": [
        "vector_a = [1., 2., 3.,4.]\n",
        "vector_b = [2., 2., 2.]\n",
        "result =0\n",
        "for i in range(len(vector_b)):\n",
        "  result = result + vector_a[i] * vector_b[i]\n",
        "print(f'dot product of a and b is {result:.3f}')\n",
        "print(\"dot product of and b is {:.2f}\".format(result))\n",
        "print(\"the result is \" + '%.2f'%result)"
      ],
      "execution_count": 0,
      "outputs": [
        {
          "output_type": "stream",
          "text": [
            "dot product of a and b is 12.000\n",
            "dot product of and b is 12.00\n",
            "the result is 12.00\n"
          ],
          "name": "stdout"
        }
      ]
    },
    {
      "cell_type": "code",
      "metadata": {
        "id": "sf3IjjbmLmO4",
        "colab_type": "code",
        "outputId": "247268c0-de07-4013-ff1b-395dce175c27",
        "colab": {
          "base_uri": "https://localhost:8080/",
          "height": 231
        }
      },
      "source": [
        "import matplotlib.pyplot as plt\n",
        "import math\n",
        " \n",
        "x = [0.1*i for i in range(64)]\n",
        "sin = [math.sin(i) for i in x]\n",
        "cos = [math.cos(i) for i in x]\n",
        "parabola = [x1**2  for x1 in x] \n",
        "exponential = []\n",
        "log= []\n",
        "for x11 in x:\n",
        "  exp = math.exp(x11)\n",
        "  exponential.append(exp)\n",
        "  log11 = math.log10(x11)\n",
        "  log.append(log11)\n",
        "\n",
        "plt.plot(x, sin, label='sin(x)', color='blue', linewidth=2.5)\n",
        "plt.plot(x, cos, label='cos(x)', color='red', linewidth=0.5)\n",
        "plt.plot(x, parabola, label='X**2', color='yellow', linewidth=0.5)\n",
        "plt.plot(x, exponential, label='e^x', color='black', linewidth=0.5)\n",
        "plt.ylabel('y')\n",
        "plt.xlabel('x')\n",
        "plt.legend(loc='upper right')\n",
        "plt.show()"
      ],
      "execution_count": 29,
      "outputs": [
        {
          "output_type": "error",
          "ename": "ValueError",
          "evalue": "ignored",
          "traceback": [
            "\u001b[0;31m---------------------------------------------------------------------------\u001b[0m",
            "\u001b[0;31mValueError\u001b[0m                                Traceback (most recent call last)",
            "\u001b[0;32m<ipython-input-29-21dd34bd9121>\u001b[0m in \u001b[0;36m<module>\u001b[0;34m()\u001b[0m\n\u001b[1;32m     11\u001b[0m   \u001b[0mexp\u001b[0m \u001b[0;34m=\u001b[0m \u001b[0mmath\u001b[0m\u001b[0;34m.\u001b[0m\u001b[0mexp\u001b[0m\u001b[0;34m(\u001b[0m\u001b[0mx11\u001b[0m\u001b[0;34m)\u001b[0m\u001b[0;34m\u001b[0m\u001b[0;34m\u001b[0m\u001b[0m\n\u001b[1;32m     12\u001b[0m   \u001b[0mexponential\u001b[0m\u001b[0;34m.\u001b[0m\u001b[0mappend\u001b[0m\u001b[0;34m(\u001b[0m\u001b[0mexp\u001b[0m\u001b[0;34m)\u001b[0m\u001b[0;34m\u001b[0m\u001b[0;34m\u001b[0m\u001b[0m\n\u001b[0;32m---> 13\u001b[0;31m   \u001b[0mlog11\u001b[0m \u001b[0;34m=\u001b[0m \u001b[0mmath\u001b[0m\u001b[0;34m.\u001b[0m\u001b[0mlog10\u001b[0m\u001b[0;34m(\u001b[0m\u001b[0mx11\u001b[0m\u001b[0;34m)\u001b[0m\u001b[0;34m\u001b[0m\u001b[0;34m\u001b[0m\u001b[0m\n\u001b[0m\u001b[1;32m     14\u001b[0m   \u001b[0mlog\u001b[0m\u001b[0;34m.\u001b[0m\u001b[0mappend\u001b[0m\u001b[0;34m(\u001b[0m\u001b[0mlog11\u001b[0m\u001b[0;34m)\u001b[0m\u001b[0;34m\u001b[0m\u001b[0;34m\u001b[0m\u001b[0m\n\u001b[1;32m     15\u001b[0m \u001b[0;34m\u001b[0m\u001b[0m\n",
            "\u001b[0;31mValueError\u001b[0m: math domain error"
          ]
        }
      ]
    }
  ]
}