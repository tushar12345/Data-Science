{
 "cells": [
  {
   "cell_type": "markdown",
   "metadata": {},
   "source": [
    "## Number of Labels\n",
    "\n",
    "Accuracy of a supervised model increases with the number of labels available for training. A natural question to ask is how many labels are needed for a given level of accuracy. In this notebook, we will experiment with the MNIST data set and estimate the number of labels needed to classify 10 digits as well as just two digits.\n",
    "\n",
    "The results are interesting.\n",
    "\n",
    "This is a Tensorflow 1.x notebook!"
   ]
  },
  {
   "cell_type": "code",
   "execution_count": null,
   "metadata": {},
   "outputs": [],
   "source": [
    "%tensorflow_version 1.x"
   ]
  },
  {
   "cell_type": "code",
   "execution_count": 1,
   "metadata": {},
   "outputs": [
    {
     "name": "stderr",
     "output_type": "stream",
     "text": [
      "Using TensorFlow backend.\n"
     ]
    }
   ],
   "source": [
    "import keras\n",
    "from keras.datasets import mnist\n",
    "from keras.models import Sequential\n",
    "from keras.layers import Dense, Dropout, Flatten\n",
    "from keras.layers import Conv2D, MaxPooling2D\n",
    "from keras import backend as K\n",
    "from keras.optimizers import Adam\n",
    "from matplotlib import pyplot as plt\n",
    "import numpy as np\n",
    "import random"
   ]
  },
  {
   "cell_type": "markdown",
   "metadata": {},
   "source": [
    "These are some configuration parameters and hyperparameters."
   ]
  },
  {
   "cell_type": "code",
   "execution_count": 2,
   "metadata": {},
   "outputs": [],
   "source": [
    "# Input image dimensions\n",
    "img_rows, img_cols = 28, 28\n",
    "\n",
    "# The number of training samples per batch. 128 is a reasonable number.\n",
    "batch_size = 128\n",
    "\n",
    "# Our data set contains 10 digits, so the number of classes is 10\n",
    "num_classes = 10\n",
    "\n",
    "# epochs is the number of times the model is trained with the data set, more can be better, up to a point\n",
    "epochs = 10\n",
    "\n",
    "# dropout is a common regularization hyperperameter. It helps to avoid overfitting or memorizing the input.\n",
    "dropout = 0.5"
   ]
  },
  {
   "cell_type": "markdown",
   "metadata": {},
   "source": [
    "### Load data\n",
    "\n",
    "Keras has a builting function for loading MNIST data and splitting it into train and test sets. x_train and x_test are arrays of train and test input images respectively. Images are represented as a 28 x 28 matrix of pixel values. y_train and y_test are train and test labels respectively.\n",
    "\n",
    "Pixel values are normalized into values ranging from 0.0 - 1.0."
   ]
  },
  {
   "cell_type": "code",
   "execution_count": 3,
   "metadata": {},
   "outputs": [
    {
     "name": "stdout",
     "output_type": "stream",
     "text": [
      "60000 train samples\n",
      "10000 test samples\n"
     ]
    }
   ],
   "source": [
    "(x_train, y_train), (x_test, y_test) = mnist.load_data()\n",
    "\n",
    "# Save original test images for display purposes\n",
    "orig_test = x_test\n",
    "\n",
    "if K.image_data_format() == 'channels_first':\n",
    "    x_train = x_train.reshape(x_train.shape[0], 1, img_rows, img_cols)\n",
    "    x_test = x_test.reshape(x_test.shape[0], 1, img_rows, img_cols)\n",
    "    input_shape = (1, img_rows, img_cols)\n",
    "else:\n",
    "    x_train = x_train.reshape(x_train.shape[0], img_rows, img_cols, 1)\n",
    "    x_test = x_test.reshape(x_test.shape[0], img_rows, img_cols, 1)\n",
    "    input_shape = (img_rows, img_cols, 1)\n",
    "    \n",
    "x_train, x_test = x_train / 255.0, x_test / 255.0\n",
    "\n",
    "print(x_train.shape[0], 'train samples')\n",
    "print(x_test.shape[0], 'test samples')"
   ]
  },
  {
   "cell_type": "markdown",
   "metadata": {},
   "source": [
    "### 10 Classes\n",
    "\n",
    "All 10 classes are used for training and testing.\n",
    "\n",
    "A simple CNN model is used for this experiment as it achieves good accuracy with modest computational requirements.\n",
    "\n",
    "Several sizes of training data is used to measure accuracy."
   ]
  },
  {
   "cell_type": "code",
   "execution_count": 4,
   "metadata": {},
   "outputs": [
    {
     "name": "stdout",
     "output_type": "stream",
     "text": [
      "WARNING:tensorflow:From C:\\ProgramData\\Anaconda3\\lib\\site-packages\\tensorflow\\python\\framework\\op_def_library.py:263: colocate_with (from tensorflow.python.framework.ops) is deprecated and will be removed in a future version.\n",
      "Instructions for updating:\n",
      "Colocations handled automatically by placer.\n",
      "WARNING:tensorflow:From C:\\ProgramData\\Anaconda3\\lib\\site-packages\\keras\\backend\\tensorflow_backend.py:3445: calling dropout (from tensorflow.python.ops.nn_ops) with keep_prob is deprecated and will be removed in a future version.\n",
      "Instructions for updating:\n",
      "Please use `rate` instead of `keep_prob`. Rate should be set to `rate = 1 - keep_prob`.\n",
      "WARNING:tensorflow:From C:\\ProgramData\\Anaconda3\\lib\\site-packages\\tensorflow\\python\\ops\\math_ops.py:3066: to_int32 (from tensorflow.python.ops.math_ops) is deprecated and will be removed in a future version.\n",
      "Instructions for updating:\n",
      "Use tf.cast instead.\n",
      "Training samples: 100, test accuracy: 68.12 %\n",
      "Training samples: 200, test accuracy: 74.53 %\n",
      "Training samples: 500, test accuracy: 86.77 %\n",
      "Training samples: 1000, test accuracy: 92.52 %\n",
      "Training samples: 2000, test accuracy: 95.12 %\n",
      "Training samples: 5000, test accuracy: 97.34 %\n",
      "Training samples: 10000, test accuracy: 98.16 %\n"
     ]
    },
    {
     "data": {
      "image/png": "[encoded data removed]",
      "text/plain": [
       "<Figure size 432x288 with 1 Axes>"
      ]
     },
     "metadata": {
      "needs_background": "light"
     },
     "output_type": "display_data"
    }
   ],
   "source": [
    "sizeList = [100, 200, 500, 1000, 2000, 5000, 10000]\n",
    "accuracy = []\n",
    "for trainingSize in sizeList:\n",
    "    model = Sequential()\n",
    "    model.add(Conv2D(32, kernel_size=(3, 3), activation='relu', input_shape=input_shape))\n",
    "    model.add(Conv2D(64, (3, 3), activation='relu'))\n",
    "    model.add(MaxPooling2D(pool_size=(2, 2)))\n",
    "    model.add(Dropout(dropout/2))\n",
    "    model.add(Flatten())\n",
    "    model.add(Dense(128, activation='relu'))\n",
    "    model.add(Dropout(dropout))\n",
    "    model.add(Dense(num_classes, activation='softmax'))\n",
    "    \n",
    "    model.compile(loss='sparse_categorical_crossentropy', optimizer=Adam(), metrics=['acc'])\n",
    "\n",
    "    x = x_train[:trainingSize]\n",
    "    y = y_train[:trainingSize]\n",
    "    history = model.fit(x, y, batch_size=batch_size, epochs=epochs, verbose=0)\n",
    "    score = model.evaluate(x_test, y_test, verbose=0)\n",
    "    print('Training samples: %d, test accuracy: %.2f %%' % (trainingSize, score[1]*100))\n",
    "    accuracy.append(score[1])\n",
    "\n",
    "plt.plot(sizeList, accuracy)\n",
    "plt.title('Model Accuracy')\n",
    "plt.ylabel('Test Accuracy')\n",
    "plt.xlabel('Training Samples')\n",
    "plt.show()"
   ]
  },
  {
   "cell_type": "markdown",
   "metadata": {},
   "source": [
    "### Binary Classification\n",
    "\n",
    "Just two digits are used for training and test. This demonstrates that two classes require less training data than 10 classes."
   ]
  },
  {
   "cell_type": "code",
   "execution_count": 5,
   "metadata": {},
   "outputs": [
    {
     "name": "stdout",
     "output_type": "stream",
     "text": [
      "Training samples: 100, test accuracy: 91.63 %\n",
      "Training samples: 200, test accuracy: 96.47 %\n",
      "Training samples: 500, test accuracy: 97.43 %\n",
      "Training samples: 1000, test accuracy: 97.88 %\n",
      "Training samples: 2000, test accuracy: 98.64 %\n",
      "Training samples: 5000, test accuracy: 99.55 %\n",
      "Training samples: 10000, test accuracy: 99.65 %\n"
     ]
    },
    {
     "data": {
      "image/png": "[encoded data removed]",
      "text/plain": [
       "<Figure size 432x288 with 1 Axes>"
      ]
     },
     "metadata": {
      "needs_background": "light"
     },
     "output_type": "display_data"
    }
   ],
   "source": [
    "sizeList = [100, 200, 500, 1000, 2000, 5000, 10000]\n",
    "accuracy = []\n",
    "\n",
    "# Choose just two classes\n",
    "classes = [8, 9]\n",
    "\n",
    "# Training set\n",
    "xtr = []\n",
    "ytr = []\n",
    "for i in range(len(y_train)):\n",
    "    if y_train[i] in classes:\n",
    "        xtr.append(x_train[i])\n",
    "        ytr.append(classes.index(y_train[i]))\n",
    "\n",
    "xtr = np.asarray(xtr)\n",
    "ytr = np.asarray(ytr)\n",
    "\n",
    "# Test set\n",
    "xte = []\n",
    "yte = []\n",
    "for i in range(len(y_test)):\n",
    "    if y_test[i] in classes:\n",
    "        xte.append(x_test[i])\n",
    "        yte.append(classes.index(y_test[i]))\n",
    "\n",
    "xte = np.asarray(xte)\n",
    "yte = np.asarray(yte)\n",
    "\n",
    "for trainingSize in sizeList:\n",
    "    model = Sequential()\n",
    "    model.add(Conv2D(32, kernel_size=(3, 3), activation='relu', input_shape=input_shape))\n",
    "    model.add(Conv2D(64, (3, 3), activation='relu'))\n",
    "    model.add(MaxPooling2D(pool_size=(2, 2)))\n",
    "    model.add(Dropout(dropout/2))\n",
    "    model.add(Flatten())\n",
    "    model.add(Dense(128, activation='relu'))\n",
    "    model.add(Dropout(dropout))\n",
    "    model.add(Dense(num_classes, activation='softmax'))\n",
    "    \n",
    "    model.compile(loss='sparse_categorical_crossentropy', optimizer=Adam(), metrics=['acc'])\n",
    "\n",
    "    x = xtr[:trainingSize]\n",
    "    y = ytr[:trainingSize]\n",
    "    history = model.fit(x, y, batch_size=batch_size, epochs=epochs, verbose=0)\n",
    "    score = model.evaluate(xte, yte, verbose=0)\n",
    "    print('Training samples: %d, test accuracy: %.2f %%' % (trainingSize, score[1]*100))\n",
    "    accuracy.append(score[1])\n",
    "\n",
    "plt.plot(sizeList, accuracy)\n",
    "plt.title('Model Accuracy')\n",
    "plt.ylabel('Test Accuracy')\n",
    "plt.xlabel('Training Samples')\n",
    "plt.show()"
   ]
  },
  {
   "cell_type": "code",
   "execution_count": null,
   "metadata": {},
   "outputs": [],
   "source": []
  }
 ],
 "metadata": {
  "anaconda-cloud": {},
  "kernelspec": {
   "display_name": "Python 3",
   "language": "python",
   "name": "python3"
  },
  "language_info": {
   "codemirror_mode": {
    "name": "ipython",
    "version": 3
   },
   "file_extension": ".py",
   "mimetype": "text/x-python",
   "name": "python",
   "nbconvert_exporter": "python",
   "pygments_lexer": "ipython3",
   "version": "3.6.8"
  }
 },
 "nbformat": 4,
 "nbformat_minor": 1
}
