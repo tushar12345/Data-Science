{
  "nbformat": 4,
  "nbformat_minor": 0,
  "metadata": {
    "colab": {
      "name": "Movie-Recommendations.ipynb",
      "provenance": [],
      "toc_visible": true,
      "authorship_tag": "ABX9TyPeFgUaTeNsy8E2Qzm61MQ2",
      "include_colab_link": true
    },
    "kernelspec": {
      "name": "python3",
      "display_name": "Python 3"
    },
    "accelerator": "GPU"
  },
  "cells": [
    {
      "cell_type": "markdown",
      "metadata": {
        "id": "view-in-github",
        "colab_type": "text"
      },
      "source": [
        "<a href=\"https://colab.research.google.com/github/tushar12345/Data-Science-Projects/blob/master/Movie_Recommendations.ipynb\" target=\"_parent\"><img src=\"https://colab.research.google.com/assets/colab-badge.svg\" alt=\"Open In Colab\"/></a>"
      ]
    },
    {
      "cell_type": "code",
      "metadata": {
        "id": "UpORa_qMqALZ",
        "colab_type": "code",
        "colab": {
          "base_uri": "https://localhost:8080/",
          "height": 35
        },
        "outputId": "115a5a67-d8a7-4885-a85f-f8f83d43bc06"
      },
      "source": [
        "#Movie REcommendation system\n",
        "%tensorflow_version 1.x"
      ],
      "execution_count": 14,
      "outputs": [
        {
          "output_type": "stream",
          "text": [
            "TensorFlow is already loaded. Please restart the runtime to change versions.\n"
          ],
          "name": "stdout"
        }
      ]
    },
    {
      "cell_type": "code",
      "metadata": {
        "id": "_qobGy14s6q2",
        "colab_type": "code",
        "colab": {}
      },
      "source": [
        "import pandas as pd\n",
        "import numpy as np\n",
        "import matplotlib.pyplot as plt\n",
        "from sklearn.model_selection import train_test_split\n",
        "from sklearn.preprocessing import StandardScaler\n",
        "from tensorflow.keras.layers import Input, Embedding, Flatten, Dropout, Dense , Dot, Add\n",
        "from tensorflow.keras.models import Model\n",
        "from tensorflow.keras.optimizers import Adam\n",
        "from sklearn.preprocessing import LabelEncoder "
      ],
      "execution_count": 0,
      "outputs": []
    },
    {
      "cell_type": "code",
      "metadata": {
        "id": "ZXTVXHVQvrZA",
        "colab_type": "code",
        "outputId": "91183f96-9a9e-417e-b2c8-57469495f761",
        "colab": {
          "base_uri": "https://localhost:8080/",
          "height": 219
        }
      },
      "source": [
        "#download data , ! sign is used to run shell commnands\n",
        "!wget http://files.grouplens.org/datasets/movielens/ml-latest-small.zip"
      ],
      "execution_count": 16,
      "outputs": [
        {
          "output_type": "stream",
          "text": [
            "--2020-04-30 16:57:58--  http://files.grouplens.org/datasets/movielens/ml-latest-small.zip\n",
            "Resolving files.grouplens.org (files.grouplens.org)... 128.101.65.152\n",
            "Connecting to files.grouplens.org (files.grouplens.org)|128.101.65.152|:80... connected.\n",
            "HTTP request sent, awaiting response... 200 OK\n",
            "Length: 978202 (955K) [application/zip]\n",
            "Saving to: ‘ml-latest-small.zip.1’\n",
            "\n",
            "\rml-latest-small.zip   0%[                    ]       0  --.-KB/s               \rml-latest-small.zip   5%[>                   ]  50.10K   247KB/s               \rml-latest-small.zip  22%[===>                ] 217.44K   536KB/s               \rml-latest-small.zip  93%[=================>  ] 891.46K  1.43MB/s               \rml-latest-small.zip 100%[===================>] 955.28K  1.53MB/s    in 0.6s    \n",
            "\n",
            "2020-04-30 16:57:59 (1.53 MB/s) - ‘ml-latest-small.zip.1’ saved [978202/978202]\n",
            "\n"
          ],
          "name": "stdout"
        }
      ]
    },
    {
      "cell_type": "code",
      "metadata": {
        "id": "V11WXt1Pwn4U",
        "colab_type": "code",
        "outputId": "e57ef15a-01ef-4cf2-fd56-c8717b88ea47",
        "colab": {
          "base_uri": "https://localhost:8080/",
          "height": 146
        }
      },
      "source": [
        "!unzip ml-latest-small.zip"
      ],
      "execution_count": 17,
      "outputs": [
        {
          "output_type": "stream",
          "text": [
            "Archive:  ml-latest-small.zip\n",
            "replace ml-latest-small/links.csv? [y]es, [n]o, [A]ll, [N]one, [r]ename: A\n",
            "  inflating: ml-latest-small/links.csv  \n",
            "  inflating: ml-latest-small/tags.csv  \n",
            "  inflating: ml-latest-small/ratings.csv  \n",
            "  inflating: ml-latest-small/README.txt  \n",
            "  inflating: ml-latest-small/movies.csv  \n"
          ],
          "name": "stdout"
        }
      ]
    },
    {
      "cell_type": "code",
      "metadata": {
        "id": "0RxhgaL2xOgR",
        "colab_type": "code",
        "outputId": "368bedc9-d084-4359-f694-0c9d6972f6ee",
        "colab": {
          "base_uri": "https://localhost:8080/",
          "height": 206
        }
      },
      "source": [
        "movies =pd.read_csv('ml-latest-small/movies.csv')\n",
        "movies.head()"
      ],
      "execution_count": 18,
      "outputs": [
        {
          "output_type": "execute_result",
          "data": {
            "text/html": [
              "<div>\n",
              "<style scoped>\n",
              "    .dataframe tbody tr th:only-of-type {\n",
              "        vertical-align: middle;\n",
              "    }\n",
              "\n",
              "    .dataframe tbody tr th {\n",
              "        vertical-align: top;\n",
              "    }\n",
              "\n",
              "    .dataframe thead th {\n",
              "        text-align: right;\n",
              "    }\n",
              "</style>\n",
              "<table border=\"1\" class=\"dataframe\">\n",
              "  <thead>\n",
              "    <tr style=\"text-align: right;\">\n",
              "      <th></th>\n",
              "      <th>movieId</th>\n",
              "      <th>title</th>\n",
              "      <th>genres</th>\n",
              "    </tr>\n",
              "  </thead>\n",
              "  <tbody>\n",
              "    <tr>\n",
              "      <th>0</th>\n",
              "      <td>1</td>\n",
              "      <td>Toy Story (1995)</td>\n",
              "      <td>Adventure|Animation|Children|Comedy|Fantasy</td>\n",
              "    </tr>\n",
              "    <tr>\n",
              "      <th>1</th>\n",
              "      <td>2</td>\n",
              "      <td>Jumanji (1995)</td>\n",
              "      <td>Adventure|Children|Fantasy</td>\n",
              "    </tr>\n",
              "    <tr>\n",
              "      <th>2</th>\n",
              "      <td>3</td>\n",
              "      <td>Grumpier Old Men (1995)</td>\n",
              "      <td>Comedy|Romance</td>\n",
              "    </tr>\n",
              "    <tr>\n",
              "      <th>3</th>\n",
              "      <td>4</td>\n",
              "      <td>Waiting to Exhale (1995)</td>\n",
              "      <td>Comedy|Drama|Romance</td>\n",
              "    </tr>\n",
              "    <tr>\n",
              "      <th>4</th>\n",
              "      <td>5</td>\n",
              "      <td>Father of the Bride Part II (1995)</td>\n",
              "      <td>Comedy</td>\n",
              "    </tr>\n",
              "  </tbody>\n",
              "</table>\n",
              "</div>"
            ],
            "text/plain": [
              "   movieId  ...                                       genres\n",
              "0        1  ...  Adventure|Animation|Children|Comedy|Fantasy\n",
              "1        2  ...                   Adventure|Children|Fantasy\n",
              "2        3  ...                               Comedy|Romance\n",
              "3        4  ...                         Comedy|Drama|Romance\n",
              "4        5  ...                                       Comedy\n",
              "\n",
              "[5 rows x 3 columns]"
            ]
          },
          "metadata": {
            "tags": []
          },
          "execution_count": 18
        }
      ]
    },
    {
      "cell_type": "code",
      "metadata": {
        "id": "_FCnL4X8yInq",
        "colab_type": "code",
        "outputId": "49e6f7f3-f676-406e-981f-1be8d8c3d668",
        "colab": {
          "base_uri": "https://localhost:8080/",
          "height": 35
        }
      },
      "source": [
        "len(movies)"
      ],
      "execution_count": 19,
      "outputs": [
        {
          "output_type": "execute_result",
          "data": {
            "text/plain": [
              "9742"
            ]
          },
          "metadata": {
            "tags": []
          },
          "execution_count": 19
        }
      ]
    },
    {
      "cell_type": "code",
      "metadata": {
        "id": "a0q9-FStyQmK",
        "colab_type": "code",
        "colab": {}
      },
      "source": [
        "ratings=pd.read_csv('ml-latest-small/ratings.csv')"
      ],
      "execution_count": 0,
      "outputs": []
    },
    {
      "cell_type": "code",
      "metadata": {
        "id": "_delVBD9yeXs",
        "colab_type": "code",
        "outputId": "bea07181-eec1-4cf0-a9ce-50a4de2fbb97",
        "colab": {
          "base_uri": "https://localhost:8080/",
          "height": 237
        }
      },
      "source": [
        "print(ratings.tail(10))\n",
        "print(len(ratings))"
      ],
      "execution_count": 21,
      "outputs": [
        {
          "output_type": "stream",
          "text": [
            "        userId  movieId  rating   timestamp\n",
            "100826     610   162350     3.5  1493849971\n",
            "100827     610   163937     3.5  1493848789\n",
            "100828     610   163981     3.5  1493850155\n",
            "100829     610   164179     5.0  1493845631\n",
            "100830     610   166528     4.0  1493879365\n",
            "100831     610   166534     4.0  1493848402\n",
            "100832     610   168248     5.0  1493850091\n",
            "100833     610   168250     5.0  1494273047\n",
            "100834     610   168252     5.0  1493846352\n",
            "100835     610   170875     3.0  1493846415\n",
            "100836\n"
          ],
          "name": "stdout"
        }
      ]
    },
    {
      "cell_type": "code",
      "metadata": {
        "id": "4TBxXnlSzN5D",
        "colab_type": "code",
        "colab": {}
      },
      "source": [
        "#join rating with movie as MovieId is the primary key\n",
        "ratings =ratings.merge(movies, on='movieId').drop(['timestamp','genres'],axis=1)\n"
      ],
      "execution_count": 0,
      "outputs": []
    },
    {
      "cell_type": "code",
      "metadata": {
        "id": "e6wDNrN02Iu8",
        "colab_type": "code",
        "outputId": "5a050755-bab3-4630-8929-78022dd52bc5",
        "colab": {
          "base_uri": "https://localhost:8080/",
          "height": 677
        }
      },
      "source": [
        "ratings.head(20)"
      ],
      "execution_count": 23,
      "outputs": [
        {
          "output_type": "execute_result",
          "data": {
            "text/html": [
              "<div>\n",
              "<style scoped>\n",
              "    .dataframe tbody tr th:only-of-type {\n",
              "        vertical-align: middle;\n",
              "    }\n",
              "\n",
              "    .dataframe tbody tr th {\n",
              "        vertical-align: top;\n",
              "    }\n",
              "\n",
              "    .dataframe thead th {\n",
              "        text-align: right;\n",
              "    }\n",
              "</style>\n",
              "<table border=\"1\" class=\"dataframe\">\n",
              "  <thead>\n",
              "    <tr style=\"text-align: right;\">\n",
              "      <th></th>\n",
              "      <th>userId</th>\n",
              "      <th>movieId</th>\n",
              "      <th>rating</th>\n",
              "      <th>title</th>\n",
              "    </tr>\n",
              "  </thead>\n",
              "  <tbody>\n",
              "    <tr>\n",
              "      <th>0</th>\n",
              "      <td>1</td>\n",
              "      <td>1</td>\n",
              "      <td>4.0</td>\n",
              "      <td>Toy Story (1995)</td>\n",
              "    </tr>\n",
              "    <tr>\n",
              "      <th>1</th>\n",
              "      <td>5</td>\n",
              "      <td>1</td>\n",
              "      <td>4.0</td>\n",
              "      <td>Toy Story (1995)</td>\n",
              "    </tr>\n",
              "    <tr>\n",
              "      <th>2</th>\n",
              "      <td>7</td>\n",
              "      <td>1</td>\n",
              "      <td>4.5</td>\n",
              "      <td>Toy Story (1995)</td>\n",
              "    </tr>\n",
              "    <tr>\n",
              "      <th>3</th>\n",
              "      <td>15</td>\n",
              "      <td>1</td>\n",
              "      <td>2.5</td>\n",
              "      <td>Toy Story (1995)</td>\n",
              "    </tr>\n",
              "    <tr>\n",
              "      <th>4</th>\n",
              "      <td>17</td>\n",
              "      <td>1</td>\n",
              "      <td>4.5</td>\n",
              "      <td>Toy Story (1995)</td>\n",
              "    </tr>\n",
              "    <tr>\n",
              "      <th>5</th>\n",
              "      <td>18</td>\n",
              "      <td>1</td>\n",
              "      <td>3.5</td>\n",
              "      <td>Toy Story (1995)</td>\n",
              "    </tr>\n",
              "    <tr>\n",
              "      <th>6</th>\n",
              "      <td>19</td>\n",
              "      <td>1</td>\n",
              "      <td>4.0</td>\n",
              "      <td>Toy Story (1995)</td>\n",
              "    </tr>\n",
              "    <tr>\n",
              "      <th>7</th>\n",
              "      <td>21</td>\n",
              "      <td>1</td>\n",
              "      <td>3.5</td>\n",
              "      <td>Toy Story (1995)</td>\n",
              "    </tr>\n",
              "    <tr>\n",
              "      <th>8</th>\n",
              "      <td>27</td>\n",
              "      <td>1</td>\n",
              "      <td>3.0</td>\n",
              "      <td>Toy Story (1995)</td>\n",
              "    </tr>\n",
              "    <tr>\n",
              "      <th>9</th>\n",
              "      <td>31</td>\n",
              "      <td>1</td>\n",
              "      <td>5.0</td>\n",
              "      <td>Toy Story (1995)</td>\n",
              "    </tr>\n",
              "    <tr>\n",
              "      <th>10</th>\n",
              "      <td>32</td>\n",
              "      <td>1</td>\n",
              "      <td>3.0</td>\n",
              "      <td>Toy Story (1995)</td>\n",
              "    </tr>\n",
              "    <tr>\n",
              "      <th>11</th>\n",
              "      <td>33</td>\n",
              "      <td>1</td>\n",
              "      <td>3.0</td>\n",
              "      <td>Toy Story (1995)</td>\n",
              "    </tr>\n",
              "    <tr>\n",
              "      <th>12</th>\n",
              "      <td>40</td>\n",
              "      <td>1</td>\n",
              "      <td>5.0</td>\n",
              "      <td>Toy Story (1995)</td>\n",
              "    </tr>\n",
              "    <tr>\n",
              "      <th>13</th>\n",
              "      <td>43</td>\n",
              "      <td>1</td>\n",
              "      <td>5.0</td>\n",
              "      <td>Toy Story (1995)</td>\n",
              "    </tr>\n",
              "    <tr>\n",
              "      <th>14</th>\n",
              "      <td>44</td>\n",
              "      <td>1</td>\n",
              "      <td>3.0</td>\n",
              "      <td>Toy Story (1995)</td>\n",
              "    </tr>\n",
              "    <tr>\n",
              "      <th>15</th>\n",
              "      <td>45</td>\n",
              "      <td>1</td>\n",
              "      <td>4.0</td>\n",
              "      <td>Toy Story (1995)</td>\n",
              "    </tr>\n",
              "    <tr>\n",
              "      <th>16</th>\n",
              "      <td>46</td>\n",
              "      <td>1</td>\n",
              "      <td>5.0</td>\n",
              "      <td>Toy Story (1995)</td>\n",
              "    </tr>\n",
              "    <tr>\n",
              "      <th>17</th>\n",
              "      <td>50</td>\n",
              "      <td>1</td>\n",
              "      <td>3.0</td>\n",
              "      <td>Toy Story (1995)</td>\n",
              "    </tr>\n",
              "    <tr>\n",
              "      <th>18</th>\n",
              "      <td>54</td>\n",
              "      <td>1</td>\n",
              "      <td>3.0</td>\n",
              "      <td>Toy Story (1995)</td>\n",
              "    </tr>\n",
              "    <tr>\n",
              "      <th>19</th>\n",
              "      <td>57</td>\n",
              "      <td>1</td>\n",
              "      <td>5.0</td>\n",
              "      <td>Toy Story (1995)</td>\n",
              "    </tr>\n",
              "  </tbody>\n",
              "</table>\n",
              "</div>"
            ],
            "text/plain": [
              "    userId  movieId  rating             title\n",
              "0        1        1     4.0  Toy Story (1995)\n",
              "1        5        1     4.0  Toy Story (1995)\n",
              "2        7        1     4.5  Toy Story (1995)\n",
              "3       15        1     2.5  Toy Story (1995)\n",
              "4       17        1     4.5  Toy Story (1995)\n",
              "5       18        1     3.5  Toy Story (1995)\n",
              "6       19        1     4.0  Toy Story (1995)\n",
              "7       21        1     3.5  Toy Story (1995)\n",
              "8       27        1     3.0  Toy Story (1995)\n",
              "9       31        1     5.0  Toy Story (1995)\n",
              "10      32        1     3.0  Toy Story (1995)\n",
              "11      33        1     3.0  Toy Story (1995)\n",
              "12      40        1     5.0  Toy Story (1995)\n",
              "13      43        1     5.0  Toy Story (1995)\n",
              "14      44        1     3.0  Toy Story (1995)\n",
              "15      45        1     4.0  Toy Story (1995)\n",
              "16      46        1     5.0  Toy Story (1995)\n",
              "17      50        1     3.0  Toy Story (1995)\n",
              "18      54        1     3.0  Toy Story (1995)\n",
              "19      57        1     5.0  Toy Story (1995)"
            ]
          },
          "metadata": {
            "tags": []
          },
          "execution_count": 23
        }
      ]
    },
    {
      "cell_type": "markdown",
      "metadata": {
        "id": "kxuM6EKq7Hia",
        "colab_type": "text"
      },
      "source": [
        "Generate Sequential Identifiers\n",
        "\n",
        "userId and movieId are not sequential, which causes problems for our model. To compensate, we can use the LabelEncoder class from scikit-learn to generate sequential identifiers for users and movies. \n",
        "The original identifiers are still available, so we can always join back to the original data set if needed."
      ]
    },
    {
      "cell_type": "code",
      "metadata": {
        "id": "M2P7xgEr43b7",
        "colab_type": "code",
        "outputId": "ab0fad1d-c633-45a3-f7c0-957fd1d69f55",
        "colab": {
          "base_uri": "https://localhost:8080/",
          "height": 363
        }
      },
      "source": [
        "user_enc = LabelEncoder()\n",
        "ratings['userSeq'] = user_enc.fit_transform(ratings['userId'].values)\n",
        "\n",
        "item_enc=LabelEncoder()\n",
        "ratings['movieSeq']=item_enc.fit_transform(ratings['movieId'].values)\n",
        "\n",
        "#ratings =ratings.drop(['userSeq1'],axis=1)\n",
        "ratings.head(10)"
      ],
      "execution_count": 24,
      "outputs": [
        {
          "output_type": "execute_result",
          "data": {
            "text/html": [
              "<div>\n",
              "<style scoped>\n",
              "    .dataframe tbody tr th:only-of-type {\n",
              "        vertical-align: middle;\n",
              "    }\n",
              "\n",
              "    .dataframe tbody tr th {\n",
              "        vertical-align: top;\n",
              "    }\n",
              "\n",
              "    .dataframe thead th {\n",
              "        text-align: right;\n",
              "    }\n",
              "</style>\n",
              "<table border=\"1\" class=\"dataframe\">\n",
              "  <thead>\n",
              "    <tr style=\"text-align: right;\">\n",
              "      <th></th>\n",
              "      <th>userId</th>\n",
              "      <th>movieId</th>\n",
              "      <th>rating</th>\n",
              "      <th>title</th>\n",
              "      <th>userSeq</th>\n",
              "      <th>movieSeq</th>\n",
              "    </tr>\n",
              "  </thead>\n",
              "  <tbody>\n",
              "    <tr>\n",
              "      <th>0</th>\n",
              "      <td>1</td>\n",
              "      <td>1</td>\n",
              "      <td>4.0</td>\n",
              "      <td>Toy Story (1995)</td>\n",
              "      <td>0</td>\n",
              "      <td>0</td>\n",
              "    </tr>\n",
              "    <tr>\n",
              "      <th>1</th>\n",
              "      <td>5</td>\n",
              "      <td>1</td>\n",
              "      <td>4.0</td>\n",
              "      <td>Toy Story (1995)</td>\n",
              "      <td>4</td>\n",
              "      <td>0</td>\n",
              "    </tr>\n",
              "    <tr>\n",
              "      <th>2</th>\n",
              "      <td>7</td>\n",
              "      <td>1</td>\n",
              "      <td>4.5</td>\n",
              "      <td>Toy Story (1995)</td>\n",
              "      <td>6</td>\n",
              "      <td>0</td>\n",
              "    </tr>\n",
              "    <tr>\n",
              "      <th>3</th>\n",
              "      <td>15</td>\n",
              "      <td>1</td>\n",
              "      <td>2.5</td>\n",
              "      <td>Toy Story (1995)</td>\n",
              "      <td>14</td>\n",
              "      <td>0</td>\n",
              "    </tr>\n",
              "    <tr>\n",
              "      <th>4</th>\n",
              "      <td>17</td>\n",
              "      <td>1</td>\n",
              "      <td>4.5</td>\n",
              "      <td>Toy Story (1995)</td>\n",
              "      <td>16</td>\n",
              "      <td>0</td>\n",
              "    </tr>\n",
              "    <tr>\n",
              "      <th>5</th>\n",
              "      <td>18</td>\n",
              "      <td>1</td>\n",
              "      <td>3.5</td>\n",
              "      <td>Toy Story (1995)</td>\n",
              "      <td>17</td>\n",
              "      <td>0</td>\n",
              "    </tr>\n",
              "    <tr>\n",
              "      <th>6</th>\n",
              "      <td>19</td>\n",
              "      <td>1</td>\n",
              "      <td>4.0</td>\n",
              "      <td>Toy Story (1995)</td>\n",
              "      <td>18</td>\n",
              "      <td>0</td>\n",
              "    </tr>\n",
              "    <tr>\n",
              "      <th>7</th>\n",
              "      <td>21</td>\n",
              "      <td>1</td>\n",
              "      <td>3.5</td>\n",
              "      <td>Toy Story (1995)</td>\n",
              "      <td>20</td>\n",
              "      <td>0</td>\n",
              "    </tr>\n",
              "    <tr>\n",
              "      <th>8</th>\n",
              "      <td>27</td>\n",
              "      <td>1</td>\n",
              "      <td>3.0</td>\n",
              "      <td>Toy Story (1995)</td>\n",
              "      <td>26</td>\n",
              "      <td>0</td>\n",
              "    </tr>\n",
              "    <tr>\n",
              "      <th>9</th>\n",
              "      <td>31</td>\n",
              "      <td>1</td>\n",
              "      <td>5.0</td>\n",
              "      <td>Toy Story (1995)</td>\n",
              "      <td>30</td>\n",
              "      <td>0</td>\n",
              "    </tr>\n",
              "  </tbody>\n",
              "</table>\n",
              "</div>"
            ],
            "text/plain": [
              "   userId  movieId  rating             title  userSeq  movieSeq\n",
              "0       1        1     4.0  Toy Story (1995)        0         0\n",
              "1       5        1     4.0  Toy Story (1995)        4         0\n",
              "2       7        1     4.5  Toy Story (1995)        6         0\n",
              "3      15        1     2.5  Toy Story (1995)       14         0\n",
              "4      17        1     4.5  Toy Story (1995)       16         0\n",
              "5      18        1     3.5  Toy Story (1995)       17         0\n",
              "6      19        1     4.0  Toy Story (1995)       18         0\n",
              "7      21        1     3.5  Toy Story (1995)       20         0\n",
              "8      27        1     3.0  Toy Story (1995)       26         0\n",
              "9      31        1     5.0  Toy Story (1995)       30         0"
            ]
          },
          "metadata": {
            "tags": []
          },
          "execution_count": 24
        }
      ]
    },
    {
      "cell_type": "code",
      "metadata": {
        "id": "4cs0-O6wDXL2",
        "colab_type": "code",
        "outputId": "706c517f-27b2-44c6-ddbe-766c89e40b22",
        "colab": {
          "base_uri": "https://localhost:8080/",
          "height": 54
        }
      },
      "source": [
        "train_unnused , test= train_test_split(ratings,test_size = 0.20, random_state =0)\n",
        "\n",
        "# All data is used for training\n",
        "train = ratings\n",
        "\n",
        "numUsers = len(train.userSeq.unique())\n",
        "numMovies = len(train.movieSeq.unique())\n",
        "print((numUsers, numMovies))\n",
        "print((len(train), len(test)))"
      ],
      "execution_count": 25,
      "outputs": [
        {
          "output_type": "stream",
          "text": [
            "(610, 9724)\n",
            "(100836, 20168)\n"
          ],
          "name": "stdout"
        }
      ]
    },
    {
      "cell_type": "code",
      "metadata": {
        "id": "Du7UWgzS4Ywl",
        "colab_type": "code",
        "outputId": "6a26bab2-428a-45c6-b41d-c0d17f2274ba",
        "colab": {
          "base_uri": "https://localhost:8080/",
          "height": 733
        }
      },
      "source": [
        "numFeatures = 50\n",
        "dropout = 0.0\n",
        "\n",
        "user_input = Input(shape=(1,))\n",
        "user_emb = Embedding(numUsers, numFeatures)(user_input)\n",
        "flat_user = Flatten()(user_emb)\n",
        "user_dropout = Dropout(dropout)(flat_user)\n",
        "\n",
        "movie_input = Input(shape=(1,))\n",
        "movie_emb = Embedding(numMovies, numFeatures)(movie_input)\n",
        "flat_movie = Flatten()(movie_emb)\n",
        "movie_dropout = Dropout(dropout)(flat_movie)\n",
        "\n",
        "dotProduct = Dot(axes=1)([user_dropout, movie_dropout])\n",
        "\n",
        "user_bias = Embedding(numUsers, 1)(user_input)\n",
        "movie_bias = Embedding(numMovies, 1)(movie_input)\n",
        "sum = Add()([dotProduct, user_bias, movie_bias])\n",
        "flat_sum = Flatten()(sum)\n",
        "output = Dropout(dropout)(flat_sum)\n",
        "\n",
        "model = Model([user_input, movie_input], output)\n",
        "\n",
        "model.summary()"
      ],
      "execution_count": 26,
      "outputs": [
        {
          "output_type": "stream",
          "text": [
            "Model: \"model_1\"\n",
            "__________________________________________________________________________________________________\n",
            "Layer (type)                    Output Shape         Param #     Connected to                     \n",
            "==================================================================================================\n",
            "input_3 (InputLayer)            [(None, 1)]          0                                            \n",
            "__________________________________________________________________________________________________\n",
            "input_4 (InputLayer)            [(None, 1)]          0                                            \n",
            "__________________________________________________________________________________________________\n",
            "embedding_4 (Embedding)         (None, 1, 50)        30500       input_3[0][0]                    \n",
            "__________________________________________________________________________________________________\n",
            "embedding_5 (Embedding)         (None, 1, 50)        486200      input_4[0][0]                    \n",
            "__________________________________________________________________________________________________\n",
            "flatten_3 (Flatten)             (None, 50)           0           embedding_4[0][0]                \n",
            "__________________________________________________________________________________________________\n",
            "flatten_4 (Flatten)             (None, 50)           0           embedding_5[0][0]                \n",
            "__________________________________________________________________________________________________\n",
            "dropout_3 (Dropout)             (None, 50)           0           flatten_3[0][0]                  \n",
            "__________________________________________________________________________________________________\n",
            "dropout_4 (Dropout)             (None, 50)           0           flatten_4[0][0]                  \n",
            "__________________________________________________________________________________________________\n",
            "dot_1 (Dot)                     (None, 1)            0           dropout_3[0][0]                  \n",
            "                                                                 dropout_4[0][0]                  \n",
            "__________________________________________________________________________________________________\n",
            "embedding_6 (Embedding)         (None, 1, 1)         610         input_3[0][0]                    \n",
            "__________________________________________________________________________________________________\n",
            "embedding_7 (Embedding)         (None, 1, 1)         9724        input_4[0][0]                    \n",
            "__________________________________________________________________________________________________\n",
            "add_1 (Add)                     (None, 1, 1)         0           dot_1[0][0]                      \n",
            "                                                                 embedding_6[0][0]                \n",
            "                                                                 embedding_7[0][0]                \n",
            "__________________________________________________________________________________________________\n",
            "flatten_5 (Flatten)             (None, 1)            0           add_1[0][0]                      \n",
            "__________________________________________________________________________________________________\n",
            "dropout_5 (Dropout)             (None, 1)            0           flatten_5[0][0]                  \n",
            "==================================================================================================\n",
            "Total params: 527,034\n",
            "Trainable params: 527,034\n",
            "Non-trainable params: 0\n",
            "__________________________________________________________________________________________________\n"
          ],
          "name": "stdout"
        }
      ]
    },
    {
      "cell_type": "code",
      "metadata": {
        "id": "_ZbB-Q6a54o6",
        "colab_type": "code",
        "outputId": "75a84311-67d9-4f16-b09c-2faf72e05002",
        "colab": {
          "base_uri": "https://localhost:8080/",
          "height": 662
        }
      },
      "source": [
        "model.compile(loss='mean_squared_error', optimizer=Adam())\n",
        "history = model.fit([train.userSeq, train.movieSeq], train.rating,\n",
        "                    batch_size=32, epochs=10, verbose=1,\n",
        "                    validation_data=([test.userSeq, test.movieSeq], test.rating))\n",
        "\n",
        "plt.plot(history.history['loss'])\n",
        "plt.plot(history.history['val_loss'])\n",
        "plt.title('Model accuracy')\n",
        "plt.ylabel('Accuracy')\n",
        "plt.xlabel('Epoch')\n",
        "plt.legend(['Train', 'Test'], loc='upper left')\n",
        "plt.show()"
      ],
      "execution_count": 27,
      "outputs": [
        {
          "output_type": "stream",
          "text": [
            "Epoch 1/10\n",
            "3152/3152 [==============================] - 26s 8ms/step - loss: 6.3157 - val_loss: 1.4770\n",
            "Epoch 2/10\n",
            "3152/3152 [==============================] - 26s 8ms/step - loss: 1.1505 - val_loss: 0.7990\n",
            "Epoch 3/10\n",
            "3152/3152 [==============================] - 26s 8ms/step - loss: 0.8042 - val_loss: 0.6317\n",
            "Epoch 4/10\n",
            "3152/3152 [==============================] - 26s 8ms/step - loss: 0.6614 - val_loss: 0.5228\n",
            "Epoch 5/10\n",
            "3152/3152 [==============================] - 26s 8ms/step - loss: 0.5528 - val_loss: 0.4364\n",
            "Epoch 6/10\n",
            "3152/3152 [==============================] - 26s 8ms/step - loss: 0.4627 - val_loss: 0.3670\n",
            "Epoch 7/10\n",
            "3152/3152 [==============================] - 25s 8ms/step - loss: 0.3874 - val_loss: 0.3009\n",
            "Epoch 8/10\n",
            "3152/3152 [==============================] - 26s 8ms/step - loss: 0.3213 - val_loss: 0.2490\n",
            "Epoch 9/10\n",
            "3152/3152 [==============================] - 25s 8ms/step - loss: 0.2652 - val_loss: 0.1991\n",
            "Epoch 10/10\n",
            "3152/3152 [==============================] - 25s 8ms/step - loss: 0.2181 - val_loss: 0.1623\n"
          ],
          "name": "stdout"
        },
        {
          "output_type": "display_data",
          "data": {
            "image/png": "[encoded data removed]",
            "text/plain": [
              "<Figure size 432x288 with 1 Axes>"
            ]
          },
          "metadata": {
            "tags": [],
            "needs_background": "light"
          }
        }
      ]
    }
  ]
}