{
  "nbformat": 4,
  "nbformat_minor": 0,
  "metadata": {
    "kernelspec": {
      "display_name": "Python 3",
      "language": "python",
      "name": "python3"
    },
    "language_info": {
      "codemirror_mode": {
        "name": "ipython",
        "version": 3
      },
      "file_extension": ".py",
      "mimetype": "text/x-python",
      "name": "python",
      "nbconvert_exporter": "python",
      "pygments_lexer": "ipython3",
      "version": "3.6.8"
    },
    "colab": {
      "name": "Airline_Passengers.ipynb",
      "provenance": []
    }
  },
  "cells": [
    {
      "cell_type": "markdown",
      "metadata": {
        "id": "N-EWfqxF7UJr",
        "colab_type": "text"
      },
      "source": [
        "## Airline Passenger Volume\n",
        "\n",
        "This model predicts the volume of airline passengers using historical data from January 1949 to December 1960, with a total of 144 observations. Even with this modest data set, surprisingly accurate predictions are possible. The data set is available on [Kaggle](https://www.kaggle.com/chirag19/air-passengers).\n",
        "\n",
        "This is time series data, which is well suited to Long-Short Term Memory ([LSTM](https://en.wikipedia.org/wiki/Long_short-term_memory))."
      ]
    },
    {
      "cell_type": "code",
      "metadata": {
        "id": "50H9W1h39fwG",
        "colab_type": "code",
        "colab": {
          "base_uri": "https://localhost:8080/",
          "height": 34
        },
        "outputId": "0d91b149-f50e-47e6-f738-96a152e10010"
      },
      "source": [
        "%tensorflow_version 2.x"
      ],
      "execution_count": 1,
      "outputs": [
        {
          "output_type": "stream",
          "text": [
            "TensorFlow 2.x selected.\n"
          ],
          "name": "stdout"
        }
      ]
    },
    {
      "cell_type": "code",
      "metadata": {
        "id": "o6T_N9XV7UJt",
        "colab_type": "code",
        "colab": {}
      },
      "source": [
        "import numpy as np\n",
        "import matplotlib.pyplot as plt\n",
        "import pandas as pd\n",
        "import math\n",
        "from tensorflow.keras.models import Sequential\n",
        "from tensorflow.keras.layers import Dense\n",
        "from tensorflow.keras.layers import LSTM\n",
        "from sklearn.preprocessing import MinMaxScaler\n",
        "from sklearn.metrics import mean_squared_error"
      ],
      "execution_count": 0,
      "outputs": []
    },
    {
      "cell_type": "code",
      "metadata": {
        "id": "MG56ckco7UJw",
        "colab_type": "code",
        "colab": {}
      },
      "source": [
        "# A convenience function to generate the current (X) and next (Y) sequence of data\n",
        "def create_dataset(dataset, look_back=1):\n",
        "    dataX, dataY = [], []\n",
        "    for i in range(len(dataset)-look_back-1):\n",
        "        dataX.append(dataset[i, 0])\n",
        "        dataY.append(dataset[i + look_back, 0])\n",
        "    return np.array(dataX), np.array(dataY)"
      ],
      "execution_count": 0,
      "outputs": []
    },
    {
      "cell_type": "markdown",
      "metadata": {
        "id": "WAI6Qf2K7UJy",
        "colab_type": "text"
      },
      "source": [
        "## Training Data\n",
        "\n",
        "The data is collected monthly, in units of 1000s of international passengers. The number of passengers expectedly increases with time. The data also appears cyclical, maybe due to holiday travel. LSTMs are capable of learning both features.\n",
        "\n",
        "The data set is available on [Kaggle](https://www.kaggle.com/chirag19/air-passengers). It's in a zip file named air-passengers.zip, so you can unzip it using the following command."
      ]
    },
    {
      "cell_type": "code",
      "metadata": {
        "id": "HL1nzygp-ULv",
        "colab_type": "code",
        "colab": {
          "base_uri": "https://localhost:8080/",
          "height": 51
        },
        "outputId": "b06aa44c-1df1-41c4-94a5-fef803891e2f"
      },
      "source": [
        "!unzip air-passengers.zip"
      ],
      "execution_count": 4,
      "outputs": [
        {
          "output_type": "stream",
          "text": [
            "Archive:  air-passengers.zip\n",
            "  inflating: AirPassengers.csv       \n"
          ],
          "name": "stdout"
        }
      ]
    },
    {
      "cell_type": "code",
      "metadata": {
        "id": "Ug4SPWe87UJz",
        "colab_type": "code",
        "colab": {
          "base_uri": "https://localhost:8080/",
          "height": 295
        },
        "outputId": "0aafd20a-d55f-47d4-a3bb-df659fd24fe2"
      },
      "source": [
        "dataframe = pd.read_csv('AirPassengers.csv', usecols=[1], engine='python')\n",
        "raw_data = dataframe.values.astype('float32')\n",
        "\n",
        "plt.plot(raw_data)\n",
        "plt.title('Passenger Volume')\n",
        "plt.ylabel('Passengers (thousands)')\n",
        "plt.xlabel('Month')\n",
        "plt.show()"
      ],
      "execution_count": 5,
      "outputs": [
        {
          "output_type": "display_data",
          "data": {
            "image/png": "[encoded data removed]",
            "text/plain": [
              "<Figure size 432x288 with 1 Axes>"
            ]
          },
          "metadata": {
            "tags": []
          }
        }
      ]
    },
    {
      "cell_type": "markdown",
      "metadata": {
        "id": "--RP6h4z7UJ2",
        "colab_type": "text"
      },
      "source": [
        "## Data Preparation"
      ]
    },
    {
      "cell_type": "code",
      "metadata": {
        "id": "RPiEjY8J7UJ3",
        "colab_type": "code",
        "colab": {}
      },
      "source": [
        "# Normalize the dataset\n",
        "scaler = MinMaxScaler(feature_range=(0, 1))\n",
        "dataset = scaler.fit_transform(raw_data)\n",
        "\n",
        "# Split into train and test sets\n",
        "train_size = int(len(dataset) * 0.67)\n",
        "test_size = len(dataset) - train_size\n",
        "train, test = dataset[0:train_size,:], dataset[train_size:len(dataset),:]\n",
        "\n",
        "# Create X=t and Y=t+1 datasets\n",
        "look_back = 1\n",
        "trainX, trainY = create_dataset(train, look_back)\n",
        "testX, testY = create_dataset(test, look_back)\n",
        "\n",
        "# Reshape input to be [samples, time steps, features]\n",
        "trainX = np.reshape(trainX, (trainX.shape[0], 1, 1))\n",
        "testX = np.reshape(testX, (testX.shape[0], 1, 1))"
      ],
      "execution_count": 0,
      "outputs": []
    },
    {
      "cell_type": "markdown",
      "metadata": {
        "id": "5INPi4jP7UJ6",
        "colab_type": "text"
      },
      "source": [
        "## Train Model\n",
        "\n",
        "A simple, but effective model."
      ]
    },
    {
      "cell_type": "code",
      "metadata": {
        "id": "MTxbvWcW7UJ7",
        "colab_type": "code",
        "colab": {
          "base_uri": "https://localhost:8080/",
          "height": 1000
        },
        "outputId": "c06a7b87-b656-433c-99f3-055163de10d2"
      },
      "source": [
        "# Define and fit the LSTM network\n",
        "model = Sequential()\n",
        "model.add(LSTM(4))\n",
        "model.add(Dense(1))\n",
        "model.compile(loss='mean_squared_error', optimizer='adam')\n",
        "history = model.fit(trainX, trainY, epochs=40, batch_size=1, verbose=1)"
      ],
      "execution_count": 11,
      "outputs": [
        {
          "output_type": "stream",
          "text": [
            "Train on 94 samples\n",
            "Epoch 1/40\n",
            "94/94 [==============================] - 1s 14ms/sample - loss: 0.0679\n",
            "Epoch 2/40\n",
            "94/94 [==============================] - 0s 2ms/sample - loss: 0.0359\n",
            "Epoch 3/40\n",
            "94/94 [==============================] - 0s 2ms/sample - loss: 0.0266\n",
            "Epoch 4/40\n",
            "94/94 [==============================] - 0s 2ms/sample - loss: 0.0241\n",
            "Epoch 5/40\n",
            "94/94 [==============================] - 0s 2ms/sample - loss: 0.0226\n",
            "Epoch 6/40\n",
            "94/94 [==============================] - 0s 2ms/sample - loss: 0.0216\n",
            "Epoch 7/40\n",
            "94/94 [==============================] - 0s 2ms/sample - loss: 0.0209\n",
            "Epoch 8/40\n",
            "94/94 [==============================] - 0s 2ms/sample - loss: 0.0201\n",
            "Epoch 9/40\n",
            "94/94 [==============================] - 0s 2ms/sample - loss: 0.0193\n",
            "Epoch 10/40\n",
            "94/94 [==============================] - 0s 2ms/sample - loss: 0.0185\n",
            "Epoch 11/40\n",
            "94/94 [==============================] - 0s 2ms/sample - loss: 0.0177\n",
            "Epoch 12/40\n",
            "94/94 [==============================] - 0s 2ms/sample - loss: 0.0170\n",
            "Epoch 13/40\n",
            "94/94 [==============================] - 0s 2ms/sample - loss: 0.0161\n",
            "Epoch 14/40\n",
            "94/94 [==============================] - 0s 2ms/sample - loss: 0.0153\n",
            "Epoch 15/40\n",
            "94/94 [==============================] - 0s 2ms/sample - loss: 0.0144\n",
            "Epoch 16/40\n",
            "94/94 [==============================] - 0s 2ms/sample - loss: 0.0136\n",
            "Epoch 17/40\n",
            "94/94 [==============================] - 0s 2ms/sample - loss: 0.0128\n",
            "Epoch 18/40\n",
            "94/94 [==============================] - 0s 2ms/sample - loss: 0.0118\n",
            "Epoch 19/40\n",
            "94/94 [==============================] - 0s 2ms/sample - loss: 0.0109\n",
            "Epoch 20/40\n",
            "94/94 [==============================] - 0s 2ms/sample - loss: 0.0101\n",
            "Epoch 21/40\n",
            "94/94 [==============================] - 0s 2ms/sample - loss: 0.0092\n",
            "Epoch 22/40\n",
            "94/94 [==============================] - 0s 2ms/sample - loss: 0.0083\n",
            "Epoch 23/40\n",
            "94/94 [==============================] - 0s 2ms/sample - loss: 0.0073\n",
            "Epoch 24/40\n",
            "94/94 [==============================] - 0s 2ms/sample - loss: 0.0065\n",
            "Epoch 25/40\n",
            "94/94 [==============================] - 0s 2ms/sample - loss: 0.0058\n",
            "Epoch 26/40\n",
            "94/94 [==============================] - 0s 2ms/sample - loss: 0.0051\n",
            "Epoch 27/40\n",
            "94/94 [==============================] - 0s 2ms/sample - loss: 0.0045\n",
            "Epoch 28/40\n",
            "94/94 [==============================] - 0s 2ms/sample - loss: 0.0040\n",
            "Epoch 29/40\n",
            "94/94 [==============================] - 0s 2ms/sample - loss: 0.0035\n",
            "Epoch 30/40\n",
            "94/94 [==============================] - 0s 2ms/sample - loss: 0.0031\n",
            "Epoch 31/40\n",
            "94/94 [==============================] - 0s 2ms/sample - loss: 0.0028\n",
            "Epoch 32/40\n",
            "94/94 [==============================] - 0s 2ms/sample - loss: 0.0027\n",
            "Epoch 33/40\n",
            "94/94 [==============================] - 0s 2ms/sample - loss: 0.0024\n",
            "Epoch 34/40\n",
            "94/94 [==============================] - 0s 2ms/sample - loss: 0.0023\n",
            "Epoch 35/40\n",
            "94/94 [==============================] - 0s 2ms/sample - loss: 0.0023\n",
            "Epoch 36/40\n",
            "94/94 [==============================] - 0s 2ms/sample - loss: 0.0022\n",
            "Epoch 37/40\n",
            "94/94 [==============================] - 0s 2ms/sample - loss: 0.0022\n",
            "Epoch 38/40\n",
            "94/94 [==============================] - 0s 2ms/sample - loss: 0.0022\n",
            "Epoch 39/40\n",
            "94/94 [==============================] - 0s 2ms/sample - loss: 0.0021\n",
            "Epoch 40/40\n",
            "94/94 [==============================] - 0s 2ms/sample - loss: 0.0021\n"
          ],
          "name": "stdout"
        }
      ]
    },
    {
      "cell_type": "markdown",
      "metadata": {
        "id": "PGDPp87X7UJ-",
        "colab_type": "text"
      },
      "source": [
        "## Model Loss"
      ]
    },
    {
      "cell_type": "code",
      "metadata": {
        "id": "wTqyV7637UJ_",
        "colab_type": "code",
        "colab": {
          "base_uri": "https://localhost:8080/",
          "height": 312
        },
        "outputId": "4f0e7e57-d5ef-4d2b-8b30-f88a01ab2b70"
      },
      "source": [
        "plt.plot(history.history['loss'])\n",
        "plt.title('Model loss')\n",
        "plt.ylabel('Loss')\n",
        "plt.xlabel('Epoch')\n",
        "plt.legend(['Train'], loc='upper left')\n",
        "plt.show()\n",
        "print(\"Minimum loss: %.3f\" % history.history['loss'][-1])"
      ],
      "execution_count": 12,
      "outputs": [
        {
          "output_type": "display_data",
          "data": {
            "image/png": "[encoded data removed]",
            "text/plain": [
              "<Figure size 432x288 with 1 Axes>"
            ]
          },
          "metadata": {
            "tags": []
          }
        },
        {
          "output_type": "stream",
          "text": [
            "Minimum loss: 0.002\n"
          ],
          "name": "stdout"
        }
      ]
    },
    {
      "cell_type": "markdown",
      "metadata": {
        "id": "CUmM58DE7UKB",
        "colab_type": "text"
      },
      "source": [
        "## Prediction"
      ]
    },
    {
      "cell_type": "code",
      "metadata": {
        "id": "9-6MZZsg7UKC",
        "colab_type": "code",
        "colab": {
          "base_uri": "https://localhost:8080/",
          "height": 51
        },
        "outputId": "a113342d-f861-4ef7-b5b6-00fd3d0deb67"
      },
      "source": [
        "trainPredict = model.predict(trainX)\n",
        "testPredict = model.predict(testX)\n",
        "\n",
        "# Invert predictions\n",
        "trainPredict = scaler.inverse_transform(trainPredict)\n",
        "invTrainY = scaler.inverse_transform([trainY])\n",
        "testPredict = scaler.inverse_transform(testPredict)\n",
        "invTestY = scaler.inverse_transform([testY])\n",
        "\n",
        "# Calculate root mean squared error\n",
        "trainScore = math.sqrt(mean_squared_error(invTrainY[0], trainPredict[:,0]))\n",
        "print('Train Score: %.2f RMSE' % (trainScore))\n",
        "testScore = math.sqrt(mean_squared_error(invTestY[0], testPredict[:,0]))\n",
        "print('Test Score: %.2f RMSE' % (testScore))"
      ],
      "execution_count": 9,
      "outputs": [
        {
          "output_type": "stream",
          "text": [
            "Train Score: 23.20 RMSE\n",
            "Test Score: 48.09 RMSE\n"
          ],
          "name": "stdout"
        }
      ]
    },
    {
      "cell_type": "code",
      "metadata": {
        "id": "pb8of9C97UKF",
        "colab_type": "code",
        "colab": {
          "base_uri": "https://localhost:8080/",
          "height": 295
        },
        "outputId": "0ce1f645-b712-4c6c-ce1a-b5c52919fece"
      },
      "source": [
        "# Shift train predictions for plotting\n",
        "trainPredictPlot = np.empty_like(dataset)\n",
        "trainPredictPlot[:, :] = np.nan\n",
        "trainPredictPlot[look_back:len(trainPredict)+look_back, :] = trainPredict\n",
        "\n",
        "# Shift test predictions for plotting\n",
        "testPredictPlot = np.empty_like(dataset)\n",
        "testPredictPlot[:, :] = np.nan\n",
        "testPredictPlot[len(trainPredict)+(look_back*2)+1:len(dataset)-1, :] = testPredict\n",
        "\n",
        "# Plot ground truth and predictions\n",
        "plt.plot(scaler.inverse_transform(dataset), color='green', linewidth=1.0)\n",
        "plt.plot(trainPredictPlot, color='blue', linewidth=1.0)\n",
        "plt.plot(testPredictPlot, color='red', linewidth=1.0)\n",
        "plt.title('Passenger Volume')\n",
        "plt.ylabel('1000s')\n",
        "plt.xlabel('Month')\n",
        "plt.legend(['Ground truth', 'Train', 'Test'], loc='upper left')\n",
        "plt.show()"
      ],
      "execution_count": 10,
      "outputs": [
        {
          "output_type": "display_data",
          "data": {
            "image/png": "[encoded data removed]",
            "text/plain": [
              "<Figure size 432x288 with 1 Axes>"
            ]
          },
          "metadata": {
            "tags": []
          }
        }
      ]
    },
    {
      "cell_type": "code",
      "metadata": {
        "id": "bHixkv8M7UKH",
        "colab_type": "code",
        "colab": {}
      },
      "source": [
        ""
      ],
      "execution_count": 0,
      "outputs": []
    }
  ]
}